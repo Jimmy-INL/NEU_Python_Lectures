{
 "cells": [
  {
   "cell_type": "code",
   "execution_count": 1,
   "metadata": {
    "collapsed": true
   },
   "outputs": [],
   "source": [
    "from IPython.display import Image\n",
    "from IPython.core.display import HTML \n",
    "from IPython.display import display_html\n",
    "from IPython.display import display\n",
    "from IPython.display import Math\n",
    "from IPython.display import Latex\n",
    "from IPython.display import HTML"
   ]
  },
  {
   "cell_type": "code",
   "execution_count": 3,
   "metadata": {},
   "outputs": [
    {
     "data": {
      "text/html": [
       "<img src=\"https://vignette1.wikia.nocookie.net/epicrapbattlesofhistory/images/a/a9/Arnold_Schwarzenegger_do_it_now_meme.jpg/revision/latest?cb=20140503022504\" width=\"350\" height=\"500\"/>"
      ],
      "text/plain": [
       "<IPython.core.display.Image object>"
      ]
     },
     "execution_count": 3,
     "metadata": {},
     "output_type": "execute_result"
    }
   ],
   "source": [
    "Image(url ='https://vignette1.wikia.nocookie.net/epicrapbattlesofhistory/images/a/a9/Arnold_Schwarzenegger_do_it_now_meme.jpg/revision/latest?cb=20140503022504', height=500, width=350)"
   ]
  },
  {
   "cell_type": "markdown",
   "metadata": {
    "collapsed": true
   },
   "source": [
    "# Let us start with basic math. \n",
    "- A teacher wants to find a way to grade her quizzes for a semester: $Q_0$ , $Q_1$, and $Q_2$\n",
    "- Her first student, April, got $20/30$, $32/30$, and $44/50$ respectively\n",
    "- Define each quiz with the appropriate grade below"
   ]
  },
  {
   "cell_type": "code",
   "execution_count": null,
   "metadata": {
    "collapsed": true
   },
   "outputs": [],
   "source": [
    "# To print the decimal grade you do:\n",
    "\n",
    "# CHANGE ME\n",
    "Q0 = 0 # Quiz 1\n",
    "Q1 = 0 # Quiz 2\n",
    "Q2 = 0 # Quiz 3\n",
    "\n",
    "# How can we give each quiz its percentage grade?\n",
    "print(Q0)\n",
    "print(Q1)\n",
    "print(Q2)\n"
   ]
  },
  {
   "cell_type": "markdown",
   "metadata": {},
   "source": [
    "# Averaging Grades \n",
    "- Remember that if you want to compute the average score for a student, you need to add up all of their scores, and divide by the number of quizzes\n",
    "- Let $n$ = the number of quizzes\n",
    "- Let $Q_0,Q_1,Q_2,\\ldots ,  Q_{n-1}$ be the respective scores\n",
    "- Then the average score for this student is exactly $$ \\frac{\\sum_{i=0}^{n-1} Q_i}{n} = \\frac{Q_0 + Q_1 + \\ldots + Q_{n-1}}{n}$$"
   ]
  },
  {
   "cell_type": "code",
   "execution_count": 6,
   "metadata": {},
   "outputs": [
    {
     "name": "stdout",
     "output_type": "stream",
     "text": [
      "False\n"
     ]
    }
   ],
   "source": [
    "# Now let's create an average of the quizes\n",
    "# In this case, what is n?\n",
    "n = -1 # This is not right! Change me\n",
    "\n",
    "# Now use the formula above to compute the mean\n",
    "# We suggest you break this down into 2 steps\n",
    "# First, compute the total score (IE, the sum over all quiz scores)\n",
    "total = -1 # FIX ME\n",
    "\n",
    "# Then, divide by the number of quizzes taken\n",
    "avg = total/n"
   ]
  },
  {
   "cell_type": "markdown",
   "metadata": {},
   "source": [
    "# Does April Pass?\n",
    "- We can see that April will likely pass her class with at least a $B$ ($80\\%$ or above) But as computer scientists, we don't have to guess. \n",
    "- Verify using boolean operators whether or not April will pass the class. "
   ]
  },
  {
   "cell_type": "code",
   "execution_count": 8,
   "metadata": {},
   "outputs": [
    {
     "name": "stdout",
     "output_type": "stream",
     "text": [
      "False\n"
     ]
    }
   ],
   "source": [
    "\n",
    "# We can see that april did alright for her quizes. \n",
    "# Can we double check that she can is passing with more than an 80%?\n",
    "\n",
    "print(avg >= 80)\n",
    "\n",
    "# pop quiz: what data type is the average score (avg)?\n",
    "# Verify your guess below using the type function\n",
    "\n"
   ]
  },
  {
   "cell_type": "code",
   "execution_count": 9,
   "metadata": {
    "collapsed": true
   },
   "outputs": [],
   "source": [
    "# Now if we have to make it pretty. We need to put the grades, averages, and the name of the student in one line\n",
    "# we want it to say: Hello April. Your quiz grades are ..., ..., ..., with an average of ...%. \n"
   ]
  },
  {
   "cell_type": "code",
   "execution_count": null,
   "metadata": {
    "collapsed": true
   },
   "outputs": [],
   "source": []
  }
 ],
 "metadata": {
  "kernelspec": {
   "display_name": "Python 3",
   "language": "python",
   "name": "python3"
  },
  "language_info": {
   "codemirror_mode": {
    "name": "ipython",
    "version": 3
   },
   "file_extension": ".py",
   "mimetype": "text/x-python",
   "name": "python",
   "nbconvert_exporter": "python",
   "pygments_lexer": "ipython3",
   "version": "3.6.0"
  }
 },
 "nbformat": 4,
 "nbformat_minor": 2
}
