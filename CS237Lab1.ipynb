{
 "cells": [
  {
   "cell_type": "code",
   "execution_count": 57,
   "metadata": {
    "collapsed": true
   },
   "outputs": [],
   "source": [
    "# Jupyter notebook specific \n",
    "from IPython.display import Image\n",
    "from IPython.core.display import HTML \n",
    "from IPython.display import display_html\n",
    "from IPython.display import display\n",
    "from IPython.display import Math\n",
    "from IPython.display import Latex\n",
    "from IPython.display import HTML\n",
    "\n",
    "# TO be used as an asignment for CS-237\n",
    "# @Author: Kai Bernardini (kaidb@bu.edu)\n",
    "# Due Date: TBD\n",
    "import numpy as np\n",
    "import matplotlib.pyplot as plt\n",
    "import pandas as pd\n",
    "from numpy.random import seed, randint, uniform\n",
    "from collections import Counter"
   ]
  },
  {
   "cell_type": "code",
   "execution_count": 58,
   "metadata": {},
   "outputs": [
    {
     "data": {
      "text/html": [
       "<img src=\"https://s-media-cache-ak0.pinimg.com/736x/17/8c/bd/178cbd337399c89c20ded27b4da6c2d0.jpg\"/>"
      ],
      "text/plain": [
       "<IPython.core.display.Image object>"
      ]
     },
     "execution_count": 58,
     "metadata": {},
     "output_type": "execute_result"
    }
   ],
   "source": [
    "Image(url = \"https://s-media-cache-ak0.pinimg.com/736x/17/8c/bd/178cbd337399c89c20ded27b4da6c2d0.jpg\")"
   ]
  },
  {
   "cell_type": "markdown",
   "metadata": {},
   "source": [
    "# CS-237 Lab 1 \n",
    "- What this lab covers:\n",
    "    - Basic introduction to Monte Carlo Simulation.\n",
    "    - Basic introduction to computational tools in probability (using python!)\n",
    "\n"
   ]
  },
  {
   "cell_type": "markdown",
   "metadata": {},
   "source": [
    "# What is Python and who uses it?\n",
    "- Python is a powerful open source general purpose programing language.\n",
    "- Open source means all of the source code is public.\n",
    "- Python has a massive community built around sharing code and ideas. \n",
    "- It uses simple syntax making it an excellent choice for a first programing language.\n",
    "- Python is leveraged by many companies  to build complex web applications including. \n",
    "    - Disney, Dreamworks, Lucasfilm and many more use python to coordinate massive computer clusters to render blockbuster movies. \n",
    "- Is regarded by many as the swiss army knife of machine learning (statistics/data science) \n",
    "- More examples at https://www.python.org/about/success/\n"
   ]
  },
  {
   "cell_type": "markdown",
   "metadata": {},
   "source": [
    "# Anaconda Distribution of Python \n",
    "- Download from https://www.continuum.io/downloads\n",
    "    - Make sure its python 3! \n",
    "    - Be sure to pick the correct Oppperating System (O.S.) (IE Windows, MAC OS, (Linux?)"
   ]
  },
  {
   "cell_type": "markdown",
   "metadata": {},
   "source": [
    "# Starting Jupyter \n",
    "- Open a Terminal \n",
    "    - For MAC OS, open your Applications folder, then open the Utilities folder. Open the Terminal application. You may want to add this to your dock.\n",
    "    - For Windows, simply search for CMD and run the result\n",
    "- In the terminal run $\\texttt{jupyter notebook}$\n",
    "- This will bring you to the home page. \n",
    "- Click new and then click python3 to create a new Ipython3 notebook.\n",
    "- If you do not want to use Jupyter and would rather develop your code in a usual IDE, type $\\texttt{spyder}$ in the command prompt instead. \n",
    "    - Alternatively, use the Anaconda Navigator that will be installed in folder anaconda was installed to. \n"
   ]
  },
  {
   "cell_type": "markdown",
   "metadata": {},
   "source": [
    "# Typesetting using $\\LaTeX$\n",
    "- You can change the cell type in Jupyter notebook to execute Latex Commands. \n",
    "- Simply put math equations in between two dollar signs "
   ]
  },
  {
   "cell_type": "markdown",
   "metadata": {},
   "source": [
    "# Plotting in Python\n",
    "- We will be using Matplotlib for plotting and graphing. "
   ]
  },
  {
   "cell_type": "code",
   "execution_count": 59,
   "metadata": {
    "collapsed": true
   },
   "outputs": [],
   "source": [
    "import matplotlib.pyplot as plt # plt is how we refer to plotting\n",
    "import matplotlib as mpl \n",
    "import seaborn as sns  # Fancy plotting \n",
    "#from datetime import datetime \n",
    "%matplotlib inline\n"
   ]
  },
  {
   "cell_type": "markdown",
   "metadata": {},
   "source": [
    "# Scatter plotting\n",
    "- Use the scatter function to plot a list of x values and the associated y values"
   ]
  },
  {
   "cell_type": "code",
   "execution_count": 60,
   "metadata": {},
   "outputs": [
    {
     "data": {
      "image/png": "[encoded data removed]",
      "text/plain": [
       "<matplotlib.figure.Figure at 0x110f240f0>"
      ]
     },
     "metadata": {},
     "output_type": "display_data"
    }
   ],
   "source": [
    "# Scatter plit take\n",
    "               # X values  # Y values \n",
    "plt.scatter([1,2,3,4], [2,3,6,8])\n",
    "plt.ylabel('some numbers')\n",
    "plt.show()"
   ]
  },
  {
   "cell_type": "markdown",
   "metadata": {},
   "source": [
    "# Plotting \n",
    "- Use the plot function to plot the curve through the ordered list of x values and y values"
   ]
  },
  {
   "cell_type": "code",
   "execution_count": 61,
   "metadata": {},
   "outputs": [
    {
     "data": {
      "text/plain": [
       "[<matplotlib.lines.Line2D at 0x1114690f0>]"
      ]
     },
     "execution_count": 61,
     "metadata": {},
     "output_type": "execute_result"
    },
    {
     "data": {
      "image/png": "[encoded data removed]",
      "text/plain": [
       "<matplotlib.figure.Figure at 0x11142e7b8>"
      ]
     },
     "metadata": {},
     "output_type": "display_data"
    }
   ],
   "source": [
    "# EXAMPLE: Plotting a square via lines \n",
    "plt.figure(num=None, figsize=(8, 8), dpi=89, facecolor='w', edgecolor='k')\n",
    "plt.plot([0,1],[0,0]) # Line connecting (0,0) to (1,0)\n",
    "plt.plot([0,0],[0,1]) # Line connecting (0,0) to (0,1)\n",
    "plt.plot([0,1],[1,1]) # Line connecting (0,1) to (1,1)\n",
    "plt.plot([1,1],[0,1]) # Line connecting (1,0) to (1,1)"
   ]
  },
  {
   "cell_type": "code",
   "execution_count": 62,
   "metadata": {},
   "outputs": [
    {
     "data": {
      "image/png": "[encoded data removed]",
      "text/plain": [
       "<matplotlib.figure.Figure at 0x110bcd5c0>"
      ]
     },
     "metadata": {},
     "output_type": "display_data"
    }
   ],
   "source": [
    "x = [i for i in range(10)]\n",
    "y = [i**2 for i in x]\n",
    "plt.plot(x,y)\n",
    "plt.show()"
   ]
  },
  {
   "cell_type": "code",
   "execution_count": 63,
   "metadata": {},
   "outputs": [
    {
     "data": {
      "text/plain": [
       "[<matplotlib.lines.Line2D at 0x11149fc50>]"
      ]
     },
     "execution_count": 63,
     "metadata": {},
     "output_type": "execute_result"
    },
    {
     "data": {
      "image/png": "[encoded data removed]",
      "text/plain": [
       "<matplotlib.figure.Figure at 0x110ca8d30>"
      ]
     },
     "metadata": {},
     "output_type": "display_data"
    }
   ],
   "source": [
    "x=np.arange(0,2*np.pi,.25)\n",
    "y=np.sin(x)\n",
    "plt.plot(x,y)"
   ]
  },
  {
   "cell_type": "code",
   "execution_count": null,
   "metadata": {
    "collapsed": true
   },
   "outputs": [],
   "source": []
  },
  {
   "cell_type": "markdown",
   "metadata": {},
   "source": [
    "# Problem 2\n",
    "Read and understand the function $\\texttt{dieRoll(n_trials)}$, that simulates the experiment of rolling a fair, six sided die $\\texttt{n_trials}$ times. \n",
    "- IE, for each iteration, $0<i<\\texttt{n_trials}$, $X_i \\in_{R} \\{1,2,3,4,5,6\\}$. \n",
    "- By definition, we know that for each experiment $X_i$, $$P[X_i = k]= 1/6$$ for $k\\in \\{1,2,3,4,5,6\\}$\n",
    "- In English, that means the probability of rolling a 1 is the same as rolling a 2, is the same as rolling a 3...etc \n",
    "- If we record the outcome for a large number of experiments, we would expect the number of outcomes to be evenly distributed. In other words, for a large number of trials, we would expect $$\\frac{\\text{number of times we observed a } k}{\\texttt{n_trials}} \\approx \\frac{1}{6}$$ for $k\\in \\{1,2,3,4,5,6\\}$\n",
    "- In this problem, you will confirm this intuition by using $\\texttt{dieRoll}$  to create a numpy vector of results. \n",
    "- You will then count the number of times each outcome occurred. (You might find python's Counter function useful)\n",
    "- Then finally, normalize your results by dividing the number of times each outcome occurred by $\\texttt{num_trials}$\n",
    "- Plot the results using a bar graph. "
   ]
  },
  {
   "cell_type": "code",
   "execution_count": 64,
   "metadata": {},
   "outputs": [],
   "source": [
    "def dieRoll(n_trials = 10000, seed=-1):\n",
    "    \"\"\"\n",
    "    - Simulates rolling a fair die n_trials times. IE, a number is selected from \n",
    "    - (1,2,3,4,5,6) with equal probability n_trials times. By default, n_trials is set to 10000\n",
    "    - randint(a,b) uniformly and randomly selects an  integer x such that a<= x < b\n",
    "    - The second argument for randint determines the shape of the result. In this case, we only need\n",
    "    - a one dimensional array ( a list)\n",
    "    \"\"\"\n",
    "    trials_and_results = randint(1,7,(n_trials)) \n",
    "    return trials_and_results\n",
    "\n",
    "example_trials = dieRoll() # "
   ]
  },
  {
   "cell_type": "code",
   "execution_count": 65,
   "metadata": {},
   "outputs": [
    {
     "name": "stdout",
     "output_type": "stream",
     "text": [
      "[0.1609, 0.1697, 0.159, 0.1699, 0.1691, 0.1714] 1.0\n"
     ]
    },
    {
     "data": {
      "image/png": "[encoded data removed]",
      "text/plain": [
       "<matplotlib.figure.Figure at 0x1114dd780>"
      ]
     },
     "metadata": {},
     "output_type": "display_data"
    }
   ],
   "source": [
    "# SOLUTION\n",
    "def single_die_hist(results):\n",
    "    \"\"\"\n",
    "    - Estimates the probability mass function (PMF) for the outcome of rolling a single, fair die.\n",
    "    @param: results -a numpy array indexed by trial number starting at trial 0 and ending at trial len(results)-1\n",
    "    - plots the mpirical estimate of the PMF\n",
    "    \"\"\"\n",
    "    n_trials = len(results)\n",
    "    # Counter is a useful method for summarizing counts in a list \n",
    "    sumary = Counter(results)\n",
    "    possible_rolls = [i for i in range(1,7)]\n",
    "    fin = [ sumary[i]/n_trials for i in possible_rolls]\n",
    "    print(fin, sum(fin))\n",
    "    plt.bar(possible_rolls, fin )\n",
    "    plt.xticks(range(7), possible_rolls)\n",
    "    plt.show()\n",
    "    \n",
    "single_die_hist(example_trials)"
   ]
  },
  {
   "cell_type": "code",
   "execution_count": 66,
   "metadata": {},
   "outputs": [
    {
     "name": "stdout",
     "output_type": "stream",
     "text": [
      "[ 0.1609  0.1697  0.159   0.1699  0.1691  0.1714]\n"
     ]
    },
    {
     "data": {
      "image/png": "[encoded data removed]",
      "text/plain": [
       "<matplotlib.figure.Figure at 0x110f6e8d0>"
      ]
     },
     "metadata": {},
     "output_type": "display_data"
    }
   ],
   "source": [
    "def alt_single_die_hist(results):\n",
    "    fig = plt.figure()\n",
    "    ax = fig.add_subplot(111)\n",
    "    # I don't like doing it this way, because I find the histogram function \n",
    "    # counter intuitive with the way it specifies the number of bins. \n",
    "    # For a problem where you know the indicies, you can get away without using it. \n",
    "    # However, sometimes you can get lucky and just pick 'auto' \n",
    "    # The way you would get thi\n",
    "    n,bins, patches = ax.hist(results,bins=np.arange(.5,7.5,1), normed = True, edgecolor='black' )\n",
    "    print(n)\n",
    "    fig.canvas.draw()\n",
    "    possible_rolls = [i for i in range(1,7)]\n",
    "    #plt.xticks(range(1,7), possible_rolls)\n",
    "    plt.show()\n",
    "alt_single_die_hist(example_trials)\n",
    "    \n",
    "        "
   ]
  },
  {
   "cell_type": "markdown",
   "metadata": {},
   "source": [
    "# Motivation for simulation\n",
    "- For the case of a fair die, the distribution is very easily computed. In general, it is very difficult to write down a closed form solution for the distribution of real world events. This is where simulation comes into play-- instead of mathematically computing the distribution explicitly, you can use this method of repeating experiments, and recording outcomes to understand the probabilistic rules governing some real world event. \n",
    "- As a motivating example, you will now do the same thing you did in the previous problem, but with a new experiment: instead of rolling one die and recording the value, you will simulate rolling $n$ dies and recording their sum. For example, if $n=2$ and  the first die shows up as a 3, and the second die shows up as a 1, the sum (and the value we record) would be 4. \n",
    "- Complete the two functions stubs below"
   ]
  },
  {
   "cell_type": "code",
   "execution_count": 67,
   "metadata": {
    "collapsed": true
   },
   "outputs": [],
   "source": [
    "# Hint, use help() on randint\n",
    "# You can generate random lists of numbers with one line of code\n",
    "# This function should look very similar to rollDie()\n",
    "\n",
    "def roll_and_add_Dice(n_dice ,n_trials = 10000):\n",
    "    \"\"\"\n",
    "    - Perform the trials\n",
    "    - randint(a,b) uniformly and randomly selects an  integer x such that a<= x < b\n",
    "    - The second argument determins the shape of the result. In this case, we only need\n",
    "    - a one dimensional array ( a list)\n",
    "    \"\"\"\n",
    "    pass"
   ]
  },
  {
   "cell_type": "code",
   "execution_count": 69,
   "metadata": {},
   "outputs": [
    {
     "name": "stdout",
     "output_type": "stream",
     "text": [
      "(2, 10000)\n"
     ]
    },
    {
     "data": {
      "text/plain": [
       "array([  5.,   7.,   8., ...,  12.,   9.,   8.])"
      ]
     },
     "execution_count": 69,
     "metadata": {},
     "output_type": "execute_result"
    }
   ],
   "source": [
    "# Solution\n",
    "def roll_and_add_Dice(n_dice ,n_trials = 10000):\n",
    "    \"\"\"\n",
    "    - Perform the trials\n",
    "    - randint(a,b) uniformly and randomly selects an  integer x such that a<= x < b\n",
    "    - The second argument determins the shape of the result. In this case, we only need\n",
    "    - a one dimensional array ( a list)\n",
    "    \"\"\"\n",
    "    trials_and_results = randint(1,7,(n_dice, n_trials))\n",
    "    print(trials_and_results.shape)\n",
    "    acum =  np.zeros(n_trials)\n",
    "    for i in range(len(trials_and_results)):\n",
    "        acum += trials_and_results[i]\n",
    "    return acum\n",
    "    \n",
    "\n",
    "example_multi_trial = roll_and_add_Dice(2)\n",
    "example_multi_trial"
   ]
  },
  {
   "cell_type": "code",
   "execution_count": null,
   "metadata": {
    "collapsed": true
   },
   "outputs": [],
   "source": [
    "def diceHist(results):\n",
    "    \"\"\"\n",
    "    - Estimates the probability mass function (PMF) for the outcome of rolling a single, fair die.\n",
    "    @param: results -a numpy array indexed by trial number starting at trial 0 and ending at trial len(results)-1\n",
    "    - plots the mpirical estimate of the PMF\n",
    "    \"\"\"\n",
    "    pass"
   ]
  },
  {
   "cell_type": "code",
   "execution_count": null,
   "metadata": {},
   "outputs": [],
   "source": [
    "# Solution \n",
    "def diceHist(results):\n",
    "    \"\"\"\n",
    "    - Estimates the probability mass function (PMF) for the outcome of rolling a single, fair die.\n",
    "    @param: results -a numpy array indexed by trial number starting at trial 0 and ending at trial len(results)-1\n",
    "    - plots the mpirical estimate of the PMF\n",
    "    \"\"\"\n",
    "    n_trials = len(results)\n",
    "    multi_die_range = range( int(min(results)), int(max(results))+1)\n",
    "    # Counter is a useful method for summarizing counts in a list \n",
    "    sumary = Counter(results)\n",
    "    possible_rolls = [i for i in multi_die_range]\n",
    "    fin = [ sumary[i]/n_trials for i in possible_rolls]\n",
    "    print(fin, sum(fin))\n",
    "    plt.bar(possible_rolls, fin )\n",
    "    plt.xticks(multi_die_range, possible_rolls)\n",
    "    plt.show()\n",
    "    return fin\n",
    "diceHist(example_multi_trial)"
   ]
  },
  {
   "cell_type": "code",
   "execution_count": null,
   "metadata": {
    "collapsed": true
   },
   "outputs": [],
   "source": [
    "def coinFlip(p):\n",
    "    \"\"\"Simple Bernoulli trial \"\"\"\n",
    "    return uniform(0,1) < p"
   ]
  },
  {
   "cell_type": "code",
   "execution_count": null,
   "metadata": {},
   "outputs": [],
   "source": [
    "def geometricFlip(p):\n",
    "    count = 0\n",
    "    while True:\n",
    "        count +=1\n",
    "        if uniform(0,1) < p:\n",
    "            return count\n",
    "    return -1 # there was an error \n",
    "\n",
    "geometricFlip(.5)"
   ]
  },
  {
   "cell_type": "code",
   "execution_count": null,
   "metadata": {},
   "outputs": [],
   "source": [
    "def geoHist(p, n_trials = 10000 ):\n",
    "    results = [geometricFlip(p) for i in range(n_trials)]\n",
    "    flip_range = range( int(min(results)), int(max(results))+1)\n",
    "    # slight modification, since we might not see all values \n",
    "    sumary = Counter(results)\n",
    "    possible_outcomes = [i for i in sorted(sumary.keys())]\n",
    "    fin = [ sumary[i]/n_trials for i in possible_outcomes]\n",
    "    print(fin, sum(fin))\n",
    "    plt.bar(possible_outcomes, fin )\n",
    "    plt.xticks(flip_range, possible_outcomes)\n",
    "    plt.show()\n",
    "geoHist(.5)"
   ]
  },
  {
   "cell_type": "code",
   "execution_count": null,
   "metadata": {},
   "outputs": [],
   "source": [
    "def randomPlane_plot(num_points):\n",
    "    x = uniform(0,1,(num_points))\n",
    "    y = uniform(0,1,(num_points))\n",
    "    plt.scatter(x,y, marker='x', c='red')\n",
    "    plt.show()\n",
    "[randomPlane_plot(100) for i in range(10)]"
   ]
  },
  {
   "cell_type": "code",
   "execution_count": null,
   "metadata": {
    "collapsed": true
   },
   "outputs": [],
   "source": [
    "def coinFlip(p):\n",
    "    \"\"\"Simple Bernoulli trial \"\"\"\n",
    "    return uniform(0,1) < p"
   ]
  },
  {
   "cell_type": "code",
   "execution_count": null,
   "metadata": {},
   "outputs": [],
   "source": [
    "def geometricFlip(p):\n",
    "    count = 0\n",
    "    while True:\n",
    "        count +=1\n",
    "        if uniform(0,1) < p:\n",
    "            return count\n",
    "    return \"Something went wrong!\"\n",
    "\n",
    "geometricFlip(.5)"
   ]
  },
  {
   "cell_type": "code",
   "execution_count": null,
   "metadata": {},
   "outputs": [],
   "source": [
    "randint(2)"
   ]
  },
  {
   "cell_type": "code",
   "execution_count": null,
   "metadata": {},
   "outputs": [],
   "source": [
    "counter = 1\n",
    "while randint(2)!= 1:\n",
    "    counter += 1\n",
    "counter"
   ]
  },
  {
   "cell_type": "code",
   "execution_count": null,
   "metadata": {
    "collapsed": true
   },
   "outputs": [],
   "source": []
  },
  {
   "cell_type": "code",
   "execution_count": null,
   "metadata": {
    "collapsed": true
   },
   "outputs": [],
   "source": []
  },
  {
   "cell_type": "code",
   "execution_count": null,
   "metadata": {
    "collapsed": true
   },
   "outputs": [],
   "source": []
  },
  {
   "cell_type": "code",
   "execution_count": null,
   "metadata": {
    "collapsed": true
   },
   "outputs": [],
   "source": []
  }
 ],
 "metadata": {
  "kernelspec": {
   "display_name": "Python 3",
   "language": "python",
   "name": "python3"
  },
  "language_info": {
   "codemirror_mode": {
    "name": "ipython",
    "version": 3
   },
   "file_extension": ".py",
   "mimetype": "text/x-python",
   "name": "python",
   "nbconvert_exporter": "python",
   "pygments_lexer": "ipython3",
   "version": "3.6.0"
  }
 },
 "nbformat": 4,
 "nbformat_minor": 2
}
