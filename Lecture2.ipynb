{
 "cells": [
  {
   "cell_type": "code",
   "execution_count": 1,
   "metadata": {
    "collapsed": true
   },
   "outputs": [],
   "source": [
    "# Lecture 2\n",
    "# Recursion \n"
   ]
  },
  {
   "cell_type": "markdown",
   "metadata": {},
   "source": [
    "# More Recursion\n",
    "# Recursion\n",
    "- A recursive function is one that calls itself as a subroutine \n",
    "- IE it is a function of itself!\n",
    "- Every recursive function has at least one base case and and at least one recursive case. \n",
    "- Lets look at the power function. IE def $P(a,x)= a^x= \\prod_{i=1}^x a$ for $a,x\\in \\mathbb{N}$\n",
    "- Recall that for any $a\\neq 0$, $P(a,0)=1$. This is what is known as a $\\textit{base case}$.\n",
    "- A recursive formulation of the postivie integer power function is as follows. Let $a,x\\in \\mathbb{N}$ \n",
    "- $$P(a,x)=\\begin{cases} 1 & \\text{ if } a=1 \\text{ or } b=0\\\\ a \\times P(a,x-1) & \\text{ if } x>0 \\end{cases}$$"
   ]
  },
  {
   "cell_type": "code",
   "execution_count": 6,
   "metadata": {
    "collapsed": false
   },
   "outputs": [],
   "source": [
    "def rec_power(a, x): # There is a problem with this function! Do you see it?\n",
    "    \"\"\"Takes as input two integers a, b\n",
    "    and computes a**b\"\"\"\n",
    "    if x == 0:\n",
    "        return 1\n",
    "    else:\n",
    "        return a * int_power(a, x - 1)"
   ]
  },
  {
   "cell_type": "markdown",
   "metadata": {},
   "source": [
    "# Testing the function\n",
    "- The above function does indeed compute $a^b$ for $a \\in \\mathbb{N}$ and $b\\in \\mathbb{N}_0=\\mathbb{N}\\cup \\{0\\}$\n",
    "- How can we break this function?\n",
    "- What happens if we give it a negative value for b?\n",
    "- Well it will NEVER get to the base case! In otherwords, this program will run FOREVER!\n",
    "- Why? If $x<0$, then once we get to the first if statement, $b\\neq 0$ so it will return $a\\times \\texttt{rec_power}(a,x-1)$ but no matter how often we decrement $x$, it will never get to 0!\n",
    "- What if $a$ is negative or a real number? is this the intended behavior?\n"
   ]
  },
  {
   "cell_type": "code",
   "execution_count": null,
   "metadata": {
    "collapsed": true
   },
   "outputs": [],
   "source": [
    "def rec_powerV2(a, x): # There is a problem with this function! Do you see it?\n",
    "    \"\"\"Takes as input two integers a, b\n",
    "    and computes a**b\"\"\"\n",
    "    assert(x != 0)\n",
    "    assert(type(x) == int)\n",
    "    if x == 0:\n",
    "        return 1\n",
    "    else:\n",
    "        return a * int_power(a, x - 1)"
   ]
  },
  {
   "cell_type": "code",
   "execution_count": 8,
   "metadata": {
    "collapsed": false
   },
   "outputs": [],
   "source": [
    "# Write some unit tests for rec_powerV2 and ensure it has the intended behavior!\n",
    "def tests_for_rec_powerV2():\n",
    "    pass\n"
   ]
  },
  {
   "cell_type": "markdown",
   "metadata": {},
   "source": [
    "# More Recursion\n",
    "- Example: Factorial:\n",
    "- Define factorial of $x$ (normally written $x!$) to be $x!=\\prod_{i=1}^x i$ for all $x\\in \\mathbb{N}$\n",
    "- There is a recurive formulation\n",
    "- Define $f(0)=1$\n",
    "- For all $x\\in \\mathbb{N}$ and $x\\geq 1$ define $$f(x)= x \\times f(x-1)$$\n",
    "- Notice that the only difference between Factorial and Power is that instead of multiplying by the base of the power (IE $a$) we are multiplying by the $x$\n",
    "- Think about the easiest way to adapt the product code into factorial code!\n"
   ]
  },
  {
   "cell_type": "markdown",
   "metadata": {},
   "source": [
    "# Formulating a Recursive Formula\n",
    "- There is a base case. \n",
    "- A base case is a value in the functions domain that is not a function of itself\n",
    "- In the above instance, the base case is $f(0)=1$.\n",
    "- In summary, for non-negative $$f(x) = \\begin{cases}1 & \\text{ if } x=1\\\\ x \\times f(x-1) &\\text{ if } x \\geq 1 \\end{cases}$$"
   ]
  },
  {
   "cell_type": "code",
   "execution_count": null,
   "metadata": {
    "collapsed": true
   },
   "outputs": [],
   "source": [
    "# Lets write a python function to recursively compute Factorial \n",
    "# Notice that the only difference between Factorial and Power is that instead of multiplying by the base of the power\n",
    "# W"
   ]
  }
 ],
 "metadata": {
  "kernelspec": {
   "display_name": "Python 3",
   "language": "python",
   "name": "python3"
  },
  "language_info": {
   "codemirror_mode": {
    "name": "ipython",
    "version": 3
   },
   "file_extension": ".py",
   "mimetype": "text/x-python",
   "name": "python",
   "nbconvert_exporter": "python",
   "pygments_lexer": "ipython3",
   "version": "3.6.0"
  }
 },
 "nbformat": 4,
 "nbformat_minor": 2
}
