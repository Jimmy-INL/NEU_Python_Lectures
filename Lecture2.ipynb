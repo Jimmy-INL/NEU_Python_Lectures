{
 "cells": [
  {
   "cell_type": "code",
   "execution_count": 4,
   "metadata": {
    "collapsed": true,
    "slideshow": {
     "slide_type": "slide"
    }
   },
   "outputs": [],
   "source": [
    "from IPython.display import Image\n",
    "from IPython.core.display import HTML \n",
    "from IPython.display import display_html\n",
    "from IPython.display import display\n",
    "from IPython.display import Math\n",
    "from IPython.display import Latex\n",
    "from IPython.display import HTML"
   ]
  },
  {
   "cell_type": "code",
   "execution_count": 5,
   "metadata": {
    "slideshow": {
     "slide_type": "slide"
    }
   },
   "outputs": [
    {
     "data": {
      "text/plain": [
       "{'scroll': True,\n",
       " 'start_slideshow_at': 'selected',\n",
       " 'theme': 'sky',\n",
       " 'transition': 'zoom'}"
      ]
     },
     "execution_count": 5,
     "metadata": {},
     "output_type": "execute_result"
    }
   ],
   "source": [
    "from traitlets.config.manager import BaseJSONConfigManager\n",
    "\n",
    "path = \"/Users/kai.bernardini/anaconda3/etc/jupyter/nbconfig/\"\n",
    "cm = BaseJSONConfigManager(config_dir=path)\n",
    "cm.update('livereveal', {\n",
    "              'theme': 'sky',\n",
    "              'transition': 'zoom',\n",
    "              'start_slideshow_at': 'selected',\n",
    "})"
   ]
  },
  {
   "cell_type": "code",
   "execution_count": 6,
   "metadata": {
    "slideshow": {
     "slide_type": "slide"
    }
   },
   "outputs": [
    {
     "data": {
      "text/plain": [
       "{'scroll': True,\n",
       " 'start_slideshow_at': 'selected',\n",
       " 'theme': 'sky',\n",
       " 'transition': 'zoom'}"
      ]
     },
     "execution_count": 6,
     "metadata": {},
     "output_type": "execute_result"
    }
   ],
   "source": [
    "cm.update('livereveal', {\n",
    "              'scroll': True,\n",
    "})"
   ]
  },
  {
   "cell_type": "code",
   "execution_count": 7,
   "metadata": {
    "slideshow": {
     "slide_type": "slide"
    }
   },
   "outputs": [
    {
     "name": "stdout",
     "output_type": "stream",
     "text": [
      "Hopefully, this is you\n"
     ]
    },
    {
     "data": {
      "text/html": [
       "<img src=\"https://img.memecdn.com/much-science-very-math-such-doge_o_2338733.jpg\"/>"
      ],
      "text/plain": [
       "<IPython.core.display.Image object>"
      ]
     },
     "execution_count": 7,
     "metadata": {},
     "output_type": "execute_result"
    }
   ],
   "source": [
    "# Lecture 2\n",
    "# Recursion \n",
    "print(\"Hopefully, this is you\")\n",
    "Image(url = \"https://img.memecdn.com/much-science-very-math-such-doge_o_2338733.jpg\")\n"
   ]
  },
  {
   "cell_type": "markdown",
   "metadata": {
    "slideshow": {
     "slide_type": "slide"
    }
   },
   "source": [
    "# More Recursion\n",
    "# Recursion\n",
    "- https://www.google.com/#q=recursion\n",
    "- A recursive function is one that calls itself as a subroutine \n",
    "- IE it is a function of itself!\n",
    "- Every recursive function has at least one base case and and at least one recursive case. \n",
    "- Lets look at the power function. IE def $P(a,x)= a^x= \\prod_{i=1}^x a$ for $a,x\\in \\mathbb{N}$\n",
    "- Recall that for any $a\\neq 0$, $P(a,0)=1$. This is what is known as a $\\textit{base case}$.\n",
    "- A recursive formulation of the postivie integer power function is as follows. Let $a,x\\in \\mathbb{N}$ \n",
    "- $$P(a,x)=\\begin{cases} 1 & \\text{ if } a=1 \\text{ or } b=0\\\\ a \\times P(a,x-1) & \\text{ if } x>0 \\end{cases}$$"
   ]
  },
  {
   "cell_type": "code",
   "execution_count": 8,
   "metadata": {
    "collapsed": true,
    "slideshow": {
     "slide_type": "slide"
    }
   },
   "outputs": [],
   "source": [
    "def rec_power(a, x): # There is a problem with this function! Do you see it?\n",
    "    \"\"\"Takes as input two integers a, b\n",
    "    and computes a**b\"\"\"\n",
    "    if x == 0:\n",
    "        return 1\n",
    "    else:\n",
    "        return a * int_power(a, x - 1)"
   ]
  },
  {
   "cell_type": "markdown",
   "metadata": {
    "slideshow": {
     "slide_type": "slide"
    }
   },
   "source": [
    "# Testing the function\n",
    "- The above function does indeed compute $a^b$ for $a \\in \\mathbb{N}$ and $b\\in \\mathbb{N}_0=\\mathbb{N}\\cup \\{0\\}$\n",
    "- How can we break this function?\n",
    "- What happens if we give it a negative value for b?\n",
    "- Well it will NEVER get to the base case! In other words, this program will run FOREVER!\n",
    "- Why? If $x<0$, then once we get to the first if statement, $b\\neq 0$ so it will return $a\\times \\texttt{rec_power}(a,x-1)$ but no matter how often we decrement $x$, it will never get to 0!\n",
    "- What if $a$ is negative or a real number? is this the intended behavior?\n"
   ]
  },
  {
   "cell_type": "code",
   "execution_count": 9,
   "metadata": {
    "collapsed": true,
    "slideshow": {
     "slide_type": "slide"
    }
   },
   "outputs": [],
   "source": [
    "def rec_powerV2(a, x): # There is a problem with this function! Do you see it?\n",
    "    \"\"\"Takes as input two integers a, b\n",
    "    and computes a**b\"\"\"\n",
    "    assert(type(x) == int)\n",
    "    if x == 0:\n",
    "        return 1\n",
    "    else:\n",
    "        return a * int_power(a, x - 1)"
   ]
  },
  {
   "cell_type": "code",
   "execution_count": 10,
   "metadata": {
    "collapsed": true,
    "slideshow": {
     "slide_type": "slide"
    }
   },
   "outputs": [],
   "source": [
    "# Write some unit tests for rec_powerV2 and ensure it has the intended behavior!\n",
    "def tests_for_rec_powerV2():\n",
    "    pass\n"
   ]
  },
  {
   "cell_type": "markdown",
   "metadata": {
    "slideshow": {
     "slide_type": "slide"
    }
   },
   "source": [
    "# More Recursion\n",
    "- Example: Factorial:\n",
    "- Define factorial of $x$ (normally written $x!$) to be $x!=\\prod_{i=1}^x i$ for all $x\\in \\mathbb{N}$\n",
    "- There is a recursive formulation\n",
    "- Define $f(0)=1$\n",
    "- For all $x\\in \\mathbb{N}$ and $x\\geq 1$ define $$f(x)= x \\times f(x-1)$$\n",
    "- Notice that the only difference between Factorial and Power is that instead of multiplying by the base of the power (IE $a$) we are multiplying by the $x$\n",
    "- Think about the easiest way to adapt the product code into factorial code!\n"
   ]
  },
  {
   "cell_type": "markdown",
   "metadata": {
    "slideshow": {
     "slide_type": "slide"
    }
   },
   "source": [
    "# Formulating a Recursive Formula\n",
    "- There is a base case. \n",
    "- A base case is a value in the functions domain that is not a function of itself\n",
    "- In the above instance, the base case is $f(0)=1$.\n",
    "- In summary, for non-negative $$f(x) = \\begin{cases}1 & \\text{ if } x=1\\\\ x \\times f(x-1) &\\text{ if } x \\geq 1 \\end{cases}$$"
   ]
  },
  {
   "cell_type": "code",
   "execution_count": 11,
   "metadata": {
    "collapsed": true,
    "slideshow": {
     "slide_type": "slide"
    }
   },
   "outputs": [],
   "source": [
    "# Lets write a python function to recursively compute Factorial \n",
    "# Notice that the only difference between Factorial and Power is that instead of multiplying by the base of the power\n",
    "# W"
   ]
  },
  {
   "cell_type": "code",
   "execution_count": 12,
   "metadata": {
    "collapsed": true,
    "slideshow": {
     "slide_type": "slide"
    }
   },
   "outputs": [],
   "source": [
    "# Examples of Recursion\n",
    "import turtle"
   ]
  },
  {
   "cell_type": "code",
   "execution_count": 21,
   "metadata": {
    "slideshow": {
     "slide_type": "slide"
    }
   },
   "outputs": [
    {
     "name": "stdout",
     "output_type": "stream",
     "text": [
      "Done!\n"
     ]
    }
   ],
   "source": [
    "\n",
    "\n",
    "def drawTriangle(points,color,myTurtle):\n",
    "    myTurtle.fillcolor(color)\n",
    "    myTurtle.up()\n",
    "    myTurtle.goto(points[0][0],points[0][1])\n",
    "    myTurtle.down()\n",
    "    myTurtle.begin_fill()\n",
    "    myTurtle.goto(points[1][0],points[1][1])\n",
    "    myTurtle.goto(points[2][0],points[2][1])\n",
    "    myTurtle.goto(points[0][0],points[0][1])\n",
    "    myTurtle.end_fill()\n",
    "\n",
    "def getMid(p1,p2):\n",
    "    return ( (p1[0]+p2[0]) / 2, (p1[1] + p2[1]) / 2)\n",
    "\n",
    "def sierpinski(points,degree,myTurtle):\n",
    "    colormap = ['blue','red','green','white','yellow',\n",
    "                'violet','orange']\n",
    "    drawTriangle(points,colormap[degree],myTurtle)\n",
    "    if degree > 0:\n",
    "        sierpinski([points[0],\n",
    "                        getMid(points[0], points[1]),\n",
    "                        getMid(points[0], points[2])],\n",
    "                   degree-1, myTurtle)\n",
    "        sierpinski([points[1],\n",
    "                        getMid(points[0], points[1]),\n",
    "                        getMid(points[1], points[2])],\n",
    "                   degree-1, myTurtle)\n",
    "        sierpinski([points[2],\n",
    "                        getMid(points[2], points[1]),\n",
    "                        getMid(points[0], points[2])],\n",
    "                   degree-1, myTurtle)\n",
    "\n",
    "def main():\n",
    "    myTurtle = turtle.Turtle()\n",
    "    myWin = turtle.Screen()\n",
    "    myPoints = [[-100,-50],[0,100],[100,-50]]\n",
    "    sierpinski(myPoints,5,myTurtle)\n",
    "    myWin.exitonclick()\n",
    "    return None\n",
    "\n",
    "\n",
    "main()\n",
    "\n",
    "print(\"Done!\")"
   ]
  },
  {
   "cell_type": "code",
   "execution_count": null,
   "metadata": {
    "collapsed": true,
    "slideshow": {
     "slide_type": "slide"
    }
   },
   "outputs": [],
   "source": [
    "def drawSpiral(myTurtle, lineLen):\n",
    "    if lineLen > 0:\n",
    "        myTurtle.forward(lineLen)\n",
    "        myTurtle.right(90)\n",
    "        drawSpiral(myTurtle,lineLen-5)\n",
    "        return None\n",
    "\n",
    "def spir_draw():\n",
    "    myTurtle = turtle.Turtle()\n",
    "    myWin = turtle.Screen()\n",
    "    myPoints = [[-100,-50],[0,100],[100,-50]]\n",
    "    drawSpiral(myTurtle,200)\n",
    "    myWin.exitonclick()\n",
    "    return None\n",
    "spir_draw()"
   ]
  },
  {
   "cell_type": "code",
   "execution_count": 1,
   "metadata": {
    "slideshow": {
     "slide_type": "slide"
    }
   },
   "outputs": [
    {
     "data": {
      "image/png": "[encoded data removed]",
      "text/plain": [
       "<matplotlib.figure.Figure at 0x104315128>"
      ]
     },
     "metadata": {},
     "output_type": "display_data"
    }
   ],
   "source": [
    "import random \n",
    "import numpy as np\n",
    "import matplotlib.pyplot as plt\n",
    "import matplotlib.patches as patches\n",
    "import math\n",
    "\n",
    "def triangle(vertices,ax):\n",
    "    \"\"\"\n",
    "    Take the arguments of vertices (np.array) and axis object and gives out triangle\n",
    "    formed with midpoints and returns vertices of midpoints\n",
    "    \"\"\"\n",
    "    l=[]\n",
    "    l.append((vertices[0]+vertices[1])/2)\n",
    "    l.append((vertices[1]+vertices[2])/2)\n",
    "    l.append((vertices[0]+vertices[2])/2)\n",
    "    ax.add_patch(patches.Polygon(l,fill=True,facecolor='w'))\n",
    "    return l\n",
    "\n",
    "def sierper(verts,ax,count=0):\n",
    "    \"\"\"\n",
    "    Gives out a serper with the vertices given\n",
    "    \"\"\"\n",
    "    if count==7:\n",
    "        return \n",
    "    count=count+1\n",
    "    vertices=triangle(verts,ax)\n",
    "    list1=np.array([[0,0,2],[1,0,1],[2,1,2]])\n",
    "    for i in range(3):\n",
    "        temp_array=np.array([verts[list1[i,0]],vertices[list1[i,1]],vertices[list1[i,2]]])\n",
    "        sierper(temp_array,ax,count)\n",
    "\n",
    "\n",
    "def main():\n",
    "    fig = plt.figure()\n",
    "    ax = fig.add_subplot(111)\n",
    "    verts = np.array([[0.0, 1.0], [-math.sqrt(3)/2, -0.5], [math.sqrt(3)/2, -0.5]])\n",
    "    poly = patches.Polygon(verts,facecolor='k',fill=True)\n",
    "    ax.add_patch(poly)\n",
    "    ax.set_xlim(verts[:,0].min()-0.1,verts[:,0].max()+0.1)\n",
    "    ax.set_ylim(verts[:,1].min()-0.1,verts[:,1].max()+0.1)\n",
    "    sierper(verts,ax) \n",
    "    plt.show()\n",
    "    \n",
    "    \n",
    "if __name__==\"__main__\":\n",
    "    main()"
   ]
  },
  {
   "cell_type": "code",
   "execution_count": 2,
   "metadata": {
    "slideshow": {
     "slide_type": "slide"
    }
   },
   "outputs": [
    {
     "data": {
      "image/png": "[encoded data removed]",
      "text/plain": [
       "<matplotlib.figure.Figure at 0x105e212e8>"
      ]
     },
     "metadata": {},
     "output_type": "display_data"
    }
   ],
   "source": [
    "import numpy as np\n",
    "import matplotlib.pyplot as plt\n",
    "from itertools import count\n",
    "\n",
    "def newton_fractal(xmin, xmax, ymin, ymax, xres, yres):\n",
    "    \"\"\"Plots the Netwon Fractal \"\"\"\n",
    "    yarr, xarr = np.meshgrid(np.linspace(xmin, xmax, xres), \\\n",
    "                             np.linspace(ymin, ymax, yres) * 1j)\n",
    "    arr = yarr + xarr\n",
    "    ydim, xdim = arr.shape\n",
    "    arr = arr.flatten()\n",
    "    f = np.poly1d([1,0,0,-1]) # x^3+0x^2+0x - 1\n",
    "    fp = np.polyder(f)\n",
    "    counts = np.zeros(shape=arr.shape)\n",
    "    unconverged = np.ones(shape=arr.shape, dtype=bool)\n",
    "    indices = np.arange(len(arr))\n",
    "    for i in count():\n",
    "        f_g = f(arr[unconverged])\n",
    "        new_unconverged = np.abs(f_g) > 0.00001\n",
    "        counts[indices[unconverged][~new_unconverged]] = i\n",
    "        if not np.any(new_unconverged):\n",
    "            return counts.reshape((ydim, xdim))\n",
    "        unconverged[unconverged] = new_unconverged\n",
    "        arr[unconverged] -= f_g[new_unconverged] / fp(arr[unconverged])\n",
    "\n",
    "N = 1000\n",
    "pic = newton_fractal(-10, 10, -10, 10, N, N)\n",
    "\n",
    "plt.imshow(pic)\n",
    "plt.show()"
   ]
  },
  {
   "cell_type": "code",
   "execution_count": 3,
   "metadata": {
    "slideshow": {
     "slide_type": "slide"
    }
   },
   "outputs": [
    {
     "name": "stdout",
     "output_type": "stream",
     "text": [
      "sdrawrof\n",
      "sdrawkcab\n"
     ]
    }
   ],
   "source": [
    "# Example of Python to reverse a list\n",
    "def recursive_reverse(string):\n",
    "    if string == '':\n",
    "        return ''\n",
    "    return recursive_reverse(string[1:]) + string[0]\n",
    "\n",
    "print(recursive_reverse(\"forwards\"))\n",
    "print(recursive_reverse(\"backwards\"))\n"
   ]
  },
  {
   "cell_type": "code",
   "execution_count": null,
   "metadata": {
    "collapsed": true,
    "slideshow": {
     "slide_type": "slide"
    }
   },
   "outputs": [],
   "source": [
    "# Fibonacci Numbers\n",
    "\n",
    "def fib(n):\n",
    "    \"\"\"Don't try using too large of a number!!!\"\"\"\n",
    "    if n==0:\n",
    "        return 0\n",
    "    if n==1:\n",
    "        return 1\n",
    "    else:\n",
    "        return fib(n-1)+ fib(n-2)\n",
    "fib(6) # Why is this code really, really bad?"
   ]
  },
  {
   "cell_type": "markdown",
   "metadata": {
    "slideshow": {
     "slide_type": "slide"
    }
   },
   "source": [
    "# There is a ton of wasted computation!\n",
    "- Notice we are doing more work than we need to!\n",
    "- As an exercise, try and compute just how much extra work is being done!\n",
    "    - After trying it our for yourself, use http://www.pythontutor.com/visualize.html#mode=edit to verify your guess!"
   ]
  },
  {
   "cell_type": "markdown",
   "metadata": {
    "slideshow": {
     "slide_type": "slide"
    }
   },
   "source": [
    "# Introduction to hash tables\n",
    "- A hash table is an extremely useful data structure used to insert in constant time, and lookup in constant time. \n",
    "- It associated a key to a value pair\n",
    "- In python, we call them dictionaries \n",
    "- denoted by curly brackets\n",
    "- Again---Constant lookup time!\n",
    "    - Compare to list, which at worst case is linear\n",
    " "
   ]
  },
  {
   "cell_type": "code",
   "execution_count": 5,
   "metadata": {
    "slideshow": {
     "slide_type": "slide"
    }
   },
   "outputs": [
    {
     "name": "stdout",
     "output_type": "stream",
     "text": [
      "{0: 0, 1: 1, 2: 1, 3: 2, 4: 3, 5: 5, 6: 8, 7: 13, 8: 21, 9: 34, 10: 55, 11: 89, 12: 144, 13: 233, 14: 377, 15: 610, 16: 987, 17: 1597, 18: 2584, 19: 4181, 20: 6765}\n"
     ]
    },
    {
     "data": {
      "text/plain": [
       "6765"
      ]
     },
     "execution_count": 5,
     "metadata": {},
     "output_type": "execute_result"
    }
   ],
   "source": [
    "def memo_fib(n):\n",
    "    d = { 0:0,\n",
    "       1:1 }\n",
    "    fib_n = fib_helper(n,d)\n",
    "    print(d)\n",
    "    return fib_n \n",
    "def fib_helper(n,d):\n",
    "    if n in d:\n",
    "        return d[n]\n",
    "    else:\n",
    "        d[n]= fib_helper(n-1, d)+ fib_helper(n-2,d)\n",
    "        return d[n]\n",
    "memo_fib(20)\n",
    "# How does this change the spacial requirements ?"
   ]
  },
  {
   "cell_type": "code",
   "execution_count": 12,
   "metadata": {
    "slideshow": {
     "slide_type": "slide"
    }
   },
   "outputs": [
    {
     "data": {
      "text/plain": [
       "1.618033988749895"
      ]
     },
     "execution_count": 12,
     "metadata": {},
     "output_type": "execute_result"
    }
   ],
   "source": [
    "def golden_ratio(n):\n",
    "    \"\"\"Uses the fibonacci numbers to estimate the golden ratio\"\"\"\n",
    "    d = { 0:0,\n",
    "       1:1 }\n",
    "    fib_n = fib_helper(n,d)\n",
    "    return d[n]/ d[n-1]\n",
    "golden_ratio(100)\n",
    "    "
   ]
  },
  {
   "cell_type": "code",
   "execution_count": 15,
   "metadata": {
    "slideshow": {
     "slide_type": "slide"
    }
   },
   "outputs": [
    {
     "data": {
      "text/plain": [
       "1.618033988749895"
      ]
     },
     "execution_count": 15,
     "metadata": {},
     "output_type": "execute_result"
    }
   ],
   "source": [
    "# What about for differnt starting conditions?\n",
    "def golden_ratio_alt(n,a,b):\n",
    "    \"\"\"Uses a variant of the fibonacci numbers to estimate the golden ratio\"\"\"\n",
    "    d = { 0:a,\n",
    "       1:b }\n",
    "    fib_n = fib_helper(n,d)\n",
    "    return d[n]/ d[n-1]\n",
    "golden_ratio_alt(100,3,18.5)"
   ]
  },
  {
   "cell_type": "markdown",
   "metadata": {
    "slideshow": {
     "slide_type": "slide"
    }
   },
   "source": [
    "# Explicitly Computing the Golden Ratio\n",
    "- $F_0 = 0$, $F_1=1$, $F_n = F_{n-1}+F_{n-2}$\n",
    "- $\\phi = \\lim_{n\\to \\infty} \\frac{F_n}{F_{n-1}}$\n",
    "    - For our purposes, you can take this to mean that as $n$ gets large, this ratio gets close to $\\phi$\n",
    "    - If you are interested in what the rigorous definition of a limit is, come talk to one of us. "
   ]
  },
  {
   "cell_type": "markdown",
   "metadata": {
    "slideshow": {
     "slide_type": "slide"
    }
   },
   "source": [
    "# Algebraic Solution  \n",
    " For $n>>0$ (which means for a sufficiently large $n$), \n",
    " $\\phi \\approx \\frac{F_n}{F_{n-1}} =^{\\text{def}} \\frac{F_{n-1} + F_{n-2}}{F_{n-1}} = \\frac{F_{n-1}}{F_{n-1}} + \\frac{F_{n-2}}{F_{n-1}} \\approx 1 + \\frac{1}{\\phi}$ $\\implies \\phi \\approx 1 + \\frac{1}{\\phi}$ $\\implies \\phi \\approx \\frac{1 + \\phi }{\\phi }$\n",
    " This means that $\\phi^2 \\approx \\phi + 1 \\implies \\phi^2 -\\phi -1 =0$. Now use the quadratic formula and we see that $\\phi \\approx \\frac{1 \\pm \\sqrt{5}}{2} $\n",
    " \n",
    " - Note this proof is informal since we haven't explicitly defined what a limit is. \n",
    " - That said...\n",
    " "
   ]
  },
  {
   "cell_type": "code",
   "execution_count": 20,
   "metadata": {
    "slideshow": {
     "slide_type": "slide"
    }
   },
   "outputs": [
    {
     "data": {
      "text/plain": [
       "True"
      ]
     },
     "execution_count": 20,
     "metadata": {},
     "output_type": "execute_result"
    }
   ],
   "source": [
    "(1+(5**.5))/2 == golden_ratio(100)"
   ]
  }
 ],
 "metadata": {
  "celltoolbar": "Slideshow",
  "kernelspec": {
   "display_name": "Python 3",
   "language": "python",
   "name": "python3"
  },
  "language_info": {
   "codemirror_mode": {
    "name": "ipython",
    "version": 3
   },
   "file_extension": ".py",
   "mimetype": "text/x-python",
   "name": "python",
   "nbconvert_exporter": "python",
   "pygments_lexer": "ipython3",
   "version": "3.6.0"
  }
 },
 "nbformat": 4,
 "nbformat_minor": 2
}
