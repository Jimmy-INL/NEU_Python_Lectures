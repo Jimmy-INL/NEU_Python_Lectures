{
 "cells": [
  {
   "cell_type": "code",
   "execution_count": 9,
   "metadata": {
    "collapsed": true
   },
   "outputs": [],
   "source": [
    "from IPython.display import Image\n",
    "from IPython.core.display import HTML "
   ]
  },
  {
   "cell_type": "code",
   "execution_count": 10,
   "metadata": {
    "collapsed": false
   },
   "outputs": [
    {
     "name": "stdout",
     "output_type": "stream",
     "text": [
      "Hopefully, this is you\n"
     ]
    },
    {
     "data": {
      "text/html": [
       "<img src=\"https://img.memecdn.com/much-science-very-math-such-doge_o_2338733.jpg\"/>"
      ],
      "text/plain": [
       "<IPython.core.display.Image object>"
      ]
     },
     "execution_count": 10,
     "metadata": {},
     "output_type": "execute_result"
    }
   ],
   "source": [
    "# Lecture 2\n",
    "# Recursion \n",
    "print(\"Hopefully, this is you\")\n",
    "Image(url = \"https://img.memecdn.com/much-science-very-math-such-doge_o_2338733.jpg\")\n"
   ]
  },
  {
   "cell_type": "markdown",
   "metadata": {},
   "source": [
    "# More Recursion\n",
    "# Recursion\n",
    "- https://www.google.com/#q=recursion\n",
    "- A recursive function is one that calls itself as a subroutine \n",
    "- IE it is a function of itself!\n",
    "- Every recursive function has at least one base case and and at least one recursive case. \n",
    "- Lets look at the power function. IE def $P(a,x)= a^x= \\prod_{i=1}^x a$ for $a,x\\in \\mathbb{N}$\n",
    "- Recall that for any $a\\neq 0$, $P(a,0)=1$. This is what is known as a $\\textit{base case}$.\n",
    "- A recursive formulation of the postivie integer power function is as follows. Let $a,x\\in \\mathbb{N}$ \n",
    "- $$P(a,x)=\\begin{cases} 1 & \\text{ if } a=1 \\text{ or } b=0\\\\ a \\times P(a,x-1) & \\text{ if } x>0 \\end{cases}$$"
   ]
  },
  {
   "cell_type": "code",
   "execution_count": 6,
   "metadata": {
    "collapsed": false
   },
   "outputs": [],
   "source": [
    "def rec_power(a, x): # There is a problem with this function! Do you see it?\n",
    "    \"\"\"Takes as input two integers a, b\n",
    "    and computes a**b\"\"\"\n",
    "    if x == 0:\n",
    "        return 1\n",
    "    else:\n",
    "        return a * int_power(a, x - 1)"
   ]
  },
  {
   "cell_type": "markdown",
   "metadata": {},
   "source": [
    "# Testing the function\n",
    "- The above function does indeed compute $a^b$ for $a \\in \\mathbb{N}$ and $b\\in \\mathbb{N}_0=\\mathbb{N}\\cup \\{0\\}$\n",
    "- How can we break this function?\n",
    "- What happens if we give it a negative value for b?\n",
    "- Well it will NEVER get to the base case! In otherwords, this program will run FOREVER!\n",
    "- Why? If $x<0$, then once we get to the first if statement, $b\\neq 0$ so it will return $a\\times \\texttt{rec_power}(a,x-1)$ but no matter how often we decrement $x$, it will never get to 0!\n",
    "- What if $a$ is negative or a real number? is this the intended behavior?\n"
   ]
  },
  {
   "cell_type": "code",
   "execution_count": null,
   "metadata": {
    "collapsed": true
   },
   "outputs": [],
   "source": [
    "def rec_powerV2(a, x): # There is a problem with this function! Do you see it?\n",
    "    \"\"\"Takes as input two integers a, b\n",
    "    and computes a**b\"\"\"\n",
    "    assert(x != 0)\n",
    "    assert(type(x) == int)\n",
    "    if x == 0:\n",
    "        return 1\n",
    "    else:\n",
    "        return a * int_power(a, x - 1)"
   ]
  },
  {
   "cell_type": "code",
   "execution_count": 8,
   "metadata": {
    "collapsed": false
   },
   "outputs": [],
   "source": [
    "# Write some unit tests for rec_powerV2 and ensure it has the intended behavior!\n",
    "def tests_for_rec_powerV2():\n",
    "    pass\n"
   ]
  },
  {
   "cell_type": "markdown",
   "metadata": {},
   "source": [
    "# More Recursion\n",
    "- Example: Factorial:\n",
    "- Define factorial of $x$ (normally written $x!$) to be $x!=\\prod_{i=1}^x i$ for all $x\\in \\mathbb{N}$\n",
    "- There is a recurive formulation\n",
    "- Define $f(0)=1$\n",
    "- For all $x\\in \\mathbb{N}$ and $x\\geq 1$ define $$f(x)= x \\times f(x-1)$$\n",
    "- Notice that the only difference between Factorial and Power is that instead of multiplying by the base of the power (IE $a$) we are multiplying by the $x$\n",
    "- Think about the easiest way to adapt the product code into factorial code!\n"
   ]
  },
  {
   "cell_type": "markdown",
   "metadata": {},
   "source": [
    "# Formulating a Recursive Formula\n",
    "- There is a base case. \n",
    "- A base case is a value in the functions domain that is not a function of itself\n",
    "- In the above instance, the base case is $f(0)=1$.\n",
    "- In summary, for non-negative $$f(x) = \\begin{cases}1 & \\text{ if } x=1\\\\ x \\times f(x-1) &\\text{ if } x \\geq 1 \\end{cases}$$"
   ]
  },
  {
   "cell_type": "code",
   "execution_count": null,
   "metadata": {
    "collapsed": true
   },
   "outputs": [],
   "source": [
    "# Lets write a python function to recursively compute Factorial \n",
    "# Notice that the only difference between Factorial and Power is that instead of multiplying by the base of the power\n",
    "# W"
   ]
  },
  {
   "cell_type": "code",
   "execution_count": 2,
   "metadata": {
    "collapsed": false
   },
   "outputs": [
    {
     "name": "stdout",
     "output_type": "stream",
     "text": [
      "Done!\n"
     ]
    }
   ],
   "source": [
    "# Examples of Recursion\n",
    "import turtle\n",
    "\n",
    "def drawTriangle(points,color,myTurtle):\n",
    "    myTurtle.fillcolor(color)\n",
    "    myTurtle.up()\n",
    "    myTurtle.goto(points[0][0],points[0][1])\n",
    "    myTurtle.down()\n",
    "    myTurtle.begin_fill()\n",
    "    myTurtle.goto(points[1][0],points[1][1])\n",
    "    myTurtle.goto(points[2][0],points[2][1])\n",
    "    myTurtle.goto(points[0][0],points[0][1])\n",
    "    myTurtle.end_fill()\n",
    "\n",
    "def getMid(p1,p2):\n",
    "    return ( (p1[0]+p2[0]) / 2, (p1[1] + p2[1]) / 2)\n",
    "\n",
    "def sierpinski(points,degree,myTurtle):\n",
    "    colormap = ['blue','red','green','white','yellow',\n",
    "                'violet','orange']\n",
    "    drawTriangle(points,colormap[degree],myTurtle)\n",
    "    if degree > 0:\n",
    "        sierpinski([points[0],\n",
    "                        getMid(points[0], points[1]),\n",
    "                        getMid(points[0], points[2])],\n",
    "                   degree-1, myTurtle)\n",
    "        sierpinski([points[1],\n",
    "                        getMid(points[0], points[1]),\n",
    "                        getMid(points[1], points[2])],\n",
    "                   degree-1, myTurtle)\n",
    "        sierpinski([points[2],\n",
    "                        getMid(points[2], points[1]),\n",
    "                        getMid(points[0], points[2])],\n",
    "                   degree-1, myTurtle)\n",
    "\n",
    "def main():\n",
    "   myTurtle = turtle.Turtle()\n",
    "   myWin = turtle.Screen()\n",
    "   myPoints = [[-100,-50],[0,100],[100,-50]]\n",
    "   sierpinski(myPoints,4,myTurtle)\n",
    "   myWin.exitonclick()\n",
    "\n",
    "main()\n",
    "print(\"Done!\")"
   ]
  },
  {
   "cell_type": "code",
   "execution_count": null,
   "metadata": {
    "collapsed": true
   },
   "outputs": [],
   "source": []
  },
  {
   "cell_type": "code",
   "execution_count": null,
   "metadata": {
    "collapsed": true
   },
   "outputs": [],
   "source": []
  }
 ],
 "metadata": {
  "kernelspec": {
   "display_name": "Python 3",
   "language": "python",
   "name": "python3"
  },
  "language_info": {
   "codemirror_mode": {
    "name": "ipython",
    "version": 3
   },
   "file_extension": ".py",
   "mimetype": "text/x-python",
   "name": "python",
   "nbconvert_exporter": "python",
   "pygments_lexer": "ipython3",
   "version": "3.6.0"
  }
 },
 "nbformat": 4,
 "nbformat_minor": 2
}
