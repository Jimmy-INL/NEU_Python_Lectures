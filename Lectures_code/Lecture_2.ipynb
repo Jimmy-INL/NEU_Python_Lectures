{
 "cells": [
  {
   "cell_type": "code",
   "execution_count": 1,
   "metadata": {
    "slideshow": {
     "slide_type": "skip"
    }
   },
   "outputs": [],
   "source": [
    "from IPython.display import Image\n",
    "from IPython.core.display import HTML \n",
    "from IPython.display import display_html\n",
    "from IPython.display import display\n",
    "from IPython.display import Math\n",
    "from IPython.display import Latex\n",
    "from IPython.display import HTML"
   ]
  },
  {
   "cell_type": "markdown",
   "metadata": {
    "slideshow": {
     "slide_type": "slide"
    }
   },
   "source": [
    "![](../assets/logo.png)\n",
    "# Lecture 2: \n",
    "- This lecture will cover the basics of arithmetic and basic datatypes in python \n",
    "    - Integers (`int`)\n",
    "    - Real numbers (`float`)\n",
    "    - Strings (`str`)"
   ]
  },
  {
   "cell_type": "markdown",
   "metadata": {
    "slideshow": {
     "slide_type": "slide"
    }
   },
   "source": [
    "# Integers \n",
    "- The set of integers, denoted mathematically as $\\mathbb{Z}$, is the collection of all positive and negative whole numbers. \n",
    "- In particular, $$\\mathbb{Z} := \\{...,-3,-2,-1,0,1,2,3,...\\}$$\n",
    "    - Note: this notation is imprecise, but the important thing is we have an intuitive understanding of what an integer is.\n",
    "- In python, integers are implemented in the integer class (`int`)\n",
    "- As usual, we can add, subtract, multiply, divide and exponentiate integers as we would on paper\n",
    "    - Example: We know that $2+2=4$ but we can also have python give us the answer by running $2+2$"
   ]
  },
  {
   "cell_type": "markdown",
   "metadata": {
    "slideshow": {
     "slide_type": "slide"
    }
   },
   "source": [
    "# Real Numbers \n",
    "- The set of real numbers, denoted mathematically as $\\mathbb{R}$, is a bit tricky to define rigorously, but can be thought of as the collection of all decimal sequences. This includes the integers, the rationals, and irrational numbers. "
   ]
  },
  {
   "cell_type": "markdown",
   "metadata": {
    "slideshow": {
     "slide_type": "slide"
    }
   },
   "source": [
    "# Operators on $\\mathbb{Z}$ and  $\\mathbb{R}$ \n",
    "- Addition $+$\n",
    "    - Example: `2+2 = 4`\n",
    "- Subtraction $-$\n",
    "    - Example: `3-1=2`\n",
    "- Multiplication $*$\n",
    "    - `3*3=9`\n",
    "- Division $/$\n",
    "    - Example: `7/2=3.5}`\n",
    "- Integer Division $//$ (division but you drop the remainder) \n",
    "    - Note that integer division always rounds to closest non-zero value\n",
    "    -i.e. `1//-10 = -1`\n",
    "    - Example: `7//2=3`\n",
    "- Exponentiation $**$\n",
    "    - Example 1: `3**2 = 9` is computing $3^2 = 9$\n",
    "    - Example 2: `4**.5 = 2` is computing $4^{\\frac{1}{2}} = \\sqrt{4} = 2$\n"
   ]
  },
  {
   "cell_type": "code",
   "execution_count": null,
   "metadata": {},
   "outputs": [],
   "source": []
  },
  {
   "cell_type": "markdown",
   "metadata": {
    "slideshow": {
     "slide_type": "slide"
    }
   },
   "source": []
  },
  {
   "cell_type": "code",
   "execution_count": null,
   "metadata": {},
   "outputs": [],
   "source": []
  }
 ],
 "metadata": {
  "celltoolbar": "Slideshow",
  "kernelspec": {
   "display_name": "Python 3",
   "language": "python",
   "name": "python3"
  },
  "language_info": {
   "codemirror_mode": {
    "name": "ipython",
    "version": 3
   },
   "file_extension": ".py",
   "mimetype": "text/x-python",
   "name": "python",
   "nbconvert_exporter": "python",
   "pygments_lexer": "ipython3",
   "version": "3.6.3"
  }
 },
 "nbformat": 4,
 "nbformat_minor": 2
}
