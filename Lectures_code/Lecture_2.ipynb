{
 "cells": [
  {
   "cell_type": "code",
   "execution_count": 1,
   "metadata": {
    "slideshow": {
     "slide_type": "skip"
    }
   },
   "outputs": [],
   "source": [
    "from IPython.display import Image\n",
    "from IPython.core.display import HTML \n",
    "from IPython.display import display_html\n",
    "from IPython.display import display\n",
    "from IPython.display import Math\n",
    "from IPython.display import Latex\n",
    "from IPython.display import HTML"
   ]
  },
  {
   "cell_type": "markdown",
   "metadata": {
    "slideshow": {
     "slide_type": "slide"
    }
   },
   "source": [
    "![](../assets/logo.png)\n",
    "# Lecture 2: \n",
    "- This lecture will cover the basics of arithmetic and basic datatypes in python \n",
    "    - Integers (`int`)\n",
    "    - Real numbers (`float`)\n",
    "    - Functions in python "
   ]
  },
  {
   "cell_type": "markdown",
   "metadata": {
    "slideshow": {
     "slide_type": "slide"
    }
   },
   "source": [
    "# Integers \n",
    "- The set of integers, denoted mathematically as $\\mathbb{Z}$, is the collection of all positive and negative whole numbers. \n",
    "- In particular, $$\\mathbb{Z} := \\{...,-3,-2,-1,0,1,2,3,...\\}$$\n",
    "    - Note: this notation is imprecise, but the important thing is we have an intuitive understanding of what an integer is.\n",
    "- In python, integers are implemented in the integer class (`int`). Unlike the $\\mathbb{Z}$ or $\\mathbb{R}$ which has no maximum, computers have finite memory and as a result are bounded. Later in the course we will talk about precision, overflow and underflow. \n",
    "- As usual, we can add, subtract, multiply, divide and exponentiate integers as we would on paper\n",
    "    - Example: We know that $2+2=4$ but we can also have python give us the answer by running $2+2$"
   ]
  },
  {
   "cell_type": "markdown",
   "metadata": {
    "slideshow": {
     "slide_type": "slide"
    }
   },
   "source": [
    "# Real Numbers \n",
    "- The set of real numbers, denoted mathematically as $\\mathbb{R}$, is a bit tricky to define rigorously, but can be thought of as the collection of all decimal sequences. This includes the integers, the rationals, and irrational numbers. "
   ]
  },
  {
   "cell_type": "markdown",
   "metadata": {
    "slideshow": {
     "slide_type": "slide"
    }
   },
   "source": [
    "# Operators on $\\mathbb{Z}$ and  $\\mathbb{R}$ \n",
    "- Addition $+$\n",
    "    - Example: `2+2 = 4`\n",
    "- Subtraction $-$\n",
    "    - Example: `3-1=2`\n",
    "- Multiplication $*$\n",
    "    - `3*3=9`\n",
    "- Division $/$\n",
    "    - Example: `7/2=3.5}`\n",
    "- Integer Division $//$ (division but you drop the remainder) \n",
    "    - Note that integer division always rounds to closest non-zero value\n",
    "    -i.e. `1//-10 = -1`\n",
    "    - Example: `7//2=3`\n",
    "- Exponentiation $**$\n",
    "    - Example 1: `3**2 = 9` is computing $3^2 = 9$\n",
    "    - Example 2: `4**.5 = 2` is computing $4^{\\frac{1}{2}} = \\sqrt{4} = 2$\n",
    "- ##  Recall that you can double click on this cell to see how these expressions are created using MathJax"
   ]
  },
  {
   "cell_type": "markdown",
   "metadata": {},
   "source": [
    "# Functions\n",
    "- In Python, a function is a a block of code that takes an input (potentially empty) and returns an output (also potentially empty)\n",
    "- Function blocks begin with the keyword `def` followed by the function name and parentheses  `( ):` followed by a colon.\n",
    "- Any input parameters or arguments should be placed within these parentheses. You can also define parameters inside these parentheses.\n",
    "- The first statement of a function can be an optional statement - the documentation string of the function or docstring.\n",
    "- The code block within every function starts with a colon (:) and is indented.\n",
    "- The statement return [expression] exits a function, optionally passing back an expression to the caller. A return statement with no arguments is the same as return None.\n",
    "- Source: https://www.tutorialspoint.com/python/python_functions.htm\n",
    "- Notice that this is different from what a mathematical function is! \n",
    "- That said, we can use python functions to build mathematical functions!"
   ]
  },
  {
   "cell_type": "markdown",
   "metadata": {
    "slideshow": {
     "slide_type": "slide"
    }
   },
   "source": [
    "# Mathematical Functions \n",
    "- A function is a mathematical relation between a set of inputs and a set of outputs were each input is associated to exactly 1 output\n",
    "- Example: $$f(x)=x^2 +1$$\n",
    "- Non Example:  $$g(x)= \\pm \\sqrt{x}$$\n",
    "    - You might have heard the expression \"vertical line test\" in the past. We explore this graphically in the coming days "
   ]
  },
  {
   "cell_type": "code",
   "execution_count": 9,
   "metadata": {
    "slideshow": {
     "slide_type": "slide"
    }
   },
   "outputs": [],
   "source": [
    "def f(x):\n",
    "    \"\"\"\n",
    "    Arguments: x -- an int or a float\n",
    "    Computes $x^2 + 1$ \n",
    "    \"\"\"\n",
    "    return x **2 + 1"
   ]
  },
  {
   "cell_type": "code",
   "execution_count": 10,
   "metadata": {
    "slideshow": {
     "slide_type": "slide"
    }
   },
   "outputs": [
    {
     "name": "stdout",
     "output_type": "stream",
     "text": [
      "f(3) =  10\n",
      "f(4) =  17\n",
      "f(5) =  26\n"
     ]
    }
   ],
   "source": [
    "print(\"f(3) = \", f(3))\n",
    "print(\"f(4) = \", f(4))\n",
    "print(\"f(5) = \", f(5))"
   ]
  },
  {
   "cell_type": "markdown",
   "metadata": {
    "slideshow": {
     "slide_type": "slide"
    }
   },
   "source": [
    "# PEMDAS\n",
    "- Python uses the usual mathematical order of operations\n",
    "- Parentheses come before Exponentiation which comes before Multiplication and division which comes before addition and subtraction"
   ]
  },
  {
   "cell_type": "code",
   "execution_count": 11,
   "metadata": {
    "slideshow": {
     "slide_type": "slide"
    }
   },
   "outputs": [
    {
     "name": "stdout",
     "output_type": "stream",
     "text": [
      "What do you think x is equal to? 5\n",
      "Succsess!\n"
     ]
    }
   ],
   "source": [
    "# Example: run this cell to try your hand at a question!\n",
    "# It will ask you for input. Type your answer and hit enter! \n",
    "x = 2 + 1 * 3\n",
    "# input grabs an input from the user/standard input\n",
    "# int() coerces an object into an integer. \n",
    "answer = int(input(\"What do you think x is equal to? \"))\n",
    "# int(input()) converts the input to an integer \n",
    "assert(answer == x)\n",
    "print(\"Succsess!\")"
   ]
  },
  {
   "cell_type": "markdown",
   "metadata": {
    "slideshow": {
     "slide_type": "slide"
    }
   },
   "source": [
    "# Python Functions are not Mathematical Functions\n",
    "- As said above, python functions are not necessarily mathematical functions.\n",
    "- We can build functions that have multiple outputs!"
   ]
  },
  {
   "cell_type": "code",
   "execution_count": 12,
   "metadata": {
    "slideshow": {
     "slide_type": "slide"
    }
   },
   "outputs": [],
   "source": [
    "def g(x):\n",
    "    \"\"\"returns the plus/minus square root of a value\"\"\"\n",
    "    return x**.5, -x**.5"
   ]
  },
  {
   "cell_type": "code",
   "execution_count": 14,
   "metadata": {
    "slideshow": {
     "slide_type": "slide"
    }
   },
   "outputs": [
    {
     "name": "stdout",
     "output_type": "stream",
     "text": [
      "The positive/negative square root of 4 is  (2.0, -2.0)\n"
     ]
    }
   ],
   "source": [
    "print(\"The positive/negative square root of 4 is \", g(4))"
   ]
  },
  {
   "cell_type": "code",
   "execution_count": 19,
   "metadata": {},
   "outputs": [],
   "source": [
    "def print_g(x):\n",
    "    \"\"\"Prints g(x)\"\"\"\n",
    "    print(\"The positive/negative square root of \", x, \" is \",x**.5, -x**.5)"
   ]
  },
  {
   "cell_type": "code",
   "execution_count": 20,
   "metadata": {},
   "outputs": [
    {
     "name": "stdout",
     "output_type": "stream",
     "text": [
      "The positive/negative square root of  1  is  1.0 -1.0\n",
      "The positive/negative square root of  2  is  1.4142135623730951 -1.4142135623730951\n",
      "The positive/negative square root of  3  is  1.7320508075688772 -1.7320508075688772\n",
      "The positive/negative square root of  4  is  2.0 -2.0\n",
      "The positive/negative square root of  5  is  2.23606797749979 -2.23606797749979\n"
     ]
    }
   ],
   "source": [
    "print_g(1)\n",
    "print_g(2)\n",
    "print_g(3)\n",
    "print_g(4)\n",
    "print_g(5)"
   ]
  },
  {
   "cell_type": "markdown",
   "metadata": {},
   "source": [
    "# Functions of functions!\n",
    "- You can pass anything you want into a function-- including another function!\n",
    "- For example, what if we wanted to build a general print function? \n",
    "- We could set up into multiple pieces: first we have a string that describes what that function does on an input `x`. \n",
    "- Next we have the function called `function`  that actually computes a value on `x` \n",
    "- Finally we tie it all together below"
   ]
  },
  {
   "cell_type": "code",
   "execution_count": 24,
   "metadata": {},
   "outputs": [],
   "source": [
    "def print_function(function_string, function, x):\n",
    "    f_x = function(x)\n",
    "    print(function_string, x, \" is \",f_x)"
   ]
  },
  {
   "cell_type": "code",
   "execution_count": 25,
   "metadata": {},
   "outputs": [
    {
     "name": "stdout",
     "output_type": "stream",
     "text": [
      "x^2 + 1 for the given input x = 3  is  10\n"
     ]
    }
   ],
   "source": [
    "f_string = \"x^2 + 1 for the given input x =\"\n",
    "print_function(f_string, f, 3)\n",
    "    "
   ]
  },
  {
   "cell_type": "markdown",
   "metadata": {},
   "source": [
    "# What just happened?\n",
    "- First we called `print_function` with the inputs `\"x^2 + 1 for the given input x =\", f, 3`\n",
    "- the function then  computes `f(3)` and finally prints out the result\n",
    "- See [python tutor code execution](http://www.pythontutor.com/visualize.html#code=def%20f%28x%29%3A%0A%20%20%20%20return%20x%20**%202%20%2B%201%0A%0Adef%20print_function%28function_string,%20function,%20x%29%3A%0A%20%20%20%20f_x%20%3D%20function%28x%29%0A%20%20%20%20print%28function_string,%20x,%20%22%20is%20%22,f_x%29%0A%20%20%20%20%0Af_string%20%3D%20%22x%5E2%20%2B%201%20for%20the%20given%20input%20x%20%3D%22%0Aprint_function%28f_string,%20f,%203%29&cumulative=false&heapPrimitives=nevernest&mode=edit&origin=opt-frontend.js&py=3&rawInputLstJSON=%5B%5D&textReferences=false)\n",
    "\n",
    "\n"
   ]
  },
  {
   "cell_type": "markdown",
   "metadata": {
    "slideshow": {
     "slide_type": "slide"
    }
   },
   "source": [
    "![](../assets/title.png)\n",
    "## Recap\n",
    "- Overview of operations and numbers\n",
    "- Overview functions\n",
    "## Next Time:\n",
    "- Lists\n",
    "- Plotting in python "
   ]
  },
  {
   "cell_type": "code",
   "execution_count": null,
   "metadata": {},
   "outputs": [],
   "source": []
  }
 ],
 "metadata": {
  "celltoolbar": "Slideshow",
  "kernelspec": {
   "display_name": "Python 3",
   "language": "python",
   "name": "python3"
  },
  "language_info": {
   "codemirror_mode": {
    "name": "ipython",
    "version": 3
   },
   "file_extension": ".py",
   "mimetype": "text/x-python",
   "name": "python",
   "nbconvert_exporter": "python",
   "pygments_lexer": "ipython3",
   "version": "3.6.6"
  }
 },
 "nbformat": 4,
 "nbformat_minor": 2
}
