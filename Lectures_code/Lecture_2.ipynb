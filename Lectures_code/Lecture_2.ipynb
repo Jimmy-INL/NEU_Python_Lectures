{
 "cells": [
  {
   "cell_type": "code",
   "execution_count": 1,
   "metadata": {
    "slideshow": {
     "slide_type": "skip"
    }
   },
   "outputs": [],
   "source": [
    "from IPython.display import Image\n",
    "from IPython.core.display import HTML \n",
    "from IPython.display import display_html\n",
    "from IPython.display import display\n",
    "from IPython.display import Math\n",
    "from IPython.display import Latex\n",
    "from IPython.display import HTML"
   ]
  },
  {
   "cell_type": "markdown",
   "metadata": {
    "slideshow": {
     "slide_type": "slide"
    }
   },
   "source": [
    "![](../assets/logo.png)\n",
    "# Lecture 2: \n",
    "- This lecture will cover the basics of arithmetic and basic datatypes in python \n",
    "    - Booleans (`bool`)\n",
    "    - Integers (`int`)\n",
    "    - Strings (`str`)\n",
    "    - Real Numbers (`float`)\n",
    "    - Lists (`list`)"
   ]
  },
  {
   "cell_type": "markdown",
   "metadata": {
    "slideshow": {
     "slide_type": "slide"
    }
   },
   "source": [
    "# Datatypes in Python: A Cheat Sheet \n",
    "- Booleans: True/False Values\n",
    "    - Boolean values are used to encode whether or note a statement or mathematical expression is true or not. \n",
    "- Integers: Whole numbers (int)\n",
    "    - Mathematically, we denote the collection of all integers $\\mathbb{Z}$.\n",
    "- Floating point number: approximations to Real Numbers (float)\n",
    "    - Mathematically, we denote the collection of all real numbers to be $\\mathbb{R}$.\n",
    "        - While there are many ways to define the real numbers, we will use a simple definition: it is the collection of all decimals valued numbers. \n",
    "        - If you want a more complete (pun intended) definition, come talk to me and ask me why you should laugh at that joke!\n",
    "    - Why do we need to approximate real numbers?\n",
    "        - Hint. $\\infty$ doesn't fit on a computer. \n",
    "        - How much space would we need to encode the full decimal expansion of $1/3$?\n",
    "    - What sort of problems can this lead to?\n",
    "        - Numerical error!\n",
    "- Strings\n",
    "    -  Letters, symbols...etc\n",
    "- Lists and Arrays \n",
    "    - Lists of objects are called lists. \n",
    "    - Arrays in python behave like vectors. \n",
    "        - Don't worry if you don't know what a vector is, we will define that later!\n",
    "- Abstract Data Types\n",
    "    - This class won't cover more than the basics, but it is important to know that there are more general data types out there!\n"
   ]
  },
  {
   "cell_type": "code",
   "execution_count": null,
   "metadata": {},
   "outputs": [],
   "source": []
  }
 ],
 "metadata": {
  "celltoolbar": "Slideshow",
  "kernelspec": {
   "display_name": "Python 3",
   "language": "python",
   "name": "python3"
  },
  "language_info": {
   "codemirror_mode": {
    "name": "ipython",
    "version": 3
   },
   "file_extension": ".py",
   "mimetype": "text/x-python",
   "name": "python",
   "nbconvert_exporter": "python",
   "pygments_lexer": "ipython3",
   "version": "3.6.3"
  }
 },
 "nbformat": 4,
 "nbformat_minor": 2
}
