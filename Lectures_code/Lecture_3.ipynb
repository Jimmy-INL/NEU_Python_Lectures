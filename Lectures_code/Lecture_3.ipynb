{
 "cells": [
  {
   "cell_type": "code",
   "execution_count": 44,
   "metadata": {
    "slideshow": {
     "slide_type": "skip"
    }
   },
   "outputs": [],
   "source": [
    "from IPython.display import Image\n",
    "from IPython.core.display import HTML \n",
    "from IPython.display import display_html\n",
    "from IPython.display import display\n",
    "from IPython.display import Math\n",
    "from IPython.display import Latex\n",
    "from IPython.display import HTML\n",
    "from jupyterthemes import jtplot\n",
    "jtplot.style(ticks=True, grid=True, figsize=(8, 6.5))"
   ]
  },
  {
   "cell_type": "markdown",
   "metadata": {
    "slideshow": {
     "slide_type": "slide"
    }
   },
   "source": [
    "![](../assets/logo.png)\n",
    "# Lecture 3: \n",
    "- This lecture will cover the basics of arithmetic and basic datatypes in python \n",
    "    - Lists\n",
    "    - Ploting "
   ]
  },
  {
   "cell_type": "markdown",
   "metadata": {
    "slideshow": {
     "slide_type": "slide"
    }
   },
   "source": [
    "# Lists and Arrays \n",
    "- Up until now, we have worked primarily with elementary data types\n",
    "- A data type in this context is python's classification for what kind of object something is\n",
    "    - You can always check the type of an object with the conveniently named `type` function\n",
    "    - For example, `type(\"hello\")` will give you `str` and `type(2)` will give you `int`\n",
    "- Today we will explore a more complex datatype known as a `list`\n",
    "    - Lists can be used to construct datatypes that are lists of other datatypes. \n",
    "    - In fact, theses lists can mix datatypes\n",
    "- Lets look at some examples \n"
   ]
  },
  {
   "cell_type": "code",
   "execution_count": 45,
   "metadata": {
    "slideshow": {
     "slide_type": "slide"
    }
   },
   "outputs": [
    {
     "name": "stdout",
     "output_type": "stream",
     "text": [
      "[1, 2, 3, 4, 5]\n",
      "<class 'list'>\n"
     ]
    }
   ],
   "source": [
    "example_list = [1,2,3,4,5]\n",
    "print(example_list)\n",
    "print(type(example_list))"
   ]
  },
  {
   "cell_type": "markdown",
   "metadata": {
    "slideshow": {
     "slide_type": "slide"
    }
   },
   "source": [
    "# Indexing\n",
    "- Now suppose we wanted to access a specific element of the example list above. We would do this be referencing the elements *index*\n",
    "- Note that Python starts counting at zero! IE, the FIRST index in the list is 0. \n",
    "- This means the last index of the list is the length of the list minus 1.\n",
    "- If you want to get the length of the list, you can use the `len` function"
   ]
  },
  {
   "cell_type": "code",
   "execution_count": 46,
   "metadata": {
    "slideshow": {
     "slide_type": "slide"
    }
   },
   "outputs": [
    {
     "name": "stdout",
     "output_type": "stream",
     "text": [
      "The length of the list is  5\n",
      "The element at index 0 is 1\n",
      "The element at index 1 is 2\n",
      "The element at index 2 is 3\n",
      "The element at index 3 is 4\n"
     ]
    }
   ],
   "source": [
    "print(\"The length of the list is \", len(example_list))\n",
    "print('The element at index 0 is', example_list[0])\n",
    "print('The element at index 1 is', example_list[1])\n",
    "print('The element at index 2 is', example_list[2])\n",
    "print('The element at index 3 is', example_list[3])"
   ]
  },
  {
   "cell_type": "markdown",
   "metadata": {
    "slideshow": {
     "slide_type": "slide"
    }
   },
   "source": [
    "# Reverse Indexing \n",
    "- Suppose we wanted to start indexing elements in an array starting from the right as opposed to the left.\n",
    "- This can be accomplished by starting at -1 instead of zero\n",
    "- -1 corresponds to the last element, -2 corresponds to the second to last and so on and so forth \n",
    "- Note that in this case the the  most negative (smallest) index value you can have is the 0 minus the length of the list \n"
   ]
  },
  {
   "cell_type": "code",
   "execution_count": 47,
   "metadata": {
    "slideshow": {
     "slide_type": "slide"
    }
   },
   "outputs": [
    {
     "name": "stdout",
     "output_type": "stream",
     "text": [
      "The element at index -1 is  5 which is the same as the element at index 3\n",
      "The element at index -2 is  4 which is the same as the element at index 2\n",
      "The element at index -3 is  3 which is the same as the element at index 1\n",
      "The element at index -4 is  2 which is the same as the element at index 0\n"
     ]
    }
   ],
   "source": [
    "print('The element at index -1 is ', example_list[-1] , 'which is the same as the element at index 3')\n",
    "print('The element at index -2 is ', example_list[-2] , 'which is the same as the element at index 2')\n",
    "print('The element at index -3 is ', example_list[-3] , 'which is the same as the element at index 1')\n",
    "print('The element at index -4 is ', example_list[-4] , 'which is the same as the element at index 0')"
   ]
  },
  {
   "cell_type": "markdown",
   "metadata": {
    "slideshow": {
     "slide_type": "slide"
    }
   },
   "source": [
    "# Introduction to Plotting in Python\n",
    "- There are many tools we can use to create graphs with, but for now we will stick to a package called `matplotlib`\n",
    "- Matplotlib, in its simplest form, takes as input 2 lists of numbers. \n",
    "    - The first list is the $x$-coordinate of all the points you wish to plot \n",
    "    - The second list is the $y$-coordinate of all the points you with to plot\n",
    "- For now, we focus on two main plotting functions: `plt.scatter` and `plt.plot`\n",
    "    - Note the dot syntax. plt is a module and the functions contained in it are scatter and plot. \n",
    "- Lets take a look at the plotting syntax"
   ]
  },
  {
   "cell_type": "markdown",
   "metadata": {},
   "source": [
    "# Plotting Points\n",
    "- Use the scatter(...) function to plot points from a list of x values and the associated y values\n",
    "- Instead of passing $$(x_1,y_1) ,\\ldots, (x_n,y_n)$$\n",
    "you pass two separate lists or arrays $$[x_1,\\ldots, x_n], [y_1,\\ldots , y_n]$$"
   ]
  },
  {
   "cell_type": "code",
   "execution_count": 48,
   "metadata": {},
   "outputs": [],
   "source": [
    "# This importd the ploting software\n",
    "# The full module name is matplotlib.pyplot but because \n",
    "# we are lazy, we give it an alias plt\n",
    "# that way, we don't need to type matplotlib.pyplot every time \n",
    "import matplotlib.pyplot as plt\n"
   ]
  },
  {
   "cell_type": "markdown",
   "metadata": {
    "slideshow": {
     "slide_type": "slide"
    }
   },
   "source": []
  },
  {
   "cell_type": "code",
   "execution_count": 58,
   "metadata": {
    "slideshow": {
     "slide_type": "slide"
    }
   },
   "outputs": [
    {
     "data": {
      "image/png": "[encoded data removed]",
      "text/plain": [
       "<matplotlib.figure.Figure at 0x1143d8f28>"
      ]
     },
     "metadata": {},
     "output_type": "display_data"
    }
   ],
   "source": [
    "# To plot the points (1,2), (2,3), (3,6), (4,8) we would list the x values and the corresponding y values:\n",
    "\n",
    "# In python3, you can unpack assignments. \n",
    "# IE, a,b,c,d = e,f,g,h  will assign a=e, b=f, c=g, d=h\n",
    "xvals, yvals = [1,2,3,4], [2,3,6,8]\n",
    "plt.scatter(x= xvals, y= yvals, c='r')\n",
    "# we can add labels for the title, x-axis and y-axis\n",
    "plt.title('Some Points in $\\mathbb{R}^2$')\n",
    "plt.xlabel(\"The $x$ Values\")\n",
    "plt.ylabel(\"The $y$ Values\")\n",
    "plt.show()"
   ]
  },
  {
   "cell_type": "code",
   "execution_count": 59,
   "metadata": {
    "slideshow": {
     "slide_type": "slide"
    }
   },
   "outputs": [
    {
     "data": {
      "image/png": "[encoded data removed]",
      "text/plain": [
       "<matplotlib.figure.Figure at 0x1145692e8>"
      ]
     },
     "metadata": {},
     "output_type": "display_data"
    }
   ],
   "source": [
    "# To plot the points (1,2), (2,3), (3,6), (4,8) we would list the x values and the corresponding y values:\n",
    "\n",
    "# In python3, you can unpack assignments. \n",
    "# IE, a,b,c,d = e,f,g,h  will assign a=e, b=f, c=g, d=h\n",
    "xvals, yvals = [1,2,3,4], [2,3,6,8]\n",
    "plt.plot(xvals,yvals, c='r')\n",
    "# we can add labels for the title, x-axis and y-axis\n",
    "plt.title('Some Points in $\\mathbb{R}^2$')\n",
    "plt.xlabel(\"The $x$ Values\")\n",
    "plt.ylabel(\"The $y$ Values\")\n",
    "plt.show()"
   ]
  },
  {
   "cell_type": "code",
   "execution_count": 60,
   "metadata": {
    "slideshow": {
     "slide_type": "slide"
    }
   },
   "outputs": [
    {
     "data": {
      "image/png": "[encoded data removed]",
      "text/plain": [
       "<matplotlib.figure.Figure at 0x11455a588>"
      ]
     },
     "metadata": {},
     "output_type": "display_data"
    }
   ],
   "source": [
    "plt.plot(xvals,yvals, c='r')\n",
    "plt.scatter(x= xvals, y= yvals, c='r')\n",
    "# we can add labels for the title, x-axis and y-axis\n",
    "plt.title('Some Points in $\\mathbb{R}^2$')\n",
    "plt.xlabel(\"The $x$ Values\")\n",
    "plt.ylabel(\"The $y$ Values\")\n",
    "plt.show()"
   ]
  },
  {
   "cell_type": "code",
   "execution_count": null,
   "metadata": {},
   "outputs": [],
   "source": []
  }
 ],
 "metadata": {
  "celltoolbar": "Slideshow",
  "kernelspec": {
   "display_name": "Python 3",
   "language": "python",
   "name": "python3"
  },
  "language_info": {
   "codemirror_mode": {
    "name": "ipython",
    "version": 3
   },
   "file_extension": ".py",
   "mimetype": "text/x-python",
   "name": "python",
   "nbconvert_exporter": "python",
   "pygments_lexer": "ipython3",
   "version": "3.6.6"
  }
 },
 "nbformat": 4,
 "nbformat_minor": 2
}
