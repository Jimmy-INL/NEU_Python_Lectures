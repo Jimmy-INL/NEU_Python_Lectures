{
 "cells": [
  {
   "cell_type": "code",
   "execution_count": 1,
   "metadata": {
    "slideshow": {
     "slide_type": "skip"
    }
   },
   "outputs": [],
   "source": [
    "from IPython.display import Image\n",
    "from IPython.core.display import HTML \n",
    "from IPython.display import display_html\n",
    "from IPython.display import display\n",
    "from IPython.display import Math\n",
    "from IPython.display import Latex\n",
    "from IPython.display import HTML"
   ]
  },
  {
   "cell_type": "markdown",
   "metadata": {
    "slideshow": {
     "slide_type": "slide"
    }
   },
   "source": [
    "![](../assets/logo.png)\n",
    "# Welcome!\n",
    "Hello and welcome!  In this class, you will develop computational problem-solving skills by programming in the general purpose Python programing language.  "
   ]
  },
  {
   "cell_type": "markdown",
   "metadata": {
    "slideshow": {
     "slide_type": "slide"
    }
   },
   "source": [
    "![](../assets/mark.png)\n",
    "# Why Computer Science?\n",
    "- Financial motivation: There are many lucrative careers in computer science...\n",
    "    - Compensation and beneffits are extremely competitive.\n",
    "    - The payscale range of income for a Software Engineer is between $\\$51,521$ and  $\\$118,417$\n",
    "    - The payscale range of income for a Machine Learning Engineer is between $\\$93,873$ and $ \\$129,514$\n",
    "    - \"Not only does computer science provide every student foundational knowledge, it also leads to the highest-paying, fastest-growing jobs in the U.S. economy. There are currently over 500,000 open computing jobs, in every sector, from manufacturing to banking, from agriculture to health care, but only 50,000 computer science graduates a year. \" (Computer Science Education Coalition)\n",
    "    - Note that for specialized computer scientists such as cloud engineers, the expected income is in many cases significantly higher. EG Cloud Engineers starting salary at Amazon is estimated to be over \\$100,000k a year\n",
    "    - Computer Science enjoys a great deal of freedom in the work place. \n",
    "- Intelectual Motiviation: There is no shortage of interesting and complex problems to solve...  \n",
    "    - The act of developing code from the ground up helps hone esential problem solving skills. \n",
    "    - A degree in computer science grants you the freedom to work in almost any field.\n",
    "    - Seemingly endless oppurtunities for creative work"
   ]
  },
  {
   "cell_type": "markdown",
   "metadata": {
    "slideshow": {
     "slide_type": "slide"
    }
   },
   "source": [
    "# Why Mathematics and Computer Science?\n",
    "- Mathematics is the language of the universe.  \n",
    "- Computer science heavily leverages concepts from  Mathematics.\n",
    "- Applying concepts from both fields has lead to major breakthroughs in many areas of study. \n"
   ]
  },
  {
   "cell_type": "markdown",
   "metadata": {
    "slideshow": {
     "slide_type": "slide"
    }
   },
   "source": [
    "# Examples of Mathematics and Computer Science in Action\n",
    "- Google DeepMind \n",
    "    - AlphaGo successfully defeated the second best GO player in the world\n",
    "- Siri Voice Recognition \n",
    "    - Siri and other virtual assistants are powered using Machine Learning (and in particular Deep Learning)\n",
    "- Improving strategy in professional athletics \n",
    "    - Achieving top 1% on ESPN http://ftw.usatoday.com/2016/04/villanova-bracket-winner\n",
    "    - https://www.kaggle.com/c/march-machine-learning-mania-2016/leaderboard\n",
    "    - Yearly Kaggle March Madness competition leader https://www.kaggle.com/orangutan/exploring-mmlm2017\n",
    "    - The Strategic Innovation Group at Booz Allen Hamilton, modeled MLB data that revealed what a pitcher would throw to a 74.5% degree of accuracy\n",
    "- Cancer Diagnosis and Classification\n",
    "    - IBM’s Watson correctly diagnosed a leukemia patient after doctors were stumped for months\n",
    "    - http://www.nydailynews.com/news/world/ibm-watson-proper-diagnosis-doctors-stumped-article-1.2741857"
   ]
  },
  {
   "cell_type": "markdown",
   "metadata": {
    "slideshow": {
     "slide_type": "slide"
    }
   },
   "source": [
    "# What is Python and who uses it?\n",
    "- Python is a powerful open source general purpose programing language.\n",
    "- Open source means all of the source code is public.\n",
    "- Python has a massive community built around sharing code and ideas. \n",
    "- It uses simple syntax making it an excellent choice for a first programing language.\n",
    "- Python is leveraged by many companies  to build complex web applications including. \n",
    "    - Disney, Dreamworks, Lucasfilm and many more use python to coordinate massive computer clusters to render blockbuster movies. \n",
    "- Is regarded by many as the swiss army knife of machine learning (statistics/data science) \n",
    "- More examples at https://www.python.org/about/success/\n"
   ]
  },
  {
   "cell_type": "markdown",
   "metadata": {
    "slideshow": {
     "slide_type": "slide"
    }
   },
   "source": [
    "# Philosophy of this Course\n",
    "- Abstract Approach\n",
    "    - Used in mathematics and computer science alike.\n",
    "    - Once you learn python, learning other languages becomes significantly easier.\n",
    "    - Ruby, Scala, R are all similar to python.\n",
    "- Emphasis on Mathematical Applications.\n",
    "- Creativity is Encouraged! \n",
    "    - Many of the problems you encounter in this class have many possible paths to solutions.\n",
    "    - \"If it is worth proving once, it is worth proving it another way\" (Glenn Stephens) "
   ]
  },
  {
   "cell_type": "markdown",
   "metadata": {
    "slideshow": {
     "slide_type": "slide"
    }
   },
   "source": [
    "# What you will learn\n",
    "- Python.\n",
    "    - Fun fact, the name python has nothing to do with the reptile of the same name. Python is an homage to the British comedy troupe Monty Python https://en.wikipedia.org/wiki/Monty_Python. \n",
    "-  Basic $\\LaTeX ~~$ typesetting inside Markdown\n",
    "    - The tool used to typeset mathematical notation. \n",
    "    - EG   $~f(x) = ax^2 + bx + c $\n",
    "- Jupyter Notebook \n",
    "    - The tool used to create this slide show!\n",
    "    - Code cells, and Markdown cells. This is a markdown cell!"
   ]
  },
  {
   "cell_type": "markdown",
   "metadata": {
    "slideshow": {
     "slide_type": "slide"
    }
   },
   "source": [
    "# Course Difficulty\n",
    "- Coding is difficult but easy in hindsight!\n",
    "- You will get stuck on problems, and that is okay! \n",
    "- We encourage you to go at your own pace!\n",
    "- If you every feel like you aren't being challenged enough, there is no shortage of interesting and difficult problems to solve!\n",
    "- \"What if I am completely lost all the time?\"\n",
    "    - Feel free to raise your hand and ask questions!\n",
    "- And remember...    ![.](http://www.quickmeme.com/img/fd/fd3d970c53aa6ae1dfdda0c2aa7c344c883bf5455bf924fdb6e3d8b1f4983385.jpg)\n",
    "- https://www.youtube.com/watch?v=DN43sCyEanA\n"
   ]
  },
  {
   "cell_type": "markdown",
   "metadata": {
    "slideshow": {
     "slide_type": "slide"
    }
   },
   "source": [
    "# Anaconda Distribution of Python \n",
    "- Download from https://www.continuum.io/downloads\n",
    "    - Make sure its python 3! \n",
    "    - Be sure to pick the correct Operating System (O.S.) (IE Windows, MAC OS, Linux)\n",
    "    - If this is your first installation of python, feel free to have it auto-setup itself up in paths. "
   ]
  },
  {
   "cell_type": "markdown",
   "metadata": {
    "slideshow": {
     "slide_type": "slide"
    }
   },
   "source": [
    "# Starting Jupyter \n",
    "- Open a Terminal \n",
    "    - For MAC OS, open your Applications folder, then open the Utilities folder. Open the Terminal application. You may want to add this to your dock.\n",
    "    - For Windows, you should have a new program called anaconda prompt. Open up this application.\n",
    "- In the terminal run  `jupyter notebook`\n",
    "- This will bring you to the home page that launches in whatever directory you executed the code from. Note you cannot see files outside of this directory tree\n",
    "- Click new and then click python3 to create a new Ipython3 notebook.\n",
    "- If you do not want to use Jupyter and would rather develop your code in a usual IDE, type $\\texttt{spyder}$ in the command prompt instead. Alternatively, use the Anaconda Navigator that will be installed in folder anaconda was installed to. \n",
    "- Alternatively, create a an account at https://cocalc.com/ (Formally known as cloud sage) \n",
    "- This is also free! (but now that it is rebraned, the free version is slow!)\n",
    "- **TODO: add Bindr Support** "
   ]
  },
  {
   "cell_type": "markdown",
   "metadata": {
    "slideshow": {
     "slide_type": "slide"
    }
   },
   "source": [
    "# Writing Your First Program!\n",
    "- Traditionally speaking, getting a computer to  echo \"Hello world!\"  is the first program that everyone learns. \n",
    "- For why this is the case, see https://en.wikipedia.org/wiki/%22Hello,_World!%22_program  \n",
    "- In order to do this, we will make use of the `print()` function\n",
    "- This function will print anything that is wrapped in quotes to the terminal. \n",
    "- For example, `print(\"Welcome to Coding To Calculus!\")` Will print the message \"Welcome to Coding To Calculus!\"\n",
    "- Try it out yourself now, write a function that prints \"Hello World\""
   ]
  },
  {
   "cell_type": "code",
   "execution_count": 2,
   "metadata": {
    "slideshow": {
     "slide_type": "slide"
    }
   },
   "outputs": [
    {
     "name": "stdout",
     "output_type": "stream",
     "text": [
      "Welcome to Coding to Calculus!\n",
      "\n"
     ]
    }
   ],
   "source": [
    "# Example: Welcome to Coding to Calculus!\n",
    "print(\"Welcome to Coding to Calculus!\")\n",
    "# Put your message below!\n",
    "print(\"\")"
   ]
  },
  {
   "cell_type": "markdown",
   "metadata": {
    "slideshow": {
     "slide_type": "slide"
    }
   },
   "source": [
    "# What did we just do?\n",
    "- We just told a computer to display the phrase \"Hello, world!\" to what is called Standard Output.\n",
    "- The $\\texttt{print}$ function is used to send inputs to standard output (IE, what you will see on your terminal screen)\n",
    "- The phrase $\\texttt{Hello, world!}$ is wrapped in double quotes \" \" to tell python that this sequence is what is called a string. You can also use single quotes '' and \"\"\"\"\"\"\n",
    "- For our purposes, a string is the data type used to represent text of any kind. "
   ]
  },
  {
   "cell_type": "code",
   "execution_count": 4,
   "metadata": {
    "slideshow": {
     "slide_type": "slide"
    }
   },
   "outputs": [
    {
     "name": "stdout",
     "output_type": "stream",
     "text": [
      "\n"
     ]
    }
   ],
   "source": [
    "# Practice Problem 1: Get python to print the phrase wubalubadubdub\n",
    "# Brownie points if you get the referance. \n",
    "\n",
    "print(\"\") # Fill me in!\n",
    "# Notice that if you don't pass in an input to print() it will return a new line \n",
    "\n"
   ]
  },
  {
   "cell_type": "code",
   "execution_count": 5,
   "metadata": {
    "slideshow": {
     "slide_type": "slide"
    }
   },
   "outputs": [
    {
     "name": "stdout",
     "output_type": "stream",
     "text": [
      "Luke, I am your Father\n",
      "NOOOOOOOOOOOOOO THATS NOT POSSIBLE\n"
     ]
    }
   ],
   "source": [
    "# Try printing your own custom message!\n",
    "# You can make the computer print whatever you want...use this power wisely! \n",
    "# Notice that this cell is full. \n",
    "# To add more space to code, click here and hit enter. \n",
    "print(\"Luke, I am your Father\")\n",
    "print(\"NOOOOOOOOOOOOOO THATS NOT POSSIBLE\")"
   ]
  },
  {
   "cell_type": "markdown",
   "metadata": {
    "slideshow": {
     "slide_type": "slide"
    }
   },
   "source": [
    "# Writing a Standalone Python Program\n",
    "- While the Jupyter notebook environment is a great tool for developing code, but sometimes the ultimate goal is to eventually run it as a standalone python program. \n",
    "- To do this, we need to make a file to store out code that ends in `.py`. \n",
    "- For example, we could make a python file called `hello.py` \n",
    "- To do this, open up a text editor \n",
    "    - I prefer to use [Sublime](https://www.sublimetext.com/) or [Atom](https://atom.io/) but you can also use notepad, or spyder (comes with anaconda)\n",
    "    - Once you open up the text editor, put the following code (with any message you want) into the file: `print(\"foo\")`\n",
    "    - Next, save the file as \"hello.py\"\n",
    "    - Now you can either open up a terminal and execute `python hello.py` in the same directory, or you can take advantage of shell shortcuts in the jupyter notebook\n",
    "        - to execute a bash/batch command in Jupyter, put a ! in the code cell and hit shift + enter"
   ]
  },
  {
   "cell_type": "code",
   "execution_count": 11,
   "metadata": {},
   "outputs": [
    {
     "name": "stdout",
     "output_type": "stream",
     "text": [
      "Hello World!\r\n"
     ]
    }
   ],
   "source": [
    "# Example of shell code being executed\n",
    "!echo Hello World!"
   ]
  },
  {
   "cell_type": "code",
   "execution_count": 12,
   "metadata": {
    "slideshow": {
     "slide_type": "slide"
    }
   },
   "outputs": [
    {
     "name": "stdout",
     "output_type": "stream",
     "text": [
      "Hello World!\r\n"
     ]
    }
   ],
   "source": [
    "# Executing the python script from the terminal \n",
    "!python hello.py"
   ]
  },
  {
   "cell_type": "markdown",
   "metadata": {
    "slideshow": {
     "slide_type": "slide"
    }
   },
   "source": [
    "![](../assets/title.png)\n",
    "## Recap\n",
    "- Overview of Course structure\n",
    "- Motivation for Computer Science and Mathematics \n",
    "- Your first program to print a message. \n",
    "## Next Time:\n",
    "- Basic Arithmetic in Python\n",
    "- Basic Datatypes in Python "
   ]
  },
  {
   "cell_type": "code",
   "execution_count": null,
   "metadata": {},
   "outputs": [],
   "source": []
  }
 ],
 "metadata": {
  "celltoolbar": "Slideshow",
  "kernelspec": {
   "display_name": "Python 3",
   "language": "python",
   "name": "python3"
  },
  "language_info": {
   "codemirror_mode": {
    "name": "ipython",
    "version": 3
   },
   "file_extension": ".py",
   "mimetype": "text/x-python",
   "name": "python",
   "nbconvert_exporter": "python",
   "pygments_lexer": "ipython3",
   "version": "3.6.3"
  }
 },
 "nbformat": 4,
 "nbformat_minor": 2
}
