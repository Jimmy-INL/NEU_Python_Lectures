{
 "cells": [
  {
   "cell_type": "markdown",
   "metadata": {},
   "source": [
    "# Loops \n",
    "- Motivating Example:\n",
    "    - We want to visit every index of a list.\n",
    "    - We don't know how long the list is. "
   ]
  },
  {
   "cell_type": "code",
   "execution_count": 31,
   "metadata": {},
   "outputs": [
    {
     "name": "stdout",
     "output_type": "stream",
     "text": [
      "hello\n"
     ]
    }
   ],
   "source": [
    "\n",
    "\n",
    "import numpy as np\n",
    "\n",
    "x=[1,2,3,4,5,12,'hello']\n",
    "print(x[len(x) -1])"
   ]
  },
  {
   "cell_type": "code",
   "execution_count": 20,
   "metadata": {},
   "outputs": [
    {
     "data": {
      "text/plain": [
       "9"
      ]
     },
     "execution_count": 20,
     "metadata": {},
     "output_type": "execute_result"
    }
   ],
   "source": [
    "# Easy Example: The list is length three\n",
    "\n",
    "example_list = [4,2,3]\n",
    "# Add all elements in the list\n",
    "\n",
    "acumulator = 0\n",
    "acumulator + example_list[0] + example_list[1] + example_list[2]"
   ]
  },
  {
   "cell_type": "code",
   "execution_count": 35,
   "metadata": {},
   "outputs": [
    {
     "name": "stdout",
     "output_type": "stream",
     "text": [
      "[11, 12, 17, 7, 12, 10, 10, 11, 13, 10, 18, 9, 13, 12, 12, 3]\n",
      "180\n"
     ]
    }
   ],
   "source": [
    "\n",
    "# What if the list is longer and we don't know how long it is?\n",
    "len_list  = np.random.randint(10,20)\n",
    "target_list = [np.random.randint(3,20) for i in range(len_list)]\n",
    "########\n",
    "#target_list = [1,2,3,4]\n",
    "acumulator = 0\n",
    "print(target_list)\n",
    "for i in range(len(target_list)):\n",
    "    acumulator = acumulator+ target_list[i]\n",
    "    \n",
    "print(acumulator)"
   ]
  },
  {
   "cell_type": "code",
   "execution_count": 18,
   "metadata": {},
   "outputs": [
    {
     "name": "stdout",
     "output_type": "stream",
     "text": [
      "227\n"
     ]
    }
   ],
   "source": [
    "# You could also iterate through the object\n",
    "acumulator = 0\n",
    "for number in target_list:\n",
    "    acumulator += number\n",
    "print(acumulator)"
   ]
  },
  {
   "cell_type": "markdown",
   "metadata": {},
   "source": [
    "# Now go through and do the same, but for multiplication\n",
    "    - Think carefully about what the accumulator should be"
   ]
  },
  {
   "cell_type": "code",
   "execution_count": null,
   "metadata": {
    "collapsed": true
   },
   "outputs": [],
   "source": [
    "en_list  = np.random.randint(10,20)\n",
    "target_list = [np.random.randint(3,20) for i in range(len_list)]\n",
    "acumulator = int(input(\"What should the acumulator be?\"))\n"
   ]
  }
 ],
 "metadata": {
  "kernelspec": {
   "display_name": "Python 3",
   "language": "python",
   "name": "python3"
  },
  "language_info": {
   "codemirror_mode": {
    "name": "ipython",
    "version": 3
   },
   "file_extension": ".py",
   "mimetype": "text/x-python",
   "name": "python",
   "nbconvert_exporter": "python",
   "pygments_lexer": "ipython3",
   "version": "3.6.0"
  }
 },
 "nbformat": 4,
 "nbformat_minor": 2
}
