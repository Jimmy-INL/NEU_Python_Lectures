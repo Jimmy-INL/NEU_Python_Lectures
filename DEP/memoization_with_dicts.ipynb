{
 "cells": [
  {
   "cell_type": "code",
   "execution_count": 18,
   "metadata": {},
   "outputs": [
    {
     "name": "stdout",
     "output_type": "stream",
     "text": [
      "{0: 0, 1: 1, 2: 1, 3: 2, 4: 3, 5: 5, 6: 8, 7: 13, 8: 21, 9: 34, 10: 55, 11: 89, 12: 144, 13: 233, 14: 377, 15: 610, 16: 987, 17: 1597, 18: 2584, 19: 4181, 20: 6765}\n"
     ]
    },
    {
     "data": {
      "text/plain": [
       "6765"
      ]
     },
     "execution_count": 18,
     "metadata": {},
     "output_type": "execute_result"
    }
   ],
   "source": [
    "# Fibonacci sequence \n",
    "import matplotlib.pyplot as plt \n",
    "\n",
    "def memo_fib(n):\n",
    "    d = { 0:0,\n",
    "       1:1 }\n",
    "    fib_n = fib_helper(n,d)\n",
    "    print(d)\n",
    "    return fib_n \n",
    "def fib_helper(n,d):\n",
    "    if n in d:\n",
    "        return d[n]\n",
    "    else:\n",
    "        d[n]= fib_helper(n-1, d)+ fib_helper(n-2,d)\n",
    "        return d[n]\n",
    "memo_fib(20)\n",
    "# How does this change the spacial requirements ?"
   ]
  },
  {
   "cell_type": "code",
   "execution_count": 11,
   "metadata": {},
   "outputs": [
    {
     "data": {
      "text/plain": [
       "31"
      ]
     },
     "execution_count": 11,
     "metadata": {},
     "output_type": "execute_result"
    }
   ],
   "source": [
    "# Exponential blow up\n",
    "def recur_coin(n):\n",
    "    if n<1:\n",
    "        return 0\n",
    "    if n ==1:\n",
    "        return 1\n",
    "    else:\n",
    "        return recur_coin(n-1) + recur_coin(n-5) + recur_coin(n-10) +recur_coin(n-25)\n",
    "    \n",
    "recur_coin(15) # any higher and this will take a LONG time "
   ]
  },
  {
   "cell_type": "code",
   "execution_count": 4,
   "metadata": {
    "collapsed": true
   },
   "outputs": [],
   "source": [
    "# Saves previous values \n",
    "def memo_coin(n):\n",
    "    d = {1:1}\n",
    "    coin_n = coin_helper(n,d)\n",
    "    return coin_n\n",
    "\n",
    "def coin_helper(n,d):\n",
    "    if n <1:\n",
    "        return 0\n",
    "    if n in d:\n",
    "        return d[n]\n",
    "    d[n] = coin_helper(n-1,d) + coin_helper(n-5,d) +  coin_helper(n-10,d)+ coin_helper(n-25,d)\n",
    "    return d[n]"
   ]
  },
  {
   "cell_type": "code",
   "execution_count": 25,
   "metadata": {},
   "outputs": [
    {
     "data": {
      "image/png": "[encoded data removed]",
      "text/plain": [
       "<matplotlib.figure.Figure at 0x10b163748>"
      ]
     },
     "metadata": {},
     "output_type": "display_data"
    }
   ],
   "source": [
    "m =80\n",
    "n = 101\n",
    "x = [i for i in range(m,n)]\n",
    "y = [memo_coin(i) for i in x]\n",
    "plt.plot(x,y)\n",
    "plt.show()"
   ]
  },
  {
   "cell_type": "code",
   "execution_count": null,
   "metadata": {
    "collapsed": true
   },
   "outputs": [],
   "source": []
  }
 ],
 "metadata": {
  "kernelspec": {
   "display_name": "Python 3",
   "language": "python",
   "name": "python3"
  },
  "language_info": {
   "codemirror_mode": {
    "name": "ipython",
    "version": 3
   },
   "file_extension": ".py",
   "mimetype": "text/x-python",
   "name": "python",
   "nbconvert_exporter": "python",
   "pygments_lexer": "ipython3",
   "version": "3.6.3"
  }
 },
 "nbformat": 4,
 "nbformat_minor": 2
}
