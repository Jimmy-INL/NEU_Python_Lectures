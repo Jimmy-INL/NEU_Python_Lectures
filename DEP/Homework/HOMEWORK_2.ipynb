{
 "cells": [
  {
   "cell_type": "code",
   "execution_count": 14,
   "metadata": {
    "collapsed": true
   },
   "outputs": [],
   "source": [
    "from IPython.display import Image\n",
    "from IPython.core.display import HTML \n",
    "from IPython.display import display_html\n",
    "from IPython.display import display\n",
    "from IPython.display import Math\n",
    "from IPython.display import Latex\n",
    "from IPython.display import HTML\n",
    "import numpy as np"
   ]
  },
  {
   "cell_type": "markdown",
   "metadata": {},
   "source": [
    "# Homework 2 \n",
    "- Functions\n",
    "- Logic\n",
    "- Conditionals "
   ]
  },
  {
   "cell_type": "markdown",
   "metadata": {},
   "source": [
    "# Goal\n",
    "In the previous lectures, we covered the basics of mathematical functions, programatic functions, first order logic, conditionals and loops. This homework assignment will be briefly review some of these topics. Remember, the only way to learn python is to get your hands dirty coding. It is highly recommended you try ALL of the problems. "
   ]
  },
  {
   "cell_type": "markdown",
   "metadata": {},
   "source": [
    "# Traceing Through Functions \n",
    "- Determine what the following funtions are doing"
   ]
  },
  {
   "cell_type": "code",
   "execution_count": 5,
   "metadata": {},
   "outputs": [
    {
     "name": "stdout",
     "output_type": "stream",
     "text": [
      "4\n",
      "9.0\n",
      "Test for myster 2\n",
      "True\n",
      "True\n",
      "True\n",
      "\n",
      "6.4\n",
      "Myst 4 test\n",
      "0\n",
      "0\n",
      "1\n",
      "3\n",
      "6\n",
      "10\n",
      "15\n",
      "\n",
      "6\n"
     ]
    }
   ],
   "source": [
    "def mystery0(x):\n",
    "    assert(type(x) == int)\n",
    "    return x * x\n",
    "# f(x) = x^2\n",
    "print(mystery0(2))\n",
    "\n",
    "def mystery1(x,a):\n",
    "    assert(type(a) == int)\n",
    "    assert( (type(x)== int) or (type(x)== float))\n",
    "    myst = 1\n",
    "    for i in range(a):\n",
    "        myst = myst * x\n",
    "    return myst\n",
    "\n",
    "print(mystery1(3.0,2))\n",
    "\n",
    "def mystery2(x,a):\n",
    "    assert(type(a) == int)\n",
    "    assert( (type(x)== int) or (type(x)== float))\n",
    "    myst = 0\n",
    "    for i in range(a):\n",
    "        myst = myst + x\n",
    "    return myst\n",
    "print(\"Test for myster 2\")\n",
    "print(mystery2(3,2) == 6)\n",
    "print(mystery2(3,3) == 9 )\n",
    "print(mystery2(4,3) == 12 )\n",
    "print()\n",
    "\n",
    "print(mystery2(3.2,2))\n",
    "\n",
    "def mystery3(n):\n",
    "    assert(type(n) == int)\n",
    "    # Always starts at zero!\n",
    "    x = 0\n",
    "    for i in range(n):\n",
    "        x = x + i\n",
    "    return x\n",
    "print(\"Myst 4 test\")\n",
    "print(mystery3(0))\n",
    "print(mystery3(1))\n",
    "print(mystery3(2))\n",
    "print(mystery3(3))\n",
    "print(mystery3(4))\n",
    "print(mystery3(5))\n",
    "print(mystery3(6))\n",
    "print()\n",
    "def mystery4(n):\n",
    "    assert(type(n) == int)\n",
    "    x = 0\n",
    "    for i in range(n):\n",
    "        if i//2 == i/2:\n",
    "            x = x + i\n",
    "    return x\n",
    "\n",
    "print(mystery4(5))\n",
    "\n",
    "# 0) Computes ...\n",
    "# 1) Computes ...\n",
    "# 2) Computes ...\n",
    "# 3) Computes ...\n",
    "# 4) Computes ...\n",
    "           "
   ]
  },
  {
   "cell_type": "markdown",
   "metadata": {},
   "source": [
    "# Implementing Mathematical Functions\n",
    "- Implment the following mathematical functions below\n",
    "- 1) cube: $f(x)=x^3$. You are allowed to assume $x$ is a type float or integer\n",
    "- 2) $\\texttt{cubic_polynomial(x)}$ computes $x^3 + 2x -1$\n",
    "- 3) slope: finds the slope of the line between the set of points $(x_1,y_1)$ and $(x_2,y_2)$\n",
    "    - Be careful-- if $x_1= x_2$, then  these two points define a vertical line. You should return an error in this case. \"Error, vertical line is not a function!\"\n",
    "- 4) $\\texttt{quadratic\\_formula(a,b,c)}$ takes as inputs $a,b,c$ which are coeficients to the polynomial $f(x)=ax^2+bx+c$ and returns all $x\\in \\mathbb{R}$ such that $f(x)=0$.\n",
    "    - Hint: Recall the quadratic formula is $$\\frac{-b \\pm \\sqrt{b^2 -4ac}}{2a}$$\n",
    "    - Math Excersise: If you want to try deriving the quadtratic formula yourself, start with $f(x)=ax^2 + bx +c$, complete the square to find when $f(x)=0$\n",
    "    - Be careful! If the function $f(x)$ has NO $x$ intercepts, the solution will be imaginary. You should protect against this by checking if $b^2 -4ac\\geq 0$ as if $b^2-4ac < 0 \\implies \\sqrt{b^2 -4ac} $  is imaginary. \n",
    "        - In the above case, return an empty list  [ ] \n",
    "    - If there are two solutions, return them in a list $[x_1,x_2]$ and if there is only 1, return $[x_1]$\n",
    "- For each function, there is a list of unit tests you can run to test if your function is working. Note it is not all inclusive, and passing the unit tests does not necesarily mean your function is correct. But failing any test does mean your function is incorrect!"
   ]
  },
  {
   "cell_type": "code",
   "execution_count": 16,
   "metadata": {},
   "outputs": [
    {
     "name": "stdout",
     "output_type": "stream",
     "text": [
      "False\n",
      "False\n",
      "False\n",
      "False\n",
      "False\n"
     ]
    }
   ],
   "source": [
    "def cube(x):\n",
    "    \"\"\"Returns the cube of an input x\"\"\"\n",
    "    return  \n",
    "\n",
    "\n",
    "\n",
    "# Unit tests:\n",
    "print(cube(2) == 8)\n",
    "print(cube(.5) == .125)\n",
    "print(cube(13.2) == 2299.968)\n",
    "print(cube(-1) == -1)\n",
    "print(cube(0) == 0)"
   ]
  },
  {
   "cell_type": "code",
   "execution_count": 17,
   "metadata": {},
   "outputs": [
    {
     "name": "stdout",
     "output_type": "stream",
     "text": [
      "False\n",
      "False\n",
      "False\n",
      "False\n"
     ]
    }
   ],
   "source": [
    "def cubic_polynomial(x):\n",
    "    \"\"\"Computes the value for the polynomaial x**3+2x -1\"\"\"\n",
    "    return \n",
    "\n",
    "\n",
    "# Unit tests:\n",
    "print(cubic_polynomial(3) == 32)\n",
    "print(cubic_polynomial(0) == -1)\n",
    "print(cubic_polynomial(1) == 2)\n",
    "print(cubic_polynomial(.124029) == -0.7500340379751236)"
   ]
  },
  {
   "cell_type": "code",
   "execution_count": 6,
   "metadata": {},
   "outputs": [
    {
     "name": "stdout",
     "output_type": "stream",
     "text": [
      "True\n",
      "True\n"
     ]
    },
    {
     "ename": "ZeroDivisionError",
     "evalue": "division by zero",
     "output_type": "error",
     "traceback": [
      "\u001b[0;31m---------------------------------------------------------------------------\u001b[0m",
      "\u001b[0;31mZeroDivisionError\u001b[0m                         Traceback (most recent call last)",
      "\u001b[0;32m<ipython-input-6-638e222095fb>\u001b[0m in \u001b[0;36m<module>\u001b[0;34m()\u001b[0m\n\u001b[1;32m      9\u001b[0m \u001b[0mprint\u001b[0m\u001b[0;34m(\u001b[0m\u001b[0mslope\u001b[0m\u001b[0;34m(\u001b[0m\u001b[0;36m1\u001b[0m\u001b[0;34m,\u001b[0m\u001b[0;36m1\u001b[0m\u001b[0;34m,\u001b[0m\u001b[0;36m0\u001b[0m\u001b[0;34m,\u001b[0m\u001b[0;36m0\u001b[0m\u001b[0;34m)\u001b[0m \u001b[0;34m==\u001b[0m \u001b[0;36m1\u001b[0m\u001b[0;34m)\u001b[0m\u001b[0;34m\u001b[0m\u001b[0m\n\u001b[1;32m     10\u001b[0m \u001b[0mprint\u001b[0m\u001b[0;34m(\u001b[0m\u001b[0mslope\u001b[0m\u001b[0;34m(\u001b[0m\u001b[0;36m2\u001b[0m\u001b[0;34m,\u001b[0m\u001b[0;36m1\u001b[0m\u001b[0;34m,\u001b[0m\u001b[0;36m0\u001b[0m\u001b[0;34m,\u001b[0m\u001b[0;36m0\u001b[0m\u001b[0;34m)\u001b[0m \u001b[0;34m==\u001b[0m \u001b[0;36m.5\u001b[0m\u001b[0;34m)\u001b[0m\u001b[0;34m\u001b[0m\u001b[0m\n\u001b[0;32m---> 11\u001b[0;31m \u001b[0mprint\u001b[0m\u001b[0;34m(\u001b[0m\u001b[0mslope\u001b[0m\u001b[0;34m(\u001b[0m\u001b[0;36m1\u001b[0m\u001b[0;34m,\u001b[0m\u001b[0;36m1\u001b[0m\u001b[0;34m,\u001b[0m\u001b[0;36m1\u001b[0m\u001b[0;34m,\u001b[0m\u001b[0;36m2\u001b[0m\u001b[0;34m)\u001b[0m \u001b[0;34m==\u001b[0m \u001b[0;34m\"Error, vertical line is not a function!\"\u001b[0m\u001b[0;34m)\u001b[0m\u001b[0;34m\u001b[0m\u001b[0m\n\u001b[0m\u001b[1;32m     12\u001b[0m \u001b[0mprint\u001b[0m\u001b[0;34m(\u001b[0m\u001b[0mslope\u001b[0m\u001b[0;34m(\u001b[0m\u001b[0;36m1\u001b[0m\u001b[0;34m,\u001b[0m\u001b[0;36m5\u001b[0m\u001b[0;34m,\u001b[0m\u001b[0;36m2\u001b[0m\u001b[0;34m,\u001b[0m\u001b[0;36m5\u001b[0m\u001b[0;34m)\u001b[0m \u001b[0;34m==\u001b[0m \u001b[0;36m0\u001b[0m\u001b[0;34m)\u001b[0m\u001b[0;34m\u001b[0m\u001b[0m\n\u001b[1;32m     13\u001b[0m \u001b[0mprint\u001b[0m\u001b[0;34m(\u001b[0m\u001b[0mslope\u001b[0m\u001b[0;34m(\u001b[0m\u001b[0;36m0\u001b[0m\u001b[0;34m,\u001b[0m\u001b[0;36m0\u001b[0m\u001b[0;34m,\u001b[0m \u001b[0;34m-\u001b[0m\u001b[0;36m1\u001b[0m\u001b[0;34m,\u001b[0m\u001b[0;36m1\u001b[0m\u001b[0;34m)\u001b[0m \u001b[0;34m==\u001b[0m \u001b[0;34m-\u001b[0m\u001b[0;36m1\u001b[0m\u001b[0;34m)\u001b[0m\u001b[0;34m\u001b[0m\u001b[0m\n",
      "\u001b[0;32m<ipython-input-6-638e222095fb>\u001b[0m in \u001b[0;36mslope\u001b[0;34m(x1, y1, x2, y2)\u001b[0m\n\u001b[1;32m      4\u001b[0m \u001b[0;34m\u001b[0m\u001b[0m\n\u001b[1;32m      5\u001b[0m \u001b[0;34m\u001b[0m\u001b[0m\n\u001b[0;32m----> 6\u001b[0;31m     \u001b[0;32mreturn\u001b[0m  \u001b[0;34m(\u001b[0m\u001b[0my2\u001b[0m\u001b[0;34m-\u001b[0m\u001b[0my1\u001b[0m\u001b[0;34m)\u001b[0m\u001b[0;34m/\u001b[0m\u001b[0;34m(\u001b[0m\u001b[0mx2\u001b[0m \u001b[0;34m-\u001b[0m \u001b[0mx1\u001b[0m\u001b[0;34m)\u001b[0m\u001b[0;34m\u001b[0m\u001b[0m\n\u001b[0m\u001b[1;32m      7\u001b[0m \u001b[0;34m\u001b[0m\u001b[0m\n\u001b[1;32m      8\u001b[0m \u001b[0;31m# Unit tests:\u001b[0m\u001b[0;34m\u001b[0m\u001b[0;34m\u001b[0m\u001b[0m\n",
      "\u001b[0;31mZeroDivisionError\u001b[0m: division by zero"
     ]
    }
   ],
   "source": [
    "# Example: What if x1-x2=0?\n",
    "#(x1,y1) and (x2,y2)\n",
    "# want the slope\n",
    "def slope(x1,y1,x2,y2):\n",
    "    \"\"\"Calculates the slope of the line through (x1,y1) and (x2,y2)\"\"\"\n",
    "    if x1==x2 and y1==y2:\n",
    "        return \"Error, same point!\"\n",
    "    if x2 == x1:\n",
    "        return \"Error, vertical line is not a function!\"\n",
    "    # This computes the slope!\n",
    "    return  (y2-y1)/(x2 - x1) \n",
    "\n",
    "# Unit tests:\n",
    "print(slope(1,1,0,0) == 1)\n",
    "print(slope(2,1,0,0) == .5)\n",
    "print(slope(1,1,1,2) == \"Error, vertical line is not a function!\")\n",
    "print(slope(1,5,2,5) == 0)\n",
    "print(slope(0,0, -1,1) == -1)"
   ]
  },
  {
   "cell_type": "code",
   "execution_count": 19,
   "metadata": {},
   "outputs": [
    {
     "name": "stdout",
     "output_type": "stream",
     "text": [
      "True\n",
      "False\n",
      "False\n",
      "False\n",
      "False\n"
     ]
    }
   ],
   "source": [
    "\n",
    "\n",
    "def quadratic_formula(a,b,c):\n",
    "    \"\"\"Retruns a list of all values of x for which f(x)=ax**2+bx+c =0 \"\"\"\n",
    "    return []\n",
    "\n",
    "##########################################################\n",
    "# Helper function for testing\n",
    "# Feel free to ignore. \n",
    "# Used to check if your function is performing correctly\n",
    "def helper_test(a,b,c):\n",
    "    xs =  quadratic_formula(a,b,c) # this is the function you will implement \n",
    "    # Be careful, if you give an empty, list, it will always return true \n",
    "    # Just because this test passes, dosen't mean your function is correct!\n",
    "    if xs ==[]:\n",
    "        if len(np.roots([a,b,c])) > 0:\n",
    "             for i in np.roots([a,b,c]):\n",
    "                    if (type(i) != np.complex128):\n",
    "                        return False\n",
    "    for x in xs:\n",
    "        if not ( abs(a * (x**2) + (b*x) + c - 0) < 1e-10): # Notice that this is for handling machine erorr\n",
    "            print(\"ERROR\")\n",
    "            print(\"Debug trace...\")\n",
    "            print('a=', a ,'b=',b,'c=',c)\n",
    "            print(\"Your function found all roots in\", xs)\n",
    "            print(\"And the solution \",x,'yielded', ((a * (x**2)) + (b*x) + c))\n",
    "            return False\n",
    "    return True \n",
    "#########################################################\n",
    "# Unit tests\n",
    "\n",
    "# T1: x**2 + 0x + 1 <-- no solutions! \n",
    "print(helper_test(1,0,1) ) # Will be true by default since stub function returns []\n",
    "# T2: x**2 - 2x + 1\n",
    "print( helper_test(1,-2,1))\n",
    "# More tests \n",
    "print(helper_test(13,12,-9))\n",
    "print(helper_test(2,12,-19))\n",
    "print(helper_test(-2,32,-1))"
   ]
  },
  {
   "cell_type": "code",
   "execution_count": 20,
   "metadata": {},
   "outputs": [
    {
     "data": {
      "text/html": [
       "<img src=\"https://img.ifcdn.com/images/7ffe594d0a3f0de5a5f35ac83554684e8a43e5eea14a52cbd1be42337a211b30_1.jpg\"/>"
      ],
      "text/plain": [
       "<IPython.core.display.Image object>"
      ]
     },
     "execution_count": 20,
     "metadata": {},
     "output_type": "execute_result"
    }
   ],
   "source": [
    "# Space DOGGO\n",
    "Image(url='https://img.ifcdn.com/images/7ffe594d0a3f0de5a5f35ac83554684e8a43e5eea14a52cbd1be42337a211b30_1.jpg')"
   ]
  },
  {
   "cell_type": "markdown",
   "metadata": {},
   "source": [
    "# Mathematical Moon Mission\n",
    "Suppose you work for NASA and you want to help your mathematically illiterate colleague plan a trip to the moon. In particular, he needs to know how much food needs to be packed aboard the spaceship to ensure none of the astronauts go hungry. He tells you the following:\n",
    "- Every astronaut needs $\\textbf{.5}$ kilograms of food a day.\n",
    "- There are $\\textbf{4}$ astronauts\n",
    "- The distance from the launch site to the moon is approximately $\\textbf{384,400}$ kilometers \n",
    "- The average velocity is roughly $\\textbf{1.5}$ kilometers per second. \n",
    "    - We assume time to reach terminal speed and time needed to de-accelerate are negligible. \n",
    "    - This means you can assume the velocity at any given point is 1.5 kilometers per second. \n",
    "        - Of course in reality, you need a higher initial velocity to escape earth's orbit, and once the rocket gets close to the moon, it needs to have enough time to de-accelerate down to zero to avoid a crash landing. \n",
    "        - This is a simple model where the spaceship leaves earth going 1.5 kilometers per second, and magically stops once it gets to the moon. \n",
    "    - The positive direction is the line connecting the launchpad on earth to the moon (we will assume it is a straight line for this problem). \n"
   ]
  },
  {
   "cell_type": "code",
   "execution_count": 21,
   "metadata": {
    "collapsed": true
   },
   "outputs": [],
   "source": [
    "# Goal: use the following varriables to  determine how much food is needed \n",
    "# In order to achieve this, you must first calculate how many days the trip will last\n",
    "distance_to_moon =  384400 # kilometers\n",
    "number_of_astronauts = 4 \n",
    "food_per_atronaut = .5 # kilograms\n",
    "velocity = 1.5 # kilometers per second "
   ]
  },
  {
   "cell_type": "code",
   "execution_count": 22,
   "metadata": {},
   "outputs": [
    {
     "data": {
      "text/html": [
       "<img src=\"https://media3.giphy.com/media/pBj0EoGSYjGms/200_s.gif\" width=\"850\" height=\"800\"/>"
      ],
      "text/plain": [
       "<IPython.core.display.Image object>"
      ]
     },
     "execution_count": 22,
     "metadata": {},
     "output_type": "execute_result"
    }
   ],
   "source": [
    "Image(url='https://media3.giphy.com/media/pBj0EoGSYjGms/200_s.gif',height=800, width=850)"
   ]
  },
  {
   "cell_type": "code",
   "execution_count": 23,
   "metadata": {
    "collapsed": true
   },
   "outputs": [],
   "source": [
    "# First, find the time in seconds\n",
    "# Hint: first compute travel time in seconds. \n",
    "# In order to find how many seconds it takes you to get to the moon, notice that \n",
    "# 1) We know the distance in Kilometers\n",
    "# 2) we know the speed in Kilometers per second\n",
    "travel_seconds =  -1 # Change me\n"
   ]
  },
  {
   "cell_type": "code",
   "execution_count": 24,
   "metadata": {},
   "outputs": [
    {
     "data": {
      "text/plain": [
       "1.0"
      ]
     },
     "execution_count": 24,
     "metadata": {},
     "output_type": "execute_result"
    }
   ],
   "source": [
    "# Then  Compute travel in minutes\n",
    "# There are 60 seconds in a minute\n",
    "travel_minutes =  travel_seconds/-1 # Change me\n",
    "travel_minutes"
   ]
  },
  {
   "cell_type": "code",
   "execution_count": 25,
   "metadata": {
    "collapsed": true
   },
   "outputs": [],
   "source": [
    "# Then time in hours\n",
    "# There are 60 minute in an hour\n",
    "travel_hours = travel_minutes / -1 # change me\n"
   ]
  },
  {
   "cell_type": "code",
   "execution_count": 26,
   "metadata": {
    "collapsed": true
   },
   "outputs": [],
   "source": [
    "# And finally, time in days\n",
    "# There are 24 hours in a day \n",
    "\n",
    "travel_days =  travel_hours / -1 # Change me\n"
   ]
  },
  {
   "cell_type": "code",
   "execution_count": 27,
   "metadata": {
    "collapsed": true
   },
   "outputs": [],
   "source": [
    "# Now compute how much food is needed\n",
    "# You now know how many days it takes to get to the mon\n",
    "# How many atronauts there are\n",
    "# AND how much food per Astronaut is needed \n",
    "\n",
    "# Replace , with opperations\n",
    "kilos_of_food =  travel_days , number_of_astronauts , food_per_atronaut"
   ]
  },
  {
   "cell_type": "markdown",
   "metadata": {},
   "source": [
    "# Using functions to re-use code\n",
    "- Now suppose we don't now the velocity but your boss gives you an arbitrary velocity. \n",
    "    - Your job is to compute \n",
    "       - 1) How long it will take to get to the moon.\n",
    "       - 2) How much food should be brought for $n$ astronauts.\n",
    "       - 3) If the input doesn't make sense, return an error. EG print \"this input is bad because...\"\n",
    "       - 4) There is space for at most 100 kilograms of food. If the mission require more than that, tell your boss how much more mass (in kilograms) the spaceship needs to support. EG if the mission requires 105 kilograms, tell your boss you need to be able to fit 5 more kilograms $(105-100=5).$\n",
    "       - 5) Think carefully about all of the ways you could break this function! IE does it make sense to have a negative velocity here? What if you have a rational number of astronauts, say 3.4?\n",
    "           - Below, are some inputs that _should_ cause your function to exit early and not produce a result, as the result won't be meaningful. \n",
    "           - Be wary of Zero Divides "
   ]
  },
  {
   "cell_type": "code",
   "execution_count": 28,
   "metadata": {
    "collapsed": true
   },
   "outputs": [],
   "source": [
    "# Code stub. Complete me \n",
    "# Code stub\n",
    "def how_much_food(velocity, num_astronauts ):\n",
    "    \"\"\"how_much_food\n",
    "    Takes a positive velocity and the number of atronauts on a space ship and computes how much \n",
    "    food is needed for the voyage.\n",
    "    @params velocity : the average velocity of the spaceship\n",
    "            num_astronauts : number of astronauts on the voyage\"\"\"\n",
    "     # Static variables. These are the same for every function call\n",
    "    distance_to_moon =  384400\n",
    "    food_per_atronaut = .5 # kilograms\n",
    "    # Function begins here\n",
    "    return \"This function has not yet been implimented. Hopefully someone does impliment it so the astronauts don't starve\"\n"
   ]
  },
  {
   "cell_type": "code",
   "execution_count": 29,
   "metadata": {
    "collapsed": true
   },
   "outputs": [],
   "source": [
    "# Inputs that may break your code!\n",
    "bad_inputs_velocity = [-10,0]\n",
    "bad_inputs_number_astronauts = [0,1.5,-3]\n"
   ]
  },
  {
   "cell_type": "code",
   "execution_count": 31,
   "metadata": {},
   "outputs": [
    {
     "name": "stdout",
     "output_type": "stream",
     "text": [
      "False\n",
      "False\n",
      "Tests past!\n"
     ]
    }
   ],
   "source": [
    "# Lets test this out\n",
    "test = how_much_food(velocity=1.5, num_astronauts=4 )\n",
    "print(test[0] == travel_days)\n",
    "print(test[1] == kilos_of_food)\n",
    "print(\"Tests past!\")"
   ]
  },
  {
   "cell_type": "markdown",
   "metadata": {
    "collapsed": true
   },
   "source": [
    "# Challenge Problem\n",
    "- Write a function $\\texttt{make_change(cents)}$  that takes as input a positive integer $\\texttt{cents}$ that represents a certian amount of money in cents. The function should return a list of four integers denoting number of quaters used, dimes used, nickels, and finally pennies. Note that the number of coins should be $\\textbf{minimal}$\n",
    "- For example: $\\texttt{make_change(346)}$ could be represented as [0,0,0,346] but it is not minimal!\n",
    "- It should be $\\texttt{[13, 2, 0, 1]}$ which is 13 quaters, 2 dimes 0 nickels and 1 penny. This is minimal!\n",
    "- You might find the modulus opperator % useful and integer division // useful.\n"
   ]
  },
  {
   "cell_type": "code",
   "execution_count": 32,
   "metadata": {},
   "outputs": [
    {
     "name": "stdout",
     "output_type": "stream",
     "text": [
      "False\n",
      "False\n",
      "False\n",
      "False\n"
     ]
    }
   ],
   "source": [
    "# Assume we are talking about 1 unit is 1 cent. \n",
    "# IE, 1 quater is 25 cents. \n",
    "# So, on input, make_change(50) should return 2 quaters, 0 dimes,0 nickels,0 pennies \n",
    "def make_change(cents):\n",
    "    q = 0 # Number of quaters\n",
    "    d = 0 # Number of dimes\n",
    "    n = 0 # Number of nickels\n",
    "    p = 0 # number of pennies\n",
    "    # Your code goes here\n",
    "    return [q,d,n,p]\n",
    "\n",
    "# Unit Tests\n",
    "print(make_change(126) == [5,0,0,1])\n",
    "print(make_change(57) == [2,0,1,2])\n",
    "print(make_change(357) == [14,0,1,2])\n",
    "print(make_change(67) == [2,1,1,2])"
   ]
  },
  {
   "cell_type": "code",
   "execution_count": null,
   "metadata": {
    "collapsed": true
   },
   "outputs": [],
   "source": []
  }
 ],
 "metadata": {
  "kernelspec": {
   "display_name": "Python 3",
   "language": "python",
   "name": "python3"
  },
  "language_info": {
   "codemirror_mode": {
    "name": "ipython",
    "version": 3
   },
   "file_extension": ".py",
   "mimetype": "text/x-python",
   "name": "python",
   "nbconvert_exporter": "python",
   "pygments_lexer": "ipython3",
   "version": "3.6.0"
  }
 },
 "nbformat": 4,
 "nbformat_minor": 2
}
