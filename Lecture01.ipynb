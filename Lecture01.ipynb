{
 "cells": [
  {
   "cell_type": "markdown",
   "metadata": {},
   "source": []
  },
  {
   "cell_type": "markdown",
   "metadata": {
    "slideshow": {
     "slide_type": "slide"
    }
   },
   "source": [
    "# Welcome!\n",
    "Hello and welcome!  In this class, you will develop computational problem-solving skills by programming in the general purpose Python programing language.  The underlying philosphy is comparable to "
   ]
  },
  {
   "cell_type": "markdown",
   "metadata": {
    "slideshow": {
     "slide_type": "slide"
    }
   },
   "source": [
    "# Why Computer Science?\n",
    "- Financial motiviation: There are many lucrative careers in computer science...\n",
    "    - Compensation and beniffits are extremely competitive.\n",
    "    - The payscale range of income for a Software Engineer is between $\\$51,521$ and  $\\$118,417$\n",
    "    - The payscale range of income for a Machine Learning Engineer is between $\\$93,873$ and $ \\$129,514$\n",
    "    - “Not only does computer science provide every student foundational knowledge, it also leads to the highest-paying, fastest-growing jobs in the U.S. economy. There are currently over 500,000 open computing jobs, in every sector, from manufacturing to banking, from agriculture to healthcare, but only 50,000 computer science graduates a year. ” (Computer Science Education Coalition)\n",
    "    - Note that for specialized computer scientists such as cloud engineers, the expected income is in many cases significantly higher. EG Cloud Engineers starting salary at Amazon is estimated to be over \\$100,000k a year\n",
    "    - Computer Science enjoys a great deal of freedom in the work place. \n",
    "- Intelectual Motiviation: There is no shortage of interesting and complex problems to solve...  \n",
    "    - The act of developing code from the ground up helps hone esential problem solving skills. \n",
    "    - A degree in computer science grants you the freedom to work in almost any field.\n",
    "    - Seemingly endless oppurtunities for creative work"
   ]
  },
  {
   "cell_type": "markdown",
   "metadata": {},
   "source": [
    "# Why Mathematics and Computer Science?\n",
    "- Mathematics does not exist in isolation.\n",
    "- Computer science and Mathematics compliment eachother.\n",
    "- Applying concepts from both fields has lead to major breakthroughs in many areas of study. "
   ]
  },
  {
   "cell_type": "markdown",
   "metadata": {},
   "source": [
    "# Examples of Mathematics and Computer Science in Action\n",
    "- Google DeepMind \n",
    "    - AlphaGo sucsessfully defeated the second best GO player in the world\n",
    "- Siri Voice Recognition \n",
    "    - Siri and other virtual assitants are powered using Machine Learning (and in particular Deep Learning)\n",
    "- Improving strategy in professional atheltics \n",
    "    - Acheiving top 1% on ESPN http://ftw.usatoday.com/2016/04/villanova-bracket-winner\n",
    "    - https://www.kaggle.com/c/march-machine-learning-mania-2016/leaderboard\n",
    "    - Yearly Kaggle March Madness competition leader https://www.kaggle.com/orangutan/exploring-mmlm2017\n",
    "    - The Strategic Innovation Group at Booz Allen Hamilton, modelled MLB data that revealed what a pitcher would throw to a 74.5% degree of accuracy\n",
    "- Cancner Diagnosis and Classification\n",
    "    - IBM’s Watson gives proper diagnosis for Japanese leukemia patient after doctors were stumped for months\n",
    "    - http://www.nydailynews.com/news/world/ibm-watson-proper-diagnosis-doctors-stumped-article-1.2741857\n",
    "  "
   ]
  },
  {
   "cell_type": "markdown",
   "metadata": {},
   "source": [
    "# What is Python and who uses it?\n",
    "- Python is a poweful open source general purpose programing language.\n",
    "- Open source means source code is public\n",
    "- Python has a massive community built around sharing code and ideas. \n",
    "- It use simple syntax making it an excelent choice for a first programing language.\n",
    "- Python is leveraged by many companies  to build complex web applications including. \n",
    "- Disney, Dreamworks, Lucasfilm use python to coordinate massive computer clusters to render blockbuster mobies. \n",
    "- Is regarded by many as the swiss army knife of machine learning (statistics/data science) \n",
    "- More examples at https://www.python.org/about/success/\n"
   ]
  },
  {
   "cell_type": "markdown",
   "metadata": {},
   "source": [
    "# Philosphy of this Course\n",
    "- Abstract Approach\n",
    "    - Used in mathematics and computer science alike\n",
    "    - Once you learn python, learning other languages becomes significantly easier\n",
    "    - Ruby, Scala, R are all similar to python\n",
    "- Emphasis on Mathematical Applications\n",
    "- Creativity is Encouraged! \n",
    "    - Many of the problems you encounter in this class have many possible paths to solutions.\n",
    "    - \"If it is worth proving once, it is worth proving it another way\" (Glenn Stephens) "
   ]
  },
  {
   "cell_type": "markdown",
   "metadata": {
    "collapsed": true
   },
   "source": [
    "# What you will learn\n",
    "- Python \n",
    "-  $\\LaTeX$ typesetting inside Markdown\n",
    "- Jupyter Notebook"
   ]
  },
  {
   "cell_type": "markdown",
   "metadata": {},
   "source": [
    "# What will you build?\n",
    "- This is up to you! "
   ]
  },
  {
   "cell_type": "markdown",
   "metadata": {},
   "source": [
    "# Without further Ado\n",
    "- Lets dive right in. \n",
    "- Setting up Python and Jupyter Notebook \n"
   ]
  },
  {
   "cell_type": "markdown",
   "metadata": {},
   "source": [
    "# Anaconda Distribution of Python \n",
    "- Download from https://www.continuum.io/downloads\n",
    "    - Make sure its python 3! \n",
    "    - Be sure to pick the correct Oppperating System (O.S.)"
   ]
  },
  {
   "cell_type": "markdown",
   "metadata": {},
   "source": [
    "# Starting Jupyter \n",
    "- Open a Terminal \n",
    "    - For MAC OS, open your Applications folder, then open the Utilities folder. Open the Terminal application. You may want to add this to your dock.\n",
    "    - For Windows, simply search for CMD and run the result\n",
    "- In the termianl run $\\texttt{jupyter notebook}$\n",
    "- This will bring you to the home page. \n",
    "- Click new and then click python3 to create a new python3 notebook.\n",
    "- If you do not want to use Jupyter and would rather develop your code in a usual IDE, type $\\texttt{spyder}$ in the command prompt instead. Alternatively, use the Anaconda Navigator that will be installed in folder anaconda was intalled to. \n",
    "- Alternatively, create a an account at https://cocalc.com/ (Formally known as cloud sage) \n",
    "- This is also free!"
   ]
  },
  {
   "cell_type": "markdown",
   "metadata": {},
   "source": [
    "# Writting Your First Program!\n",
    "- Traditionally speaking, getting a computer to  say \"Hello world!\"  is the first program that everyone learns. \n",
    "- For why this is the case, see https://en.wikipedia.org/wiki/%22Hello,_World!%22_program"
   ]
  },
  {
   "cell_type": "code",
   "execution_count": 1,
   "metadata": {
    "collapsed": false
   },
   "outputs": [
    {
     "name": "stdout",
     "output_type": "stream",
     "text": [
      "Hello, world!\n"
     ]
    }
   ],
   "source": [
    "# In python, if you want to add a comment to a pogram, use a hashtag to tell the kernel to NOT run this line \n",
    "# Obligitory First Program\n",
    "print(\"Hello, world!\")\n"
   ]
  },
  {
   "cell_type": "markdown",
   "metadata": {},
   "source": [
    "# What did we just do?\n",
    "- We just told a computer to display the phrase \"Hello, world!\" to what is called Standard Output\n",
    "- The $\\texttt{print}$ function is used to send inputs to standard output (IE, what you will see on your terminal screen)\n",
    "- The phrase $\\texttt{Hello, world!}$ is wrapped in double quotes \" \" to tell python that this sequence is what is called a string. You can also use single quotes ''"
   ]
  },
  {
   "cell_type": "code",
   "execution_count": 32,
   "metadata": {
    "collapsed": false
   },
   "outputs": [
    {
     "name": "stdout",
     "output_type": "stream",
     "text": [
      "\n"
     ]
    }
   ],
   "source": [
    "# Practice Problem 1: Get python to print the phrase wubalubadubdub\n",
    "\n",
    "print() # Fill me in!\n",
    "# Notice that if you don't pass in an input to print() it will return a new line \n",
    "\n"
   ]
  },
  {
   "cell_type": "code",
   "execution_count": null,
   "metadata": {
    "collapsed": true
   },
   "outputs": [],
   "source": [
    "#Try printing your own custom message!\n"
   ]
  },
  {
   "cell_type": "markdown",
   "metadata": {},
   "source": [
    "# Basic Data Types in Python\n",
    "- Booleans: True/False Values\n",
    "- Integers: Whole numbers (int)\n",
    "- Floarting point number: approximations to Real Numbers (float)\n",
    "- Strings: Letters, symoblas...etc\n",
    "- Lists and Arrays \n"
   ]
  },
  {
   "cell_type": "markdown",
   "metadata": {},
   "source": [
    "# Opperators \n",
    "- Addition $+$\n",
    "- Subtraction $-$\n",
    "- Multiplication $*$\n",
    "- Division $/$\n",
    "- Integer Division $//$ \n",
    "- Exponentiation $**$\n",
    "- Concatination (strings and arrays) is also $+$"
   ]
  },
  {
   "cell_type": "markdown",
   "metadata": {},
   "source": [
    "# Variables\n",
    "- Basic way of storing values and data types"
   ]
  },
  {
   "cell_type": "code",
   "execution_count": 2,
   "metadata": {
    "collapsed": false
   },
   "outputs": [
    {
     "name": "stdout",
     "output_type": "stream",
     "text": [
      "3 6 12 8 2 2.5 False True\n"
     ]
    }
   ],
   "source": [
    "# Example of variables and opperators on integers\n",
    "a = 1 + 2\n",
    "m = 3 * 2\n",
    "s = 13 - 1\n",
    "e = 2 ** 3\n",
    "i_d= 5 // 2 \n",
    "d= 5 / 2\n",
    "boolean_op = 1==0\n",
    "boolean_add = (3*2)==6\n",
    "print(a,m,s,e,i_d,d, boolean_op, boolean_add ) # should be 3 6 12 8 2 2.5"
   ]
  },
  {
   "cell_type": "code",
   "execution_count": 34,
   "metadata": {
    "collapsed": false
   },
   "outputs": [
    {
     "name": "stdout",
     "output_type": "stream",
     "text": [
      "282429536481\n"
     ]
    }
   ],
   "source": [
    "#You can also use opperators on variables!\n",
    "w= (x+y)**z # This will be huge!\n",
    "print(w) # should be 282429536481"
   ]
  },
  {
   "cell_type": "code",
   "execution_count": 36,
   "metadata": {
    "collapsed": false
   },
   "outputs": [
    {
     "name": "stdout",
     "output_type": "stream",
     "text": [
      "<class 'int'>\n",
      "<class 'float'>\n"
     ]
    }
   ],
   "source": [
    "#If you are ever unsure as to what datatype something is, use the type function\n",
    "print(type(a))\n",
    "print(type(d))"
   ]
  },
  {
   "cell_type": "code",
   "execution_count": 41,
   "metadata": {
    "collapsed": false
   },
   "outputs": [
    {
     "name": "stdout",
     "output_type": "stream",
     "text": [
      "ab\n"
     ]
    }
   ],
   "source": [
    "#Example of strings\n",
    "empty = \"\" #The empty string\n",
    "space= \" \" # space\n",
    "new_line = \"\\n\" # a new line charecter\n",
    "tab = \"\\t\" #a tab \n",
    "first_program = \"Hello, world!\"\n",
    "ex0 = \"Feel free to m1x letters and numbers.\"\n",
    "ex1 = \"L33t H4Xs\"\n",
    "\n",
    "#String Concatination\n",
    "s0 = \"a\"\n",
    "s1 = \"b\"\n",
    "concat_s = s0 + s1 #This attataches \"a\" and \"b\" to make \"ab\"\n",
    "print(concat_s)\n",
    "#Question: Is String Concatanation Commutative?\n",
    "\n"
   ]
  },
  {
   "cell_type": "code",
   "execution_count": 42,
   "metadata": {
    "collapsed": false
   },
   "outputs": [
    {
     "name": "stdout",
     "output_type": "stream",
     "text": [
      "I am only going to say this once! I am only going to say this once! I am only going to say this once! I am only going to say this once! I am only going to say this once! \n"
     ]
    }
   ],
   "source": [
    "#You can also use multiplication!\n",
    "once = \"I am only going to say this once! \" #Why did I add an extra space here?\n",
    "five_times = once * 5\n",
    "print(five_times)\n",
    "\n"
   ]
  },
  {
   "cell_type": "code",
   "execution_count": 43,
   "metadata": {
    "collapsed": false
   },
   "outputs": [
    {
     "ename": "TypeError",
     "evalue": "must be str, not int",
     "output_type": "error",
     "traceback": [
      "\u001b[0;31m---------------------------------------------------------------------------\u001b[0m",
      "\u001b[0;31mTypeError\u001b[0m                                 Traceback (most recent call last)",
      "\u001b[0;32m<ipython-input-43-b8e96e867893>\u001b[0m in \u001b[0;36m<module>\u001b[0;34m()\u001b[0m\n\u001b[1;32m      3\u001b[0m \u001b[0mprime_number\u001b[0m \u001b[0;34m=\u001b[0m \u001b[0;34m\"My favorite prime number is: \"\u001b[0m\u001b[0;34m\u001b[0m\u001b[0m\n\u001b[1;32m      4\u001b[0m \u001b[0mfavorite_prime\u001b[0m \u001b[0;34m=\u001b[0m \u001b[0;36m2\u001b[0m\u001b[0;34m\u001b[0m\u001b[0m\n\u001b[0;32m----> 5\u001b[0;31m \u001b[0mprint\u001b[0m\u001b[0;34m(\u001b[0m\u001b[0mprime_number\u001b[0m \u001b[0;34m+\u001b[0m \u001b[0mfavorite_prime\u001b[0m\u001b[0;34m)\u001b[0m\u001b[0;34m\u001b[0m\u001b[0m\n\u001b[0m",
      "\u001b[0;31mTypeError\u001b[0m: must be str, not int"
     ]
    }
   ],
   "source": [
    "# What if you want to concatonate a string and an integer or float?\n",
    "#Example:\n",
    "prime_number = \"My favorite prime number is: \"\n",
    "favorite_prime = 2\n",
    "print(prime_number + favorite_prime) #This gives an error!"
   ]
  },
  {
   "cell_type": "code",
   "execution_count": 45,
   "metadata": {
    "collapsed": false
   },
   "outputs": [
    {
     "name": "stdout",
     "output_type": "stream",
     "text": [
      "<class 'int'> <class 'float'> <class 'str'>\n"
     ]
    }
   ],
   "source": [
    "#We can fix this by using type converters! \n",
    "#Python has many built in converters Some examples:\n",
    "string_to_integer = int(\"42\") #The meaning of life :-)\n",
    "string_to_float = float(\"17.38\") \n",
    "integer_to_str = str(42)\n",
    "print(type(string_to_integer), type(string_to_float), type(integer_to_str))"
   ]
  },
  {
   "cell_type": "code",
   "execution_count": 46,
   "metadata": {
    "collapsed": false
   },
   "outputs": [
    {
     "name": "stdout",
     "output_type": "stream",
     "text": [
      "My favorite prime number is: 2\n"
     ]
    }
   ],
   "source": [
    "#Therefore, we can modify the broken code to \n",
    "print(prime_number + str(favorite_prime))"
   ]
  },
  {
   "cell_type": "code",
   "execution_count": 47,
   "metadata": {
    "collapsed": false
   },
   "outputs": [
    {
     "name": "stdout",
     "output_type": "stream",
     "text": [
      "Squidwardsmellsgood.\n"
     ]
    }
   ],
   "source": [
    "# Practice problem: Fix the below code so that it makes a \n",
    "# gramatically correct sentence using only the 5 variables below\n",
    "string_0 = \"Squidward\"\n",
    "string_1 = \"smells\"\n",
    "string_2 = \"good\"\n",
    "string_3 = \".\"\n",
    "space = \" \"\n",
    "\n",
    "print( string_0 + string_1 + string_2 + string_3) #Hmmm something is wrong!\n"
   ]
  },
  {
   "cell_type": "code",
   "execution_count": 48,
   "metadata": {
    "collapsed": false
   },
   "outputs": [
    {
     "data": {
      "text/plain": [
       "'Hello, world!'"
      ]
     },
     "execution_count": 48,
     "metadata": {},
     "output_type": "execute_result"
    }
   ],
   "source": [
    "#Your First Function!\n",
    "\n",
    "def my_first_function(name):\n",
    "    \"\"\"This is my first program!\"\"\" #Doc string is used to provide clarity\n",
    "    return \"Hello, \" + name + \"!\" \n",
    "    \n",
    "my_first_function(\"world\")"
   ]
  },
  {
   "cell_type": "code",
   "execution_count": 49,
   "metadata": {
    "collapsed": false
   },
   "outputs": [
    {
     "ename": "TypeError",
     "evalue": "must be str, not int",
     "output_type": "error",
     "traceback": [
      "\u001b[0;31m---------------------------------------------------------------------------\u001b[0m",
      "\u001b[0;31mTypeError\u001b[0m                                 Traceback (most recent call last)",
      "\u001b[0;32m<ipython-input-49-8871d05988d8>\u001b[0m in \u001b[0;36m<module>\u001b[0;34m()\u001b[0m\n\u001b[1;32m      1\u001b[0m \u001b[0;31m#Be careful! Python makes it easy to pass in whatever type of parameter you want!\u001b[0m\u001b[0;34m\u001b[0m\u001b[0;34m\u001b[0m\u001b[0m\n\u001b[1;32m      2\u001b[0m \u001b[0;31m# How could we break the above program? Well, here is an example!\u001b[0m\u001b[0;34m\u001b[0m\u001b[0;34m\u001b[0m\u001b[0m\n\u001b[0;32m----> 3\u001b[0;31m \u001b[0mmy_first_function\u001b[0m\u001b[0;34m(\u001b[0m\u001b[0;36m2\u001b[0m\u001b[0;34m)\u001b[0m  \u001b[0;31m#This is the same problem we had last time!\u001b[0m\u001b[0;34m\u001b[0m\u001b[0m\n\u001b[0m",
      "\u001b[0;32m<ipython-input-48-c81cbf1b8b37>\u001b[0m in \u001b[0;36mmy_first_function\u001b[0;34m(name)\u001b[0m\n\u001b[1;32m      3\u001b[0m \u001b[0;32mdef\u001b[0m \u001b[0mmy_first_function\u001b[0m\u001b[0;34m(\u001b[0m\u001b[0mname\u001b[0m\u001b[0;34m)\u001b[0m\u001b[0;34m:\u001b[0m\u001b[0;34m\u001b[0m\u001b[0m\n\u001b[1;32m      4\u001b[0m     \u001b[0;34m\"\"\"This is my first program!\"\"\"\u001b[0m \u001b[0;31m#Doc string is used to provide clarity\u001b[0m\u001b[0;34m\u001b[0m\u001b[0m\n\u001b[0;32m----> 5\u001b[0;31m     \u001b[0;32mreturn\u001b[0m \u001b[0;34m\"Hello, \"\u001b[0m \u001b[0;34m+\u001b[0m \u001b[0mname\u001b[0m \u001b[0;34m+\u001b[0m \u001b[0;34m\"!\"\u001b[0m\u001b[0;34m\u001b[0m\u001b[0m\n\u001b[0m\u001b[1;32m      6\u001b[0m \u001b[0;34m\u001b[0m\u001b[0m\n\u001b[1;32m      7\u001b[0m \u001b[0mmy_first_function\u001b[0m\u001b[0;34m(\u001b[0m\u001b[0;34m\"world\"\u001b[0m\u001b[0;34m)\u001b[0m\u001b[0;34m\u001b[0m\u001b[0m\n",
      "\u001b[0;31mTypeError\u001b[0m: must be str, not int"
     ]
    }
   ],
   "source": [
    "#Be careful! Python makes it easy to pass in whatever type of parameter you want!\n",
    "# How could we break the above program? Well, here is an example!\n",
    "my_first_function(2)  #This is the same problem we had last time!"
   ]
  },
  {
   "cell_type": "markdown",
   "metadata": {},
   "source": [
    "# Basic First Order Logic\n",
    "- One way to ensure that this program doesn't break is to ensure that the input is of type str (recall that str is a string in python)\n",
    "- In computer science, use conditionals to convey logical ideas.\n",
    "- the 4 most basic logical opperators are $\\texttt{and, or, not, Exclusive_or}$\n",
    "- AND takes two boolean values. If they are both True, it returns True. Otherwise, it returns False\n",
    "- OR takes two boolean values. If at least 1 of them is True, it returns True. Otherwise, it returns False\n",
    "- NOT takes one boolean value and returns the logical negation of the input. IE if the input is True, the output is False. If the input is False, the output is True\n",
    "- EXCLUSIVE OR takes two boolean values and returns True when exactly 1 of the inputs is True. False Otherwie\n"
   ]
  },
  {
   "cell_type": "code",
   "execution_count": 9,
   "metadata": {
    "collapsed": false
   },
   "outputs": [
    {
     "name": "stdout",
     "output_type": "stream",
     "text": [
      "True True True True\n"
     ]
    }
   ],
   "source": [
    "xor = False ^ True # Computes exclusive or\n",
    "logical_and = True and False\n",
    "logical_or = True or False\n",
    "logical_not = not False \n",
    "print(xor, logical_or, logical_or, logical_not)"
   ]
  },
  {
   "cell_type": "markdown",
   "metadata": {},
   "source": [
    "# Conditionals \n",
    "- Lets try and use the logic opperators to fix our first function!\n",
    "- We can test if certian logical conditions are met using Conditional expressions\n",
    "- IE if, elif, else. \n",
    "- if: If (this statement is true) --> do this\n",
    "- else: Used after an if statement.\n",
    "- elif: Usedin between an if and an else"
   ]
  },
  {
   "cell_type": "code",
   "execution_count": 11,
   "metadata": {
    "collapsed": false
   },
   "outputs": [
    {
     "name": "stdout",
     "output_type": "stream",
     "text": [
      "Input name must be a string!\n",
      "This broke our last program! -1\n",
      " Hello, 2!\n"
     ]
    }
   ],
   "source": [
    "def second_program(name):\n",
    "    \"\"\"This is a better version of my first program!\n",
    "    It only works for strings!\"\"\"\n",
    "    if type(name) is not str:\n",
    "        print(\"Input name must be a string!\")\n",
    "        return -1 #usually used to indicate the existence of an error\n",
    "    #you could also just return nothing \n",
    "    else:\n",
    "        return \"Hello, \" + name + \"!\"\n",
    "a = second_program(2)\n",
    "b = second_program(str(2))\n",
    "print(\"This broke our last program!\", a)\n",
    "print(\"\", b)"
   ]
  },
  {
   "cell_type": "code",
   "execution_count": 14,
   "metadata": {
    "collapsed": false
   },
   "outputs": [
    {
     "name": "stdout",
     "output_type": "stream",
     "text": [
      "Hello, Jimbo! Hello, Cartman!\n"
     ]
    },
    {
     "ename": "AssertionError",
     "evalue": "",
     "output_type": "error",
     "traceback": [
      "\u001b[0;31m---------------------------------------------------------------------------\u001b[0m",
      "\u001b[0;31mAssertionError\u001b[0m                            Traceback (most recent call last)",
      "\u001b[0;32m<ipython-input-14-e399cc5d1eb5>\u001b[0m in \u001b[0;36m<module>\u001b[0;34m()\u001b[0m\n\u001b[1;32m      8\u001b[0m \u001b[0mprint\u001b[0m\u001b[0;34m(\u001b[0m\u001b[0ma\u001b[0m\u001b[0;34m,\u001b[0m\u001b[0mb\u001b[0m\u001b[0;34m)\u001b[0m\u001b[0;34m\u001b[0m\u001b[0m\n\u001b[1;32m      9\u001b[0m \u001b[0;31m# Note that the program will still crash! But maybe we want the program to crash for bad input types\u001b[0m\u001b[0;34m\u001b[0m\u001b[0;34m\u001b[0m\u001b[0m\n\u001b[0;32m---> 10\u001b[0;31m \u001b[0mc\u001b[0m \u001b[0;34m=\u001b[0m \u001b[0mthird_program\u001b[0m\u001b[0;34m(\u001b[0m\u001b[0;36m13\u001b[0m\u001b[0;34m)\u001b[0m\u001b[0;34m\u001b[0m\u001b[0m\n\u001b[0m\u001b[1;32m     11\u001b[0m \u001b[0;31m# In particular, notice the error is \"AssertionError:\"\u001b[0m\u001b[0;34m\u001b[0m\u001b[0;34m\u001b[0m\u001b[0m\n",
      "\u001b[0;32m<ipython-input-14-e399cc5d1eb5>\u001b[0m in \u001b[0;36mthird_program\u001b[0;34m(name)\u001b[0m\n\u001b[1;32m      1\u001b[0m \u001b[0;32mdef\u001b[0m \u001b[0mthird_program\u001b[0m\u001b[0;34m(\u001b[0m\u001b[0mname\u001b[0m\u001b[0;34m)\u001b[0m\u001b[0;34m:\u001b[0m\u001b[0;34m\u001b[0m\u001b[0m\n\u001b[1;32m      2\u001b[0m     \u001b[0;34m\"\"\"Same as the second program but uses assert\"\"\"\u001b[0m\u001b[0;34m\u001b[0m\u001b[0m\n\u001b[0;32m----> 3\u001b[0;31m     \u001b[0;32massert\u001b[0m\u001b[0;34m(\u001b[0m\u001b[0mtype\u001b[0m\u001b[0;34m(\u001b[0m\u001b[0mname\u001b[0m\u001b[0;34m)\u001b[0m\u001b[0;34m==\u001b[0m\u001b[0mstr\u001b[0m\u001b[0;34m)\u001b[0m \u001b[0;31m#Assertions will exit the program if it is broken\u001b[0m\u001b[0;34m\u001b[0m\u001b[0m\n\u001b[0m\u001b[1;32m      4\u001b[0m     \u001b[0;31m#Assertions are especially useful for unit testing\u001b[0m\u001b[0;34m\u001b[0m\u001b[0;34m\u001b[0m\u001b[0m\n\u001b[1;32m      5\u001b[0m     \u001b[0;32mreturn\u001b[0m \u001b[0;34m\"Hello, \"\u001b[0m \u001b[0;34m+\u001b[0m \u001b[0mname\u001b[0m \u001b[0;34m+\u001b[0m \u001b[0;34m\"!\"\u001b[0m\u001b[0;34m\u001b[0m\u001b[0m\n",
      "\u001b[0;31mAssertionError\u001b[0m: "
     ]
    }
   ],
   "source": [
    "def third_program(name):\n",
    "    \"\"\"Same as the second program but uses assert\"\"\"\n",
    "    assert(type(name)==str) #Assertions will exit the program if it is broken\n",
    "    #Assertions are especially useful for unit testing\n",
    "    return \"Hello, \" + name + \"!\"\n",
    "a = third_program(\"Jimbo\")\n",
    "b = third_program(\"Cartman\")\n",
    "print(a,b)\n",
    "# Note that the program will still crash! But maybe we want the program to crash for bad input types\n",
    "c = third_program(13) \n",
    "# In particular, notice the error is \"AssertionError:\""
   ]
  },
  {
   "cell_type": "markdown",
   "metadata": {},
   "source": [
    "# Mathematical Functions \n",
    "- A function is a mathematical relation between a set of inputs and a set of outputs were each input is associated to exactly 1 output\n",
    "- Example: $$f(x)=x^2 +1$$\n",
    "- Non Example:  $$g(x)= \\pm x$$"
   ]
  },
  {
   "cell_type": "code",
   "execution_count": 61,
   "metadata": {
    "collapsed": false
   },
   "outputs": [
    {
     "ename": "AssertionError",
     "evalue": "",
     "output_type": "error",
     "traceback": [
      "\u001b[0;31m---------------------------------------------------------------------------\u001b[0m",
      "\u001b[0;31mAssertionError\u001b[0m                            Traceback (most recent call last)",
      "\u001b[0;32m<ipython-input-61-0a7ce025a53a>\u001b[0m in \u001b[0;36m<module>\u001b[0;34m()\u001b[0m\n\u001b[1;32m      4\u001b[0m \u001b[0;34m\u001b[0m\u001b[0m\n\u001b[1;32m      5\u001b[0m \u001b[0msuccsess\u001b[0m\u001b[0;34m=\u001b[0m\u001b[0msum\u001b[0m\u001b[0;34m(\u001b[0m\u001b[0;34m[\u001b[0m\u001b[0mf\u001b[0m\u001b[0;34m(\u001b[0m\u001b[0mi\u001b[0m\u001b[0;34m)\u001b[0m\u001b[0;34m==\u001b[0m\u001b[0mi\u001b[0m\u001b[0;34m**\u001b[0m\u001b[0;36m2\u001b[0m \u001b[0;34m+\u001b[0m\u001b[0;36m1\u001b[0m \u001b[0;32mfor\u001b[0m \u001b[0mi\u001b[0m \u001b[0;32min\u001b[0m \u001b[0mrange\u001b[0m\u001b[0;34m(\u001b[0m\u001b[0;36m0\u001b[0m\u001b[0;34m,\u001b[0m\u001b[0;36m100\u001b[0m\u001b[0;34m)\u001b[0m\u001b[0;34m]\u001b[0m\u001b[0;34m)\u001b[0m\u001b[0;34m\u001b[0m\u001b[0m\n\u001b[0;32m----> 6\u001b[0;31m \u001b[0;32massert\u001b[0m\u001b[0;34m(\u001b[0m\u001b[0msuccsess\u001b[0m \u001b[0;34m==\u001b[0m \u001b[0;36m100\u001b[0m\u001b[0;34m)\u001b[0m\u001b[0;34m\u001b[0m\u001b[0m\n\u001b[0m\u001b[1;32m      7\u001b[0m \u001b[0mprint\u001b[0m\u001b[0;34m(\u001b[0m\u001b[0;34m\"Succsess!\"\u001b[0m\u001b[0;34m)\u001b[0m\u001b[0;34m\u001b[0m\u001b[0m\n",
      "\u001b[0;31mAssertionError\u001b[0m: "
     ]
    }
   ],
   "source": [
    "#Create the above function\n",
    "def f(x):\n",
    "    return 0 # #change me!\n",
    "\n",
    "succsess=sum([f(i)==i**2 +1 for i in range(0,100)])\n",
    "assert(succsess == 100)\n",
    "print(\"Succsess!\")"
   ]
  },
  {
   "cell_type": "markdown",
   "metadata": {},
   "source": [
    "# PEMDAS\n",
    "- Python uses mathematical order of opperations\n",
    "- Parahtnesis come before Exponentiaiton which comes before Multiplication and division which comes before addition and subtraction"
   ]
  },
  {
   "cell_type": "code",
   "execution_count": 68,
   "metadata": {
    "collapsed": false
   },
   "outputs": [
    {
     "name": "stdout",
     "output_type": "stream",
     "text": [
      "What do you think x is equal to? 5\n",
      "Succsess!\n"
     ]
    }
   ],
   "source": [
    "#Example \n",
    "x = 2+1*3\n",
    "answer = int(input(\"What do you think x is equal to? \")) #input grabs an input from the user/standard input\n",
    "#int(input()) converts the input to an integer \n",
    "assert(answer == x)\n",
    "print(\"Succsess!\")"
   ]
  },
  {
   "cell_type": "markdown",
   "metadata": {},
   "source": [
    "# Lists and Arrays \n",
    "- In python, we can also construct datatypes that are lists of other datatypes. In fact, theses lists can mix datatypes"
   ]
  },
  {
   "cell_type": "code",
   "execution_count": 69,
   "metadata": {
    "collapsed": false
   },
   "outputs": [
    {
     "name": "stdout",
     "output_type": "stream",
     "text": [
      "The first element is:  1\n",
      "The last element is:  5\n"
     ]
    }
   ],
   "source": [
    "example_list = [1,2,3,4,5]\n",
    "#In python, we start counting at 0. \n",
    "#To accsess elements in a list, use brackets and the index\n",
    "print(\"The first element is: \", example_list[0])\n",
    "print(\"The last element is: \", example_list[4]) "
   ]
  },
  {
   "cell_type": "code",
   "execution_count": 70,
   "metadata": {
    "collapsed": false
   },
   "outputs": [
    {
     "name": "stdout",
     "output_type": "stream",
     "text": [
      "[1, 2, 3, 4, 5, 6]\n"
     ]
    }
   ],
   "source": [
    "# Opperations on lists are similart to opperations on strings since a string is a list of charecters\n",
    "#Concatonation:\n",
    "L0 = [1,2,3]\n",
    "L1 = [4,5,6]\n",
    "L2 = L0 + L1\n",
    "print(L2)"
   ]
  },
  {
   "cell_type": "code",
   "execution_count": 72,
   "metadata": {
    "collapsed": false
   },
   "outputs": [
    {
     "name": "stdout",
     "output_type": "stream",
     "text": [
      "[0, 0, 0, 0, 0, 0, 0, 0, 0, 0, 0, 0, 0, 0, 0, 0] 16\n"
     ]
    }
   ],
   "source": [
    "#Multiplication-- repeated concatonation \n",
    "x = [0]\n",
    "y = x * 16\n",
    "print(y, len(y))"
   ]
  },
  {
   "cell_type": "code",
   "execution_count": 73,
   "metadata": {
    "collapsed": false
   },
   "outputs": [
    {
     "name": "stdout",
     "output_type": "stream",
     "text": [
      "[2, 3]\n"
     ]
    }
   ],
   "source": [
    "# We can get slices of lists\n",
    "lst = [1,2,3,4,5]\n",
    "sliced_lst = lst[1:3] #gets the second and 3rd element. Last index is ommited\n",
    "print(sliced_lst)"
   ]
  },
  {
   "cell_type": "code",
   "execution_count": 74,
   "metadata": {
    "collapsed": false
   },
   "outputs": [
    {
     "name": "stdout",
     "output_type": "stream",
     "text": [
      "[1, 3, 5]\n"
     ]
    }
   ],
   "source": [
    "# You can also skip elements\n",
    "skip_lst =  lst[0::2] \n",
    "#lst[a:b:c] will start at a, end at index b-1 and grab every cth element.  #all must be integers\n",
    "print(skip_lst)"
   ]
  },
  {
   "cell_type": "code",
   "execution_count": 75,
   "metadata": {
    "collapsed": false
   },
   "outputs": [
    {
     "name": "stdout",
     "output_type": "stream",
     "text": [
      "[5, 4, 3, 2, 1]\n"
     ]
    }
   ],
   "source": [
    "#They can be negative though!\n",
    "#Example: reversing a list\n",
    "reverse_lst = lst[::-1]\n",
    "print(reverse_lst)"
   ]
  },
  {
   "cell_type": "code",
   "execution_count": 84,
   "metadata": {
    "collapsed": false
   },
   "outputs": [
    {
     "ename": "AssertionError",
     "evalue": "",
     "output_type": "error",
     "traceback": [
      "\u001b[0;31m---------------------------------------------------------------------------\u001b[0m",
      "\u001b[0;31mAssertionError\u001b[0m                            Traceback (most recent call last)",
      "\u001b[0;32m<ipython-input-84-8132789cfd53>\u001b[0m in \u001b[0;36m<module>\u001b[0;34m()\u001b[0m\n\u001b[1;32m     19\u001b[0m \u001b[0mtsud\u001b[0m \u001b[0meht\u001b[0m \u001b[0msetib\u001b[0m \u001b[0meno\u001b[0m \u001b[0mrehtonA\u001b[0m\u001b[0;34m\u001b[0m\u001b[0m\n\u001b[1;32m     20\u001b[0m tsud eht setib eno rehtonA\"\"\"\n\u001b[0;32m---> 21\u001b[0;31m \u001b[0;32massert\u001b[0m\u001b[0;34m(\u001b[0m\u001b[0mrev_string\u001b[0m \u001b[0;34m==\u001b[0m \u001b[0msol_str\u001b[0m \u001b[0;34m)\u001b[0m\u001b[0;34m\u001b[0m\u001b[0m\n\u001b[0m\u001b[1;32m     22\u001b[0m \u001b[0mprint\u001b[0m\u001b[0;34m(\u001b[0m\u001b[0;34m\"Nice job!\"\u001b[0m\u001b[0;34m)\u001b[0m\u001b[0;34m\u001b[0m\u001b[0m\n",
      "\u001b[0;31mAssertionError\u001b[0m: "
     ]
    }
   ],
   "source": [
    "string = \"\"\"Another one bites the dust\n",
    "Another one bites the dust\n",
    "And another one gone, and another one gone\n",
    "Another one bites the dust\n",
    "Hey, I'm gonna get you too\n",
    "Another one bites the dust\"\"\" #Tripple quotes are used for multi line strings\n",
    "\n",
    "#Fill in the blank to reverse the string\n",
    "rev_string = string[::] #Hint recall indexing in strings just like indexing in lists\n",
    "\n",
    "\n",
    "\n",
    "\n",
    "########################################################################################################################################################################################\n",
    "sol_str= \"\"\"tsud eht setib eno rehtonA\n",
    "oot uoy teg annog m'I ,yeH\n",
    "tsud eht setib eno rehtonA\n",
    "enog eno rehtona dna ,enog eno rehtona dnA\n",
    "tsud eht setib eno rehtonA\n",
    "tsud eht setib eno rehtonA\"\"\"\n",
    "assert(rev_string == sol_str )\n",
    "print(\"Nice job!\")"
   ]
  },
  {
   "cell_type": "markdown",
   "metadata": {},
   "source": [
    "# Typesetting using $\\LaTeX$\n",
    "- You can change the cell type in Jupyter notebook to execute Latex Commands. \n",
    "- Simply put math equations in between two dollar signs "
   ]
  },
  {
   "cell_type": "markdown",
   "metadata": {},
   "source": [
    "This is a Markdown cell!  With Jupyter notebook, you can use markdown cells to typeset using $$\\LaTeX$$ \n",
    "For example, lets say you wanted to make a vector $\\vec{x}$ that lives in $\\mathbb{R}^7$ which is short hand for the 7th fold cartesian product of the real numbers  (ie,  tuples of 7 real numbers). We can represent this as a column vector $$\\begin{bmatrix} 1\\\\ -3\\\\ 4\\\\2\\\\ -7\\\\ 8\\\\ 9 \\end{bmatrix}$$ or a row vector $$\\begin{bmatrix}1,-3,4,2,-7,8,9 \\end{bmatrix}$$\n",
    "In python, we will first import a useful module that makes vector opperations easy!"
   ]
  },
  {
   "cell_type": "code",
   "execution_count": 65,
   "metadata": {
    "collapsed": false
   },
   "outputs": [
    {
     "name": "stdout",
     "output_type": "stream",
     "text": [
      "<class 'int'>\n",
      "<class 'float'>\n",
      "<class 'float'>\n"
     ]
    }
   ],
   "source": [
    "#Datatypes in python\n",
    "integer= 13 #this is an integer \n",
    "print(type(integer))\n",
    "\n",
    "real_number=13.3 #this is a float--short for floating point number which approximates a real number\n",
    "print(type(real_number))\n",
    "\n",
    "#you can add integers and flotats to get a float\n",
    "mixed_float= integer + real_number\n",
    "print(type(mixed_float) )\n",
    "\n"
   ]
  },
  {
   "cell_type": "code",
   "execution_count": 66,
   "metadata": {
    "collapsed": false
   },
   "outputs": [
    {
     "data": {
      "text/plain": [
       "list"
      ]
     },
     "execution_count": 66,
     "metadata": {},
     "output_type": "execute_result"
    }
   ],
   "source": [
    "#pairs, tuples and lists!\n",
    "int_list=[1,2,3]\n",
    "\n",
    "print(type(int_list))\n",
    "#You can mix types in lists!\n",
    "mixed_list=[1,2,4.5,\"This is not a number\"]\n",
    "print(type(mixed_list))"
   ]
  },
  {
   "cell_type": "code",
   "execution_count": 2,
   "metadata": {
    "collapsed": false
   },
   "outputs": [],
   "source": [
    "import numpy as np\n",
    "#import numpy as np means we will reference numpy by typing np.\n",
    "#If you are ver confused about using a module in python, either google it, or try using the help function\n",
    "\n",
    "#help(np) #This will pull all of the documention!\n",
    "#Uncomment and see what happens!\n",
    "\n",
    "\n"
   ]
  },
  {
   "cell_type": "markdown",
   "metadata": {},
   "source": [
    "The following code initializes a vector and stores it in a variable $x$"
   ]
  },
  {
   "cell_type": "code",
   "execution_count": 90,
   "metadata": {
    "collapsed": false
   },
   "outputs": [
    {
     "data": {
      "text/plain": [
       "array([ 1, -3,  4,  2, -7,  8,  9])"
      ]
     },
     "execution_count": 90,
     "metadata": {},
     "output_type": "execute_result"
    }
   ],
   "source": [
    "x=np.array([1,-3,4,2,-7,8,9])\n",
    "x #Note that this is NOT the same as [1,-3,4,2,-7,8,9]\n"
   ]
  },
  {
   "cell_type": "code",
   "execution_count": 96,
   "metadata": {
    "collapsed": false
   },
   "outputs": [
    {
     "name": "stdout",
     "output_type": "stream",
     "text": [
      "[ True  True  True  True  True  True  True]\n",
      "False\n",
      "<class 'list'> <class 'numpy.ndarray'>\n"
     ]
    }
   ],
   "source": [
    "y = [1,-3,4,2,-7,8,9]\n",
    "print(x == y) #compares each of the elements!\n",
    "print(type(x) == type(y))\n",
    "print(type(y), type(x))\n",
    "#while they contain the same numbers, the underlying opperations that can be performed are very differnt! \n",
    "#We will see examples of this below "
   ]
  },
  {
   "cell_type": "markdown",
   "metadata": {},
   "source": [
    "Try performining basic opperations with your newly created vector!"
   ]
  },
  {
   "cell_type": "code",
   "execution_count": 97,
   "metadata": {
    "collapsed": false
   },
   "outputs": [
    {
     "name": "stdout",
     "output_type": "stream",
     "text": [
      "[ 2 -2  5  3 -6  9 10]\n",
      "Error! You cannot add integers to a list!\n"
     ]
    }
   ],
   "source": [
    "print(x +1)\n",
    "\n",
    "try:\n",
    "    y + 1\n",
    "except:\n",
    "    print(\"Error! You cannot add integers to a list!\")"
   ]
  },
  {
   "cell_type": "code",
   "execution_count": 98,
   "metadata": {
    "collapsed": false
   },
   "outputs": [
    {
     "name": "stdout",
     "output_type": "stream",
     "text": [
      "[ 10 -30  40  20 -70  80  90]\n",
      "[1, -3, 4, 2, -7, 8, 9, 1, -3, 4, 2, -7, 8, 9, 1, -3, 4, 2, -7, 8, 9, 1, -3, 4, 2, -7, 8, 9, 1, -3, 4, 2, -7, 8, 9, 1, -3, 4, 2, -7, 8, 9, 1, -3, 4, 2, -7, 8, 9, 1, -3, 4, 2, -7, 8, 9, 1, -3, 4, 2, -7, 8, 9, 1, -3, 4, 2, -7, 8, 9]\n"
     ]
    }
   ],
   "source": [
    "print(x*10)\n",
    "print(y*10)"
   ]
  },
  {
   "cell_type": "code",
   "execution_count": 103,
   "metadata": {
    "collapsed": false
   },
   "outputs": [
    {
     "name": "stdout",
     "output_type": "stream",
     "text": [
      "[ 0.2 -0.6  0.8  0.4 -1.4  1.6  1.8]\n",
      "Error!\n"
     ]
    }
   ],
   "source": [
    "print(x/5)\n",
    "try:\n",
    "    print(y/5) \n",
    "except: \n",
    "    print(\"Error!\")"
   ]
  },
  {
   "cell_type": "code",
   "execution_count": 104,
   "metadata": {
    "collapsed": false
   },
   "outputs": [
    {
     "name": "stdout",
     "output_type": "stream",
     "text": [
      "[  2  -6   8   4 -14  16  18]\n",
      "[1, -3, 4, 2, -7, 8, 9, 1, -3, 4, 2, -7, 8, 9]\n"
     ]
    }
   ],
   "source": [
    "print(x + x)\n",
    "print(y + y)"
   ]
  },
  {
   "cell_type": "code",
   "execution_count": 105,
   "metadata": {
    "collapsed": false
   },
   "outputs": [
    {
     "name": "stdout",
     "output_type": "stream",
     "text": [
      "[ 1  9 16  4 49 64 81]\n",
      "Error!\n"
     ]
    }
   ],
   "source": [
    "print(x ** 2)\n",
    "try:\n",
    "    print(y ** 2)\n",
    "except:\n",
    "    print(\"Error!\")"
   ]
  },
  {
   "cell_type": "markdown",
   "metadata": {},
   "source": [
    "Notice that if we don't store the opperation in a variable, x remains unchanged. "
   ]
  },
  {
   "cell_type": "code",
   "execution_count": 106,
   "metadata": {
    "collapsed": false
   },
   "outputs": [
    {
     "data": {
      "text/plain": [
       "array([ 1, -3,  4,  2, -7,  8,  9])"
      ]
     },
     "execution_count": 106,
     "metadata": {},
     "output_type": "execute_result"
    }
   ],
   "source": [
    "x"
   ]
  },
  {
   "cell_type": "markdown",
   "metadata": {},
   "source": [
    "Making Vectors in python"
   ]
  },
  {
   "cell_type": "code",
   "execution_count": 107,
   "metadata": {
    "collapsed": false
   },
   "outputs": [
    {
     "data": {
      "text/plain": [
       "array([0, 1, 2, 3, 4, 5, 6, 7, 8, 9])"
      ]
     },
     "execution_count": 107,
     "metadata": {},
     "output_type": "execute_result"
    }
   ],
   "source": [
    "y=np.array(range(10))\n",
    "y"
   ]
  },
  {
   "cell_type": "markdown",
   "metadata": {},
   "source": [
    "Notice that Python starts counting at zero! IE, the FIRST index in the vector is index 0. The lest index of the vector is the length of the vector -1."
   ]
  },
  {
   "cell_type": "code",
   "execution_count": 108,
   "metadata": {
    "collapsed": false
   },
   "outputs": [
    {
     "data": {
      "text/plain": [
       "array([1, 2, 3, 4, 5, 6, 7, 8, 9])"
      ]
     },
     "execution_count": 108,
     "metadata": {},
     "output_type": "execute_result"
    }
   ],
   "source": [
    "y[1::]"
   ]
  },
  {
   "cell_type": "code",
   "execution_count": 109,
   "metadata": {
    "collapsed": false
   },
   "outputs": [
    {
     "data": {
      "text/plain": [
       "array([9, 8, 7, 6, 5, 4, 3, 2, 1, 0])"
      ]
     },
     "execution_count": 109,
     "metadata": {},
     "output_type": "execute_result"
    }
   ],
   "source": [
    "y[::-1]"
   ]
  },
  {
   "cell_type": "code",
   "execution_count": 110,
   "metadata": {
    "collapsed": false
   },
   "outputs": [
    {
     "data": {
      "text/plain": [
       "array([1, 2, 3, 4, 5, 6, 7, 8, 9])"
      ]
     },
     "execution_count": 110,
     "metadata": {},
     "output_type": "execute_result"
    }
   ],
   "source": [
    "y[1:10] #notice the last value is NOT included"
   ]
  },
  {
   "cell_type": "code",
   "execution_count": 111,
   "metadata": {
    "collapsed": false
   },
   "outputs": [
    {
     "data": {
      "text/plain": [
       "array([ 2,  4,  6,  8, 10, 12, 14, 16, 18, 20])"
      ]
     },
     "execution_count": 111,
     "metadata": {},
     "output_type": "execute_result"
    }
   ],
   "source": [
    "z= np.array(range(2,21,2)) #build a vector of even values form 2 to 20 inclusive \n",
    "z"
   ]
  },
  {
   "cell_type": "markdown",
   "metadata": {},
   "source": [
    "This also works for decimal values!"
   ]
  },
  {
   "cell_type": "code",
   "execution_count": 112,
   "metadata": {
    "collapsed": false
   },
   "outputs": [
    {
     "data": {
      "text/plain": [
       "array([  1. ,   1.5,   2. ,   2.5,   3. ,   3.5,   4. ,   4.5,   5. ,\n",
       "         5.5,   6. ,   6.5,   7. ,   7.5,   8. ,   8.5,   9. ,   9.5,\n",
       "        10. ,  10.5,  11. ,  11.5,  12. ,  12.5,  13. ,  13.5,  14. ,\n",
       "        14.5,  15. ,  15.5,  16. ,  16.5,  17. ,  17.5,  18. ,  18.5,\n",
       "        19. ,  19.5,  20. ])"
      ]
     },
     "execution_count": 112,
     "metadata": {},
     "output_type": "execute_result"
    }
   ],
   "source": [
    "z_decimal=np.arange(1,20.5,.5) #Note we use arange isntead of range for decimal values\n",
    "z_decimal #note that it stops at the LAST integer not included.  "
   ]
  },
  {
   "cell_type": "code",
   "execution_count": 6,
   "metadata": {
    "collapsed": false
   },
   "outputs": [],
   "source": [
    "import matplotlib.pyplot as plt\n",
    "import matplotlib as mpl\n",
    "import seaborn as sns\n",
    "from datetime import datetime\n",
    "%matplotlib inline\n",
    "#Plotting"
   ]
  },
  {
   "cell_type": "markdown",
   "metadata": {
    "collapsed": true
   },
   "source": [
    "# In this class, we will use Matplotlib to construct plots. \n",
    "- Examples below"
   ]
  },
  {
   "cell_type": "code",
   "execution_count": 62,
   "metadata": {
    "collapsed": false
   },
   "outputs": [
    {
     "data": {
      "image/png": "[encoded data removed]",
      "text/plain": [
       "<matplotlib.figure.Figure at 0x1084bee80>"
      ]
     },
     "metadata": {},
     "output_type": "display_data"
    }
   ],
   "source": [
    "plt.scatter([1,2,3,4], [2,3,6,8])\n",
    "plt.ylabel('some numbers')\n",
    "plt.show()"
   ]
  },
  {
   "cell_type": "code",
   "execution_count": null,
   "metadata": {
    "collapsed": true
   },
   "outputs": [],
   "source": []
  },
  {
   "cell_type": "code",
   "execution_count": 15,
   "metadata": {
    "collapsed": false
   },
   "outputs": [
    {
     "data": {
      "text/plain": [
       "[<matplotlib.lines.Line2D at 0x119e02278>]"
      ]
     },
     "execution_count": 15,
     "metadata": {},
     "output_type": "execute_result"
    },
    {
     "data": {
      "image/png": "[encoded data removed]",
      "text/plain": [
       "<matplotlib.figure.Figure at 0x119d73f28>"
      ]
     },
     "metadata": {},
     "output_type": "display_data"
    }
   ],
   "source": [
    "plt.figure(num=None, figsize=(8, 8), dpi=89, facecolor='w', edgecolor='k')\n",
    "plt.plot([0,1],[0,0]) # Line connecting (0,0) to (1,0)\n",
    "plt.plot([0,0],[0,1]) # Line connecting (0,0) to (0,1)\n",
    "plt.plot([0,1],[1,1]) # Line connecting (0,1) to (1,1)\n",
    "plt.plot([1,1],[0,1]) # Line connecting (1,0) to (1,1)"
   ]
  },
  {
   "cell_type": "code",
   "execution_count": 17,
   "metadata": {
    "collapsed": true
   },
   "outputs": [],
   "source": [
    "#Challenge problem Complete the following function\n",
    "def plot_parallelogram(c0,c1,c2,c3):\n",
    "    \"\"\"Plots a square with corners c0,c1,c2,c3\n",
    "    You may assume that the corners do indeed define a parallelogram\"\"\"\n",
    "    plt.figure(num=None, figsize=(8, 8), dpi=89, facecolor='w', edgecolor='k')\n",
    "    return"
   ]
  },
  {
   "cell_type": "code",
   "execution_count": 18,
   "metadata": {
    "collapsed": false
   },
   "outputs": [
    {
     "data": {
      "text/plain": [
       "[<matplotlib.lines.Line2D at 0x119fed400>]"
      ]
     },
     "execution_count": 18,
     "metadata": {},
     "output_type": "execute_result"
    },
    {
     "data": {
      "image/png": "[encoded data removed]",
      "text/plain": [
       "<matplotlib.figure.Figure at 0x119d9dac8>"
      ]
     },
     "metadata": {},
     "output_type": "display_data"
    }
   ],
   "source": [
    "x=np.arange(0,2*np.pi,.25)\n",
    "y=np.sin(x)\n",
    "plt.plot(x,y)"
   ]
  },
  {
   "cell_type": "code",
   "execution_count": 57,
   "metadata": {
    "collapsed": false
   },
   "outputs": [
    {
     "data": {
      "image/png": "[encoded data removed]",
      "text/plain": [
       "<matplotlib.figure.Figure at 0x117c36c50>"
      ]
     },
     "metadata": {},
     "output_type": "display_data"
    }
   ],
   "source": [
    "t = np.arange(0., 5., 0.2)\n",
    "\n",
    "# red dashes, blue squares and green triangles\n",
    "plt.plot(t, t, 'r--', t, t**2, 'bs', t, t**3, 'g^')\n",
    "plt.show()\n"
   ]
  },
  {
   "cell_type": "code",
   "execution_count": 58,
   "metadata": {
    "collapsed": false
   },
   "outputs": [
    {
     "data": {
      "image/png": "[encoded data removed]",
      "text/plain": [
       "<matplotlib.figure.Figure at 0x117b4aa58>"
      ]
     },
     "metadata": {},
     "output_type": "display_data"
    }
   ],
   "source": [
    "def f(t):\n",
    "    return np.exp(-t) * np.cos(2*np.pi*t)\n",
    "\n",
    "t1 = np.arange(0.0, 5.0, 0.1)\n",
    "t2 = np.arange(0.0, 5.0, 0.02)\n",
    "\n",
    "plt.figure(1)\n",
    "plt.subplot(211)\n",
    "plt.plot(t1, f(t1), 'bo', t2, f(t2), 'k')\n",
    "\n",
    "plt.subplot(212)\n",
    "plt.plot(t2, np.cos(2*np.pi*t2), 'r--')\n",
    "plt.show()"
   ]
  },
  {
   "cell_type": "code",
   "execution_count": 59,
   "metadata": {
    "collapsed": false
   },
   "outputs": [
    {
     "data": {
      "image/png": "[encoded data removed]",
      "text/plain": [
       "<matplotlib.figure.Figure at 0x117cff7f0>"
      ]
     },
     "metadata": {},
     "output_type": "display_data"
    }
   ],
   "source": [
    "import numpy as np\n",
    "import matplotlib.pyplot as plt\n",
    "\n",
    "ax = plt.subplot(111)\n",
    "\n",
    "t = np.arange(0.0, 5.0, 0.01)\n",
    "s = np.cos(2*np.pi*t)\n",
    "line, = plt.plot(t, s, lw=2)\n",
    "\n",
    "plt.annotate('local max', xy=(2, 1), xytext=(3, 1.5),\n",
    "            arrowprops=dict(facecolor='black', shrink=0.05),\n",
    "            )\n",
    "\n",
    "plt.ylim(-2,2)\n",
    "plt.show()"
   ]
  },
  {
   "cell_type": "code",
   "execution_count": 60,
   "metadata": {
    "collapsed": false
   },
   "outputs": [
    {
     "data": {
      "text/plain": [
       "<matplotlib.lines.Line2D at 0x11863f3c8>"
      ]
     },
     "execution_count": 60,
     "metadata": {},
     "output_type": "execute_result"
    },
    {
     "data": {
      "image/png": "[encoded data removed]",
      "text/plain": [
       "<matplotlib.figure.Figure at 0x117f56668>"
      ]
     },
     "metadata": {},
     "output_type": "display_data"
    }
   ],
   "source": [
    "np.random.seed(0)\n",
    "\n",
    "x, y = np.random.randn(2, 100)\n",
    "fig = plt.figure()\n",
    "ax1 = fig.add_subplot(211)\n",
    "ax1.xcorr(x, y, usevlines=True, maxlags=50, normed=True, lw=2)\n",
    "ax1.grid(True)\n",
    "ax1.axhline(0, color='black', lw=2)\n",
    "\n",
    "ax2 = fig.add_subplot(212, sharex=ax1)\n",
    "ax2.acorr(x, usevlines=True, normed=True, maxlags=50, lw=2)\n",
    "ax2.grid(True)\n",
    "ax2.axhline(0, color='black', lw=2)\n"
   ]
  },
  {
   "cell_type": "markdown",
   "metadata": {},
   "source": [
    "$f(x)=3x^2+2$"
   ]
  },
  {
   "cell_type": "code",
   "execution_count": null,
   "metadata": {
    "collapsed": true
   },
   "outputs": [],
   "source": [
    "# Practice problems\n",
    "# Computes the integers 0 through 4 using exactly 4 fours.\n",
    "#\n",
    "\n",
    "zero = 4 + 4 - 4 - 4\n",
    "print('zero =', zero)\n",
    "\n",
    "# Complete the rest of the program below.\n",
    "# There are multiple paths to a solution!\n",
    "# For example...\n",
    "zero_alternate = 4//4 - 4//4"
   ]
  },
  {
   "cell_type": "markdown",
   "metadata": {},
   "source": [
    "Use pi and/or e to create the list [2, 7] and assign it to the variable answer1. Your answer should follow the format that we’ve given you for problem 0. In other words, it should look like this:\n",
    "\n",
    "# Puzzles:\n",
    "- Creating the list [2, 7] from pi and e where you put the appropriate expression to the right of the assignment operator (=). Please leave a blank line between puzzles to make things more readable.\n",
    "\n",
    "- Use pi and/or e to create the list [5, 4, 3], and assign it to the variable answer2. Here again, make sure to follow the correct format, and to leave a blank line between puzzles.\n",
    "\n",
    "- Use pi and/or e to create the list [3, 5, 7], and assign it to the variable answer3. (Optional challenge: See if you can do this with just three list operations!)\n",
    "\n",
    "- Use pi and/or e to create the list [1, 2, 3, 4, 5], and assign it to the variable answer4. (Optional challenge: See if you can do this with just three list operations!)"
   ]
  },
  {
   "cell_type": "code",
   "execution_count": 114,
   "metadata": {
    "collapsed": false
   },
   "outputs": [
    {
     "name": "stdout",
     "output_type": "stream",
     "text": [
      "[2, 5, 9]\n"
     ]
    }
   ],
   "source": [
    "# List puzzles\n",
    "# You may use the following:\n",
    "# list indexing (e.g., pi[0])\n",
    "# list slicing (e.g., e[1:] or pi[2:4])\n",
    "# skip-slicing (e.g., pi[6:4:-1])\n",
    "# list concatenation (e.g., pi[:1] + e[1:]. Note that you may not use + to add values numerically.)\n",
    "# list construction (e.g., [e[2]] or [e[2], e[0]])\n",
    "\n",
    "pi = [3, 1, 4, 1, 5, 9]\n",
    "e = [2, 7, 1]\n",
    "\n",
    "# Example puzzle (puzzle 0):\n",
    "# Creating the list [2, 5, 9] from pi and e\n",
    "answer0 = [e[0]] + pi[-2:]     \n",
    "print(answer0)\n"
   ]
  },
  {
   "cell_type": "markdown",
   "metadata": {},
   "source": [
    "# Puzzels\n",
    "- Use b, u, and/or t to create the string 'bossy', and assign it to the variable answer5. We’ve given you the following code for this puzzle:\n",
    "- $\\texttt{answer5 = b[:3] + t[-1] + u[-1]}$\n",
    "-Note that our answer involves 5 operations: 2 uses of indexing, 1 slice, and 2 concatenations with +. (It’s actually possible to solve this puzzle using only 3 operations. Give it a try if you have time!)\n",
    "\n",
    "- Use b, u, and/or t to create the string 'universe', and assign it to the variable answer6. (Our best answer uses 3 ops.) Here again, make sure to follow the correct format, and to leave a blank line between puzzles.\n",
    "\n",
    "- Use b, u, and/or t to create the string 'roster', and assign it to the variable answer7. (Our best: 5 ops.)\n",
    "\n",
    "- Use b, u, and/or t to create the string 'boisterous', and assign it to the variable answer8. (Our best: 8 ops.)\n",
    "\n",
    "- Use b, u, and/or t to create the string 'yesyesyes', and assign it to the variable answer9. (Our best: 4 ops.)\n",
    "\n",
    "- Use b, u, and/or t to create the string 'trist', and assign it to the variable answer10. (Our best: 4 ops.)"
   ]
  },
  {
   "cell_type": "code",
   "execution_count": 115,
   "metadata": {
    "collapsed": false
   },
   "outputs": [
    {
     "name": "stdout",
     "output_type": "stream",
     "text": [
      "bossy\n"
     ]
    }
   ],
   "source": [
    "# String puzzles\n",
    "# You may use the following opperations\n",
    "# string indexing (e.g., b[0])\n",
    "# string slicing (e.g., u[1:] or t[2:4])\n",
    "# skip-slicing (e.g., u[6:4:-1])\n",
    "# string concatenation (e.g., b + u)\n",
    "# string repetition (e.g., 5*b or 3*u[-1])\n",
    "\n",
    "b = 'boston'\n",
    "u = 'university'\n",
    "t = 'terriers' # Best mascot ever :-)\n",
    "\n",
    "# Example puzzle (puzzle 5)\n",
    "# Creating the string 'bossy'\n",
    "answer5 = b[:3] + t[-1] + u[-1]\n",
    "print(answer5)"
   ]
  },
  {
   "cell_type": "markdown",
   "metadata": {},
   "source": [
    "# Mathematical Functions\n",
    "- Implement the following functions\n",
    "- $\\texttt{cube(x)}$ which takes an integer or a float x and returns $x^3$\n",
    "- $\\texttt{slope(x1,y1,x2,x2)}$ returns the slope of the line going through $(x_1,y_1)$ and $(x_2,y_2)$\n",
    "- $\\texttt{polynomial(x)}$ computes $x^3 + 2x -1$\n",
    "- $\\texttt{quadratic\\_formula(a,b,c)}$ takes as inputs $a,b,c$ which are coeficients to the polynomial $f(x)=ax^2+bc+c$ and returns all $x$ such that $f(x)=0$.\n",
    "- Hint: Recall the quadratic formula is $$\\frac{-b \\pm \\sqrt{b^2 -4ac}}{2a}$$\n",
    "- Math Excersise: Starting with $f(x)=ax^2 + bx +c$, complete the square to find when $f(x)=0$"
   ]
  },
  {
   "cell_type": "code",
   "execution_count": 4,
   "metadata": {
    "collapsed": true
   },
   "outputs": [],
   "source": [
    "# Think about ways that this function might crash and protect against it!\n",
    "\n",
    "# Example: what if I passin a list to cube?\n",
    "def cube(x):\n",
    "    \"\"\"Returns the cube of an input x\"\"\"\n",
    "    return 0\n",
    "\n",
    "# Example: What if x1-x2=0?\n",
    "def slope(x1,y1,x2,y2):\n",
    "    \"\"\"Calculates the slope of the line through (x1,y1) and (x2,y2)\"\"\"\n",
    "    return 0\n",
    "# Example: What if I pass in a string?\n",
    "def polynomial(x):\n",
    "    \"\"\"Fill me in!\"\"\"\n",
    "    return 0\n",
    "\n",
    "def quadratic_formula(a,b,c):\n",
    "    \"\"\"Retruns a list of all values of x for which f(x)=ax**2+bx+c =0 \"\"\"\n",
    "    return []"
   ]
  },
  {
   "cell_type": "markdown",
   "metadata": {},
   "source": [
    "# Using Latex\n",
    "- Edit this cell (by doubleclicking the next cell) to try and typeset your proof of the quadratic formula!\n"
   ]
  },
  {
   "cell_type": "markdown",
   "metadata": {},
   "source": [
    "Claim: For $$f(x)=ax^2 + bx+c$$ with $a,b,c\\in \\mathbb{R}$ and $a\\neq 0$, then $f(x)=0$ for $$x=\\frac{-b \\pm \\sqrt{b^2 -4ac}}{2a}$$\n",
    "\n",
    "Proof: $ax^2+bx+c=0$. [Your proof goes here!]"
   ]
  },
  {
   "cell_type": "markdown",
   "metadata": {},
   "source": [
    "# Challenge Problem\n",
    "- Write a function $\\texttt{make_change(cents)}$  that takes as input a positive integer $\\texttt{cents}$ that represents a certian amount of money in cents. The function should return a list of four integers denoting number of quaters used, dimes used, nickels, and finally pennies. Note that the number of coins should be $\\textbf{minimal}$\n",
    "- For example: $\\texttt{make_change(346)}$ could be represented as [0,0,0,346] but it is not minimal!\n",
    "- It should be $\\texttt{[13, 2, 0, 1]}$ which is 13 quaters, 2 dimes 0 nickels and 1 penny. This is minimal!\n"
   ]
  },
  {
   "cell_type": "code",
   "execution_count": null,
   "metadata": {
    "collapsed": true
   },
   "outputs": [],
   "source": [
    "def make_change(cents):\n",
    "    q = 0 # Number of quaters\n",
    "    d = 0 # Number of dimes\n",
    "    n = 0 # Number of nickels\n",
    "    p = 0 # number of pennies\n",
    "    \n",
    "    # Your code goes here\n",
    "    return [q,d,n,p]"
   ]
  },
  {
   "cell_type": "code",
   "execution_count": 3,
   "metadata": {
    "collapsed": true
   },
   "outputs": [],
   "source": [
    "# More coding questions \n",
    "url_0 = \"http://codingbat.com/python\"\n",
    "url_1 = \"https://www.hackerrank.com/\""
   ]
  },
  {
   "cell_type": "code",
   "execution_count": null,
   "metadata": {
    "collapsed": true
   },
   "outputs": [],
   "source": []
  }
 ],
 "metadata": {
  "celltoolbar": "Slideshow",
  "kernelspec": {
   "display_name": "Python 3",
   "language": "python",
   "name": "python3"
  },
  "language_info": {
   "codemirror_mode": {
    "name": "ipython",
    "version": 3
   },
   "file_extension": ".py",
   "mimetype": "text/x-python",
   "name": "python",
   "nbconvert_exporter": "python",
   "pygments_lexer": "ipython3",
   "version": "3.6.0"
  }
 },
 "nbformat": 4,
 "nbformat_minor": 2
}
