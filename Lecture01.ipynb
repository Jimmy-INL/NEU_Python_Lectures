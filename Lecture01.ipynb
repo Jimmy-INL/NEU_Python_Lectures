{
 "cells": [
  {
   "cell_type": "code",
   "execution_count": 1,
   "metadata": {
    "collapsed": true,
    "slideshow": {
     "slide_type": "skip"
    }
   },
   "outputs": [],
   "source": [
    "from IPython.display import Image\n",
    "from IPython.core.display import HTML \n",
    "from IPython.display import display_html\n",
    "from IPython.display import display\n",
    "from IPython.display import Math\n",
    "from IPython.display import Latex\n",
    "from IPython.display import HTML"
   ]
  },
  {
   "cell_type": "code",
   "execution_count": 2,
   "metadata": {
    "slideshow": {
     "slide_type": "skip"
    }
   },
   "outputs": [
    {
     "data": {
      "text/plain": [
       "{'height': 768,\n",
       " 'scroll': True,\n",
       " 'start_slideshow_at': 'selected',\n",
       " 'theme': 'sky',\n",
       " 'transition': 'zoom',\n",
       " 'width': 1200}"
      ]
     },
     "execution_count": 2,
     "metadata": {},
     "output_type": "execute_result"
    }
   ],
   "source": [
    "from traitlets.config.manager import BaseJSONConfigManager\n",
    "path = \"/Users/kai.bernardini/anaconda3/etc/jupyter/nbconfig/\"\n",
    "cm = BaseJSONConfigManager(config_dir=path)\n",
    "cm.update('livereveal', {\n",
    "              'theme': 'sky',\n",
    "              'transition': 'zoom',\n",
    "              'start_slideshow_at': 'selected',\n",
    "})"
   ]
  },
  {
   "cell_type": "code",
   "execution_count": 3,
   "metadata": {
    "slideshow": {
     "slide_type": "skip"
    }
   },
   "outputs": [
    {
     "data": {
      "text/plain": [
       "{'height': 768,\n",
       " 'scroll': True,\n",
       " 'start_slideshow_at': 'selected',\n",
       " 'theme': 'sky',\n",
       " 'transition': 'zoom',\n",
       " 'width': 1200}"
      ]
     },
     "execution_count": 3,
     "metadata": {},
     "output_type": "execute_result"
    }
   ],
   "source": [
    "cm.update('livereveal', {\n",
    "              'scroll': True,\n",
    "})"
   ]
  },
  {
   "cell_type": "code",
   "execution_count": 4,
   "metadata": {
    "slideshow": {
     "slide_type": "slide"
    }
   },
   "outputs": [
    {
     "data": {
      "application/javascript": [
       "Jupyter.notebook.config.update({\"load_extensions\":{\"calico-spell-check\":true,\n",
       "                                                  \"calico-document-tools\":true,\n",
       "                                                  \"calico-cell-tools\":true}})"
      ],
      "text/plain": [
       "<IPython.core.display.Javascript object>"
      ]
     },
     "metadata": {},
     "output_type": "display_data"
    }
   ],
   "source": [
    "%%javascript\n",
    "Jupyter.notebook.config.update({\"load_extensions\":{\"calico-spell-check\":true,\n",
    "                                                  \"calico-document-tools\":true,\n",
    "                                                  \"calico-cell-tools\":true}})"
   ]
  },
  {
   "cell_type": "markdown",
   "metadata": {
    "slideshow": {
     "slide_type": "slide"
    }
   },
   "source": [
    "# Welcome!\n",
    "Hello and welcome!  In this class, you will develop computational problem-solving skills by programming in the general purpose Python programing language.  "
   ]
  },
  {
   "cell_type": "code",
   "execution_count": 5,
   "metadata": {
    "slideshow": {
     "slide_type": "slide"
    }
   },
   "outputs": [
    {
     "data": {
      "text/html": [
       "<img src=\"https://s-media-cache-ak0.pinimg.com/736x/17/8c/bd/178cbd337399c89c20ded27b4da6c2d0.jpg\"/>"
      ],
      "text/plain": [
       "<IPython.core.display.Image object>"
      ]
     },
     "execution_count": 5,
     "metadata": {},
     "output_type": "execute_result"
    }
   ],
   "source": [
    "Image(url = \"https://s-media-cache-ak0.pinimg.com/736x/17/8c/bd/178cbd337399c89c20ded27b4da6c2d0.jpg\")"
   ]
  },
  {
   "cell_type": "markdown",
   "metadata": {
    "slideshow": {
     "slide_type": "subslide"
    }
   },
   "source": [
    "# Why Computer Science?\n",
    "- Financial motivation: There are many lucrative careers in computer science...\n",
    "    - Compensation and beneffits are extremely competitive.\n",
    "    - The payscale range of income for a Software Engineer is between $\\$51,521$ and  $\\$118,417$\n",
    "    - The payscale range of income for a Machine Learning Engineer is between $\\$93,873$ and $ \\$129,514$\n",
    "    - \"Not only does computer science provide every student foundational knowledge, it also leads to the highest-paying, fastest-growing jobs in the U.S. economy. There are currently over 500,000 open computing jobs, in every sector, from manufacturing to banking, from agriculture to health care, but only 50,000 computer science graduates a year. \" (Computer Science Education Coalition)\n",
    "    - Note that for specialized computer scientists such as cloud engineers, the expected income is in many cases significantly higher. EG Cloud Engineers starting salary at Amazon is estimated to be over \\$100,000k a year\n",
    "    - Computer Science enjoys a great deal of freedom in the work place. \n",
    "- Intelectual Motiviation: There is no shortage of interesting and complex problems to solve...  \n",
    "    - The act of developing code from the ground up helps hone esential problem solving skills. \n",
    "    - A degree in computer science grants you the freedom to work in almost any field.\n",
    "    - Seemingly endless oppurtunities for creative work"
   ]
  },
  {
   "cell_type": "markdown",
   "metadata": {
    "slideshow": {
     "slide_type": "slide"
    }
   },
   "source": [
    "# Why Mathematics and Computer Science?\n",
    "- Mathematics is the language of the universe.  \n",
    "- Computer science heavily leverages concepts from  Mathematics.\n",
    "- Applying concepts from both fields has lead to major breakthroughs in many areas of study. "
   ]
  },
  {
   "cell_type": "code",
   "execution_count": 13,
   "metadata": {
    "slideshow": {
     "slide_type": "slide"
    }
   },
   "outputs": [
    {
     "data": {
      "text/html": [
       "<img src=\"https://thenakeddarwin.files.wordpress.com/2015/01/c0a.jpg\" width=\"350\" height=\"500\"/>"
      ],
      "text/plain": [
       "<IPython.core.display.Image object>"
      ]
     },
     "execution_count": 13,
     "metadata": {},
     "output_type": "execute_result"
    }
   ],
   "source": [
    "# Accurate depeiction of a recent computer science grad. \n",
    "Image(url = \"https://thenakeddarwin.files.wordpress.com/2015/01/c0a.jpg\", height=500, width=350 )"
   ]
  },
  {
   "cell_type": "markdown",
   "metadata": {
    "slideshow": {
     "slide_type": "slide"
    }
   },
   "source": [
    "# Examples of Mathematics and Computer Science in Action\n",
    "- Google DeepMind \n",
    "    - AlphaGo successfully defeated the second best GO player in the world\n",
    "- Siri Voice Recognition \n",
    "    - Siri and other virtual assistants are powered using Machine Learning (and in particular Deep Learning)\n",
    "- Improving strategy in professional athletics \n",
    "    - Achieving top 1% on ESPN http://ftw.usatoday.com/2016/04/villanova-bracket-winner\n",
    "    - https://www.kaggle.com/c/march-machine-learning-mania-2016/leaderboard\n",
    "    - Yearly Kaggle March Madness competition leader https://www.kaggle.com/orangutan/exploring-mmlm2017\n",
    "    - The Strategic Innovation Group at Booz Allen Hamilton, modeled MLB data that revealed what a pitcher would throw to a 74.5% degree of accuracy\n",
    "- Cancer Diagnosis and Classification\n",
    "    - IBM’s Watson correctly diagnosed a leukemia patient after doctors were stumped for months\n",
    "    - http://www.nydailynews.com/news/world/ibm-watson-proper-diagnosis-doctors-stumped-article-1.2741857\n",
    "\n",
    "  "
   ]
  },
  {
   "cell_type": "markdown",
   "metadata": {
    "slideshow": {
     "slide_type": "slide"
    }
   },
   "source": [
    "# What is Python and who uses it?\n",
    "- Python is a powerful open source general purpose programing language.\n",
    "- Open source means all of the source code is public.\n",
    "- Python has a massive community built around sharing code and ideas. \n",
    "- It uses simple syntax making it an excellent choice for a first programing language.\n",
    "- Python is leveraged by many companies  to build complex web applications including. \n",
    "    - Disney, Dreamworks, Lucasfilm and many more use python to coordinate massive computer clusters to render blockbuster movies. \n",
    "- Is regarded by many as the swiss army knife of machine learning (statistics/data science) \n",
    "- More examples at https://www.python.org/about/success/\n"
   ]
  },
  {
   "cell_type": "markdown",
   "metadata": {
    "slideshow": {
     "slide_type": "slide"
    }
   },
   "source": [
    "# Philosophy of this Course\n",
    "- Abstract Approach\n",
    "    - Used in mathematics and computer science alike.\n",
    "    - Once you learn python, learning other languages becomes significantly easier.\n",
    "    - Ruby, Scala, R are all similar to python.\n",
    "- Emphasis on Mathematical Applications.\n",
    "- Creativity is Encouraged! \n",
    "    - Many of the problems you encounter in this class have many possible paths to solutions.\n",
    "    - \"If it is worth proving once, it is worth proving it another way\" (Glenn Stephens) "
   ]
  },
  {
   "cell_type": "markdown",
   "metadata": {
    "collapsed": true,
    "slideshow": {
     "slide_type": "slide"
    }
   },
   "source": [
    "# What you will learn\n",
    "- Python.\n",
    "    - Fun fact, the name python has nothing to do with the reptile of the same name. Python is an homage to the British comedy troupe Monty Python https://en.wikipedia.org/wiki/Monty_Python. \n",
    "-  $\\LaTeX ~~$ typesetting inside Markdown\n",
    "    - The tool used to typeset mathematical notation. \n",
    "    - EG   $~f(x) = ax^2 + bx + c $\n",
    "- Jupyter Notebook \n",
    "    - The tool used to create this slide show!\n",
    "    - Code cells, and Markdown cells. This is a markdown cell!"
   ]
  },
  {
   "cell_type": "code",
   "execution_count": 14,
   "metadata": {
    "slideshow": {
     "slide_type": "slide"
    }
   },
   "outputs": [
    {
     "data": {
      "text/html": [
       "<img src=\"https://chesnuttlibrary.files.wordpress.com/2016/05/wpengine-meme.jpg\"/>"
      ],
      "text/plain": [
       "<IPython.core.display.Image object>"
      ]
     },
     "execution_count": 14,
     "metadata": {},
     "output_type": "execute_result"
    }
   ],
   "source": [
    "Image(url = 'https://chesnuttlibrary.files.wordpress.com/2016/05/wpengine-meme.jpg')"
   ]
  },
  {
   "cell_type": "markdown",
   "metadata": {
    "slideshow": {
     "slide_type": "slide"
    }
   },
   "source": [
    "# Course Difficulty\n",
    "- Coding is difficult but easy in hindsight!\n",
    "- You will get stuck on problems, and that is okay! \n",
    "- We encourage you to go at your own pace!\n",
    "- If you every feel like you aren't being challenged enough, there is no shortage of interesting and difficult problems to solve!\n",
    "- \"What if I am completely lost all the time?\"\n",
    "    - Feel free to raise your hand and ask questions!\n",
    "- And remember... https://www.youtube.com/watch?v=DN43sCyEanA\n"
   ]
  },
  {
   "cell_type": "code",
   "execution_count": 15,
   "metadata": {
    "slideshow": {
     "slide_type": "slide"
    }
   },
   "outputs": [
    {
     "data": {
      "text/html": [
       "<img src=\"https://s-media-cache-ak0.pinimg.com/736x/0b/7f/66/0b7f66d081271a282f9dfd137f57fe22.jpg\"/>"
      ],
      "text/plain": [
       "<IPython.core.display.Image object>"
      ]
     },
     "execution_count": 15,
     "metadata": {},
     "output_type": "execute_result"
    }
   ],
   "source": [
    "Image(url= \"https://s-media-cache-ak0.pinimg.com/736x/0b/7f/66/0b7f66d081271a282f9dfd137f57fe22.jpg\")"
   ]
  },
  {
   "cell_type": "markdown",
   "metadata": {
    "slideshow": {
     "slide_type": "slide"
    }
   },
   "source": [
    "# What will you build?\n",
    "- This is up to you! \n",
    "- If you need any recommendations or advice, come talk to one of us! "
   ]
  },
  {
   "cell_type": "markdown",
   "metadata": {
    "slideshow": {
     "slide_type": "slide"
    }
   },
   "source": [
    "# Without further Ado\n",
    "- Lets dive right in. \n",
    "- Setting up Python and Jupyter Notebook.\n",
    "- Python is the coding language, and Jupyter notebook will house the code.\n"
   ]
  },
  {
   "cell_type": "markdown",
   "metadata": {
    "slideshow": {
     "slide_type": "slide"
    }
   },
   "source": [
    "# Anaconda Distribution of Python \n",
    "- Download from https://www.continuum.io/downloads\n",
    "    - Make sure its python 3! \n",
    "    - Be sure to pick the correct Oppperating System (O.S.) (IE Windows, MAC OS, (Linux?)"
   ]
  },
  {
   "cell_type": "markdown",
   "metadata": {
    "slideshow": {
     "slide_type": "slide"
    }
   },
   "source": [
    "# Starting Jupyter \n",
    "- Open a Terminal \n",
    "    - For MAC OS, open your Applications folder, then open the Utilities folder. Open the Terminal application. You may want to add this to your dock.\n",
    "    - For Windows, simply search for CMD and run the result\n",
    "- In the terminal run $\\texttt{jupyter notebook}$\n",
    "- This will bring you to the home page. \n",
    "- Click new and then click python3 to create a new Ipython3 notebook.\n",
    "- If you do not want to use Jupyter and would rather develop your code in a usual IDE, type $\\texttt{spyder}$ in the command prompt instead. Alternatively, use the Anaconda Navigator that will be installed in folder anaconda was installed to. \n",
    "- Alternatively, create a an account at https://cocalc.com/ (Formally known as cloud sage) \n",
    "- This is also free!"
   ]
  },
  {
   "cell_type": "markdown",
   "metadata": {
    "slideshow": {
     "slide_type": "slide"
    }
   },
   "source": [
    "# Writing Your First Program!\n",
    "- Traditionally speaking, getting a computer to  say \"Hello world!\"  is the first program that everyone learns. \n",
    "- For why this is the case, see https://en.wikipedia.org/wiki/%22Hello,_World!%22_program"
   ]
  },
  {
   "cell_type": "code",
   "execution_count": 12,
   "metadata": {
    "slideshow": {
     "slide_type": "slide"
    }
   },
   "outputs": [
    {
     "name": "stdout",
     "output_type": "stream",
     "text": [
      "Hello, world!\n"
     ]
    }
   ],
   "source": [
    "# In python, if you want to add a comment to a program, use a hashtag to tell the kernel to NOT run this line \n",
    "# It is good practice to add comments that explain what your code is doing. \n",
    "# Make sure to use a consistent comment style. \n",
    "# For example, I have 1 space after every # \n",
    "# And I describe my functions by adding a comment above the line it is executed\n",
    "\n",
    "\n",
    "# Obligatory First Program\n",
    "# Prints \"Hello world\"\n",
    "print(\"Hello, world!\")\n"
   ]
  },
  {
   "cell_type": "markdown",
   "metadata": {
    "slideshow": {
     "slide_type": "slide"
    }
   },
   "source": [
    "# What did we just do?\n",
    "- We just told a computer to display the phrase \"Hello, world!\" to what is called Standard Output.\n",
    "- The $\\texttt{print}$ function is used to send inputs to standard output (IE, what you will see on your terminal screen)\n",
    "- The phrase $\\texttt{Hello, world!}$ is wrapped in double quotes \" \" to tell python that this sequence is what is called a string. You can also use single quotes ''.\n",
    "- For our purposes, a string is the data type used to represent text of any kind. "
   ]
  },
  {
   "cell_type": "code",
   "execution_count": 7,
   "metadata": {
    "slideshow": {
     "slide_type": "slide"
    }
   },
   "outputs": [
    {
     "name": "stdout",
     "output_type": "stream",
     "text": [
      "\n"
     ]
    }
   ],
   "source": [
    "# Practice Problem 1: Get python to print the phrase wubalubadubdub\n",
    "# Bonus points if you get the referance. \n",
    "\n",
    "print() # Fill me in!\n",
    "# Notice that if you don't pass in an input to print() it will return a new line \n",
    "\n"
   ]
  },
  {
   "cell_type": "code",
   "execution_count": 15,
   "metadata": {
    "slideshow": {
     "slide_type": "slide"
    }
   },
   "outputs": [
    {
     "name": "stdout",
     "output_type": "stream",
     "text": [
      "Luke, I am your Father\n",
      "NOOOOOOOOOOOOOO THATS NOT POSSIBLE\n"
     ]
    }
   ],
   "source": [
    "# Try printing your own custom message!\n",
    "# You can make the computer print whatever you want...use this power wisely! \n",
    "# Notice that this cell is full. \n",
    "# To add more space to code, click here and hit enter. \n",
    "print(\"Luke, I am your Father\")\n",
    "print(\"NOOOOOOOOOOOOOO THATS NOT POSSIBLE\")"
   ]
  },
  {
   "cell_type": "markdown",
   "metadata": {
    "slideshow": {
     "slide_type": "slide"
    }
   },
   "source": [
    "# Basic Data Types in Python\n",
    "- Booleans: True/False Values\n",
    "    - Boolean values are used to encode whether or note a statement or mathematical expression is true or not. \n",
    "- Integers: Whole numbers (int)\n",
    "    - Mathematically, we denote the collection of all integers $\\mathbb{Z}$.\n",
    "- Floating point number: approximations to Real Numbers (float)\n",
    "    - Mathematically, we denote the collection of all real numbers to be $\\mathbb{R}$.\n",
    "        - While there are many ways to define the real numbers, we will use a simple definition: it is the collection of all decimals valued numbers. \n",
    "        - If you want a more complete (pun intended) definition, come talk to me and ask me why you should laugh at that joke!\n",
    "    - Why do we need to approximate real numbers?\n",
    "        - Hint. $\\infty$ doesn't fit on a computer. \n",
    "        - How much space would we need to encode the full decimal expansion of $1/3$?\n",
    "    - What sort of problems can this lead to?\n",
    "        - Numerical error!\n",
    "- Strings\n",
    "    -  Letters, symbols...etc\n",
    "- Lists and Arrays \n",
    "    - Lists of objects are called lists. \n",
    "    - Arrays in python behave like vectors. \n",
    "        - Don't worry if you don't know what a vector is, we will define that later!\n",
    "- Abstract Data Types\n",
    "    - This class won't cover more than the basics, but it is important to know that there are more general data types out there!\n"
   ]
  },
  {
   "cell_type": "markdown",
   "metadata": {
    "slideshow": {
     "slide_type": "slide"
    }
   },
   "source": [
    "# Variables\n",
    "- Basic way of storing values and data types"
   ]
  },
  {
   "cell_type": "markdown",
   "metadata": {
    "slideshow": {
     "slide_type": "slide"
    }
   },
   "source": [
    "# Operators on $\\mathbb{Z}, \\mathbb{R}$ and $\\mathbb{Z}^n,\\mathbb{R}^n$ (vectors)\n",
    "- Addition $+$\n",
    "    - Example: $\\texttt{2+2 = 4}$\n",
    "- Subtraction $-$\n",
    "    - Example: $\\texttt{3-1=2}$\n",
    "- Multiplication $*$\n",
    "    - $\\texttt{3*3=9}$\n",
    "- Division $/$\n",
    "    - Example: $\\texttt{7/2=3.5}$\n",
    "- Integer Division $//$ \n",
    "    - Example: $\\texttt{7//2=3}$\n",
    "- Exponentiation $**$\n",
    "    - Example 1: $\\texttt{3**2 = 9}$\n",
    "    - Example 2: $\\texttt{4**.5 = 2}$\n",
    "- Equals == \n",
    "    - Not to be confused with assignment which is = \n",
    "    - Checks if two things are equal and returns a boolean. \n",
    "    "
   ]
  },
  {
   "cell_type": "markdown",
   "metadata": {
    "slideshow": {
     "slide_type": "slide"
    }
   },
   "source": [
    "# Mathematical Concepts for Binary Operations\n",
    "- Commutativity: An operation on two elements is said to be commutative if the order doesn't matter.\n",
    "    - Addition is commutative. For every pair of real numbers $x,y$, $x+y = y+x$\n",
    "    - In mathematical notation, the above statement is $$\\forall x,y\\in \\mathbb{R}, x+y = y+x$$\n",
    "        - Proof: We defined it that way. Q.E.D.\n",
    "    - The upside down A means 'for all' and $\\in$ means \"is contained in\". \n",
    "    - Multiplication is commutative.\n",
    "    - Can you think of some non-examples? IE Is $2/4 = 4/2?$? \n"
   ]
  },
  {
   "cell_type": "code",
   "execution_count": 20,
   "metadata": {
    "slideshow": {
     "slide_type": "slide"
    }
   },
   "outputs": [
    {
     "name": "stdout",
     "output_type": "stream",
     "text": [
      "3 6 12 2.0 2 2.5 False True\n",
      "0.0\n"
     ]
    }
   ],
   "source": [
    "# Example of variables and opperators on integers\n",
    "# Add\n",
    "a = 1 + 2 # Commutative\n",
    "\n",
    "# Mult.\n",
    "m = 3 * 2 # Commutative\n",
    "\n",
    "# Sub.\n",
    "s = 13 - 1 # non-Commutative\n",
    "\n",
    "# Power\n",
    "e = 4 ** .5 # non-Commutative\n",
    "# Division\n",
    "i_d= 5 // 2  # non-Commutative\n",
    "d= 5 / 2 # non-Commutative\n",
    "\n",
    "# Boolean \n",
    "boolean_op = (1 == 0) # Commutative\n",
    "boolean_t = (3 * 2) == 6 # Commutative\n",
    "\n",
    "# Results \n",
    "print(a,m,s,e,i_d,d, boolean_op, boolean_t ) # should be 3 6 12 4 2 2.5 False True\n",
    "# I can say whatever I want here and the computer\n",
    "# won't execute me!\n",
    "gg =  (.99999999999999999999999999999999999999999999999999999 - 1)\n",
    "print(gg)"
   ]
  },
  {
   "cell_type": "code",
   "execution_count": 5,
   "metadata": {
    "slideshow": {
     "slide_type": "slide"
    }
   },
   "outputs": [
    {
     "name": "stdout",
     "output_type": "stream",
     "text": [
      "<class 'int'>\n",
      "<class 'float'>\n",
      "<class 'float'>\n"
     ]
    }
   ],
   "source": [
    "# Datatypes in python\n",
    "integer = 13 # this is an integer \n",
    "print( type(integer) )\n",
    "\n",
    "real_number=13.3 # this is a float--short for floating point number which approximates a real number\n",
    "print( type(real_number) )\n",
    "\n",
    "# you can add integers and flotats to get a float\n",
    "mixed_float = integer + real_number\n",
    "print( type(mixed_float) )\n",
    "\n"
   ]
  },
  {
   "cell_type": "code",
   "execution_count": 21,
   "metadata": {
    "slideshow": {
     "slide_type": "slide"
    }
   },
   "outputs": [
    {
     "name": "stdout",
     "output_type": "stream",
     "text": [
      "282429536481\n"
     ]
    }
   ],
   "source": [
    "# You can also use operators on variables!\n",
    "w= (a + m) ** s # This will be huge!\n",
    "print(w) # should be 282429536481"
   ]
  },
  {
   "cell_type": "markdown",
   "metadata": {
    "slideshow": {
     "slide_type": "slide"
    }
   },
   "source": [
    "# Operators on Strings and Lists\n",
    "- Can we define 1+1=11? or 12+13=1213?\n",
    "- Sure, why not! \n",
    "- Concatenation (strings and lists) is also $+$. In other words, the operator + is overloaded \n",
    "    - The only time that 1+1=11\n",
    "    - Think of it like gluing one string to another. \n",
    "    - EG $\\texttt{'a'+'a' = 'aa'}$\n",
    "    - This works the same way for lists!\n"
   ]
  },
  {
   "cell_type": "code",
   "execution_count": 12,
   "metadata": {
    "slideshow": {
     "slide_type": "slide"
    }
   },
   "outputs": [
    {
     "name": "stdout",
     "output_type": "stream",
     "text": [
      "ab\n",
      "Something\n",
      "Hello world!\n",
      "This is a sentence.\n",
      "This too, is a sentence\n"
     ]
    }
   ],
   "source": [
    "# Example of strings\n",
    "\n",
    "\n",
    "#String Concetination\n",
    "s0 = \"a\"\n",
    "s1 = \"b\"\n",
    "concat_s = s0 + s1 # This attataches \"a\" and \"b\" to make \"ab\"\n",
    "print(concat_s)\n",
    "\n",
    "\n",
    "empty = \"\" # The empty string. Think of it like the zero of strings.\n",
    "w0 = 'Something' + empty\n",
    "print(w0)\n",
    "\n",
    "w1 = 'Hello'\n",
    "w2 = 'world'\n",
    "w3 ='!'\n",
    "space= \" \" # space\n",
    "#String Concatination\n",
    "print(w1 + space + w2 + w3)\n",
    "\n",
    "new_line = \"\\n\" # a new line charecter\n",
    "w4 = \"This is a sentence.\"\n",
    "w5 = \"This too, is a sentence\"\n",
    "print(w4 + new_line + w5)\n",
    "tab = \"\\t\" #a tab \n",
    "first_program = \"Hello, world!\"\n",
    "ex0 = \"Feel free to m1x letters and numbers.\"\n",
    "ex1 = \"L33t H4Xs\"\n",
    "\n",
    "# Question: Is String Concatenation Commutative?\n",
    "\n"
   ]
  },
  {
   "cell_type": "code",
   "execution_count": 23,
   "metadata": {
    "slideshow": {
     "slide_type": "slide"
    }
   },
   "outputs": [
    {
     "name": "stdout",
     "output_type": "stream",
     "text": [
      "<class 'int'>\n",
      "<class 'float'>\n"
     ]
    }
   ],
   "source": [
    "# If you are ever unsure as to what datatype something is, use the type function\n",
    "print(type(a))\n",
    "print(type(d))"
   ]
  },
  {
   "cell_type": "markdown",
   "metadata": {
    "slideshow": {
     "slide_type": "slide"
    }
   },
   "source": [
    "# How should we define multiplication?\n",
    "- Well, for usual multiplication, we define it as repeated addition. \n",
    "- For multiplication of strings and lists, it uses repeated concatenation"
   ]
  },
  {
   "cell_type": "code",
   "execution_count": 2,
   "metadata": {
    "slideshow": {
     "slide_type": "slide"
    }
   },
   "outputs": [
    {
     "name": "stdout",
     "output_type": "stream",
     "text": [
      "True\n"
     ]
    }
   ],
   "source": [
    "# You can also use multiplication!\n",
    "once = \"I am only going to say this once! \" # Why did I add an extra space here?\n",
    "five_times = once * 5\n",
    "test =  \"I am only going to say this once! \" + \"I am only going to say this once! \" + \"I am only going to say this once! \" +\"I am only going to say this once! \" +\"I am only going to say this once! \"\n",
    "print(five_times == test)\n",
    "\n"
   ]
  },
  {
   "cell_type": "code",
   "execution_count": 14,
   "metadata": {
    "slideshow": {
     "slide_type": "slide"
    }
   },
   "outputs": [
    {
     "ename": "TypeError",
     "evalue": "must be str, not int",
     "output_type": "error",
     "traceback": [
      "\u001b[0;31m---------------------------------------------------------------------------\u001b[0m",
      "\u001b[0;31mTypeError\u001b[0m                                 Traceback (most recent call last)",
      "\u001b[0;32m<ipython-input-14-288d1ad50a90>\u001b[0m in \u001b[0;36m<module>\u001b[0;34m()\u001b[0m\n\u001b[1;32m      3\u001b[0m \u001b[0mprime_number\u001b[0m \u001b[0;34m=\u001b[0m \u001b[0;34m\"My favorite prime number is: \"\u001b[0m\u001b[0;34m\u001b[0m\u001b[0m\n\u001b[1;32m      4\u001b[0m \u001b[0mfavorite_prime\u001b[0m \u001b[0;34m=\u001b[0m \u001b[0;36m2\u001b[0m\u001b[0;34m\u001b[0m\u001b[0m\n\u001b[0;32m----> 5\u001b[0;31m \u001b[0mprint\u001b[0m\u001b[0;34m(\u001b[0m\u001b[0mprime_number\u001b[0m \u001b[0;34m+\u001b[0m \u001b[0mfavorite_prime\u001b[0m\u001b[0;34m)\u001b[0m \u001b[0;31m# This gives an error!\u001b[0m\u001b[0;34m\u001b[0m\u001b[0m\n\u001b[0m",
      "\u001b[0;31mTypeError\u001b[0m: must be str, not int"
     ]
    }
   ],
   "source": [
    "# What if you want to concatonate a string and an integer or float (real number)?\n",
    "# Example:\n",
    "prime_number = \"My favorite prime number is: \"\n",
    "favorite_prime = 2\n",
    "print(prime_number + favorite_prime) # This gives an error!"
   ]
  },
  {
   "cell_type": "code",
   "execution_count": 5,
   "metadata": {
    "slideshow": {
     "slide_type": "slide"
    }
   },
   "outputs": [
    {
     "name": "stdout",
     "output_type": "stream",
     "text": [
      "<class 'int'> <class 'float'> <class 'str'>\n"
     ]
    }
   ],
   "source": [
    "# We can fix this by using type converters! \n",
    "# Python has many built in converters Some examples:\n",
    "string_to_integer = int(\"42\") # The meaning of life :-)\n",
    "string_to_float = float(\"17.38\") \n",
    "integer_to_str = str(42)\n",
    "print(type(string_to_integer), type(string_to_float), type(integer_to_str))"
   ]
  },
  {
   "cell_type": "code",
   "execution_count": 7,
   "metadata": {
    "slideshow": {
     "slide_type": "slide"
    }
   },
   "outputs": [
    {
     "name": "stdout",
     "output_type": "stream",
     "text": [
      "My favorite prime number is: 2\n"
     ]
    }
   ],
   "source": [
    "# Therefore, we can modify the broken code to \n",
    "prime_number = \"My favorite prime number is: \"\n",
    "favorite_prime = 2\n",
    "print(prime_number + str(favorite_prime))"
   ]
  },
  {
   "cell_type": "code",
   "execution_count": 10,
   "metadata": {
    "slideshow": {
     "slide_type": "slide"
    }
   },
   "outputs": [
    {
     "name": "stdout",
     "output_type": "stream",
     "text": [
      "Squidward smells good.\n"
     ]
    }
   ],
   "source": [
    "# Practice problem: Fix the below code so that it makes a \n",
    "# gramatically correct sentence using only the 5 variables below\n",
    "string_0 = \"Squidward \"\n",
    "string_1 = \"smells \"\n",
    "string_2 = \"good\"\n",
    "string_3 = \".\"\n",
    "space = \" \"\n",
    "\n",
    "print( string_0 +string_1 + string_2 + string_3) # Hmmm something is wrong!\n"
   ]
  },
  {
   "cell_type": "markdown",
   "metadata": {
    "slideshow": {
     "slide_type": "slide"
    }
   },
   "source": [
    "# Basic First Order Logic\n",
    "- One way to ensure that this program doesn't break is to ensure that the input is of type str (recall that str is a string in python)\n",
    "- In computer science, use conditionals to convey logical ideas.\n",
    "- the 4 most basic logical operators are $\\texttt{and, or, not, Exclusive_or}$\n",
    "- AND takes two boolean values. If they are both True, it returns True. Otherwise, it returns False\n",
    "- OR takes two boolean values. If at least 1 of them is True, it returns True. Otherwise, it returns False\n",
    "- NOT takes one boolean value and returns the logical negation of the input. IE if the input is True, the output is False. If the input is False, the output is True\n",
    "- EXCLUSIVE OR takes two boolean values and returns True when exactly 1 of the inputs is True. False Otherwise\n"
   ]
  },
  {
   "cell_type": "code",
   "execution_count": 11,
   "metadata": {
    "slideshow": {
     "slide_type": "slide"
    }
   },
   "outputs": [
    {
     "name": "stdout",
     "output_type": "stream",
     "text": [
      "True False True True\n"
     ]
    }
   ],
   "source": [
    "xor = False ^ True # Computes exclusive or\n",
    "logical_and = True and False\n",
    "logical_or = True or False\n",
    "logical_not = not False \n",
    "print(xor, logical_and, logical_or, logical_not)"
   ]
  },
  {
   "cell_type": "markdown",
   "metadata": {
    "slideshow": {
     "slide_type": "slide"
    }
   },
   "source": [
    "# Functions\n",
    "- In Python, a function is a a block of code that takes an input (potentially empty) and returns an output (also potentially empty)\n",
    "- Function blocks begin with the keyword def followed by the function name and parentheses  ( ): .\n",
    "- Any input parameters or arguments should be placed within these parentheses. You can also define parameters inside these parentheses.\n",
    "- The first statement of a function can be an optional statement - the documentation string of the function or docstring.\n",
    "- The code block within every function starts with a colon (:) and is indented.\n",
    "- The statement return [expression] exits a function, optionally passing back an expression to the caller. A return statement with no arguments is the same as return None.\n",
    "- Source: https://www.tutorialspoint.com/python/python_functions.htm"
   ]
  },
  {
   "cell_type": "code",
   "execution_count": 19,
   "metadata": {
    "slideshow": {
     "slide_type": "slide"
    }
   },
   "outputs": [
    {
     "name": "stdout",
     "output_type": "stream",
     "text": [
      "Hello, world!\n",
      "Hello, Mr. Anderson!\n",
      "ERROR, thats not a string!\n"
     ]
    }
   ],
   "source": [
    "# Your First Function!\n",
    "\n",
    "def my_first_function_v0(name):\n",
    "    \"\"\"This is my first program!\n",
    "    It takes as input a string name and returns a greeting string.\"\"\" # Doc string is used to provide clarityy\n",
    "    if type(name)==str:\n",
    "        return \"Hello, \" + name + \"!\" \n",
    "    return \"ERROR, thats not a string!\"\n",
    "    \n",
    "greet_world = my_first_function_v0(\"world\")\n",
    "greet_neo = my_first_function_v0(\"Mr. Anderson\")\n",
    "print(greet_world)\n",
    "print(greet_neo)\n",
    "\n",
    "print(my_first_function_v0(2))\n"
   ]
  },
  {
   "cell_type": "code",
   "execution_count": 13,
   "metadata": {
    "slideshow": {
     "slide_type": "slide"
    }
   },
   "outputs": [
    {
     "name": "stdout",
     "output_type": "stream",
     "text": [
      "Hello, world!\n",
      "Hello, Mr. Anderson!\n",
      "None\n",
      "None\n"
     ]
    }
   ],
   "source": [
    "# You could also choose to return nothing (which in python is called a NONE type)\n",
    "# Instead of returning a string, you could just print the result. \n",
    "def my_first_function_v1(name):\n",
    "    \"\"\"This is my first program!\n",
    "    It takes as input a string name and returns a greeting string.\"\"\" # Doc string is used to provide clarity\n",
    "    print( \"Hello, \" + name + \"!\")\n",
    "    return\n",
    "    \n",
    "greet_world = my_first_function_v1(\"world\")\n",
    "greet_neo = my_first_function_v1(\"Mr. Anderson\")\n",
    "print(greet_world)\n",
    "print(greet_neo)"
   ]
  },
  {
   "cell_type": "code",
   "execution_count": 15,
   "metadata": {
    "slideshow": {
     "slide_type": "slide"
    }
   },
   "outputs": [
    {
     "ename": "TypeError",
     "evalue": "must be str, not int",
     "output_type": "error",
     "traceback": [
      "\u001b[0;31m---------------------------------------------------------------------------\u001b[0m",
      "\u001b[0;31mTypeError\u001b[0m                                 Traceback (most recent call last)",
      "\u001b[0;32m<ipython-input-15-dc9011e77060>\u001b[0m in \u001b[0;36m<module>\u001b[0;34m()\u001b[0m\n\u001b[1;32m      1\u001b[0m \u001b[0;31m# Be careful! Python makes it easy to pass in whatever type of parameter you want!\u001b[0m\u001b[0;34m\u001b[0m\u001b[0;34m\u001b[0m\u001b[0m\n\u001b[1;32m      2\u001b[0m \u001b[0;31m# How could we break the above program? Well, here is an example!\u001b[0m\u001b[0;34m\u001b[0m\u001b[0;34m\u001b[0m\u001b[0m\n\u001b[0;32m----> 3\u001b[0;31m \u001b[0mmy_first_function_v0\u001b[0m\u001b[0;34m(\u001b[0m\u001b[0;36m2\u001b[0m\u001b[0;34m)\u001b[0m  \u001b[0;31m# This is the same problem we had last time!\u001b[0m\u001b[0;34m\u001b[0m\u001b[0m\n\u001b[0m",
      "\u001b[0;32m<ipython-input-12-ae45096b4bb7>\u001b[0m in \u001b[0;36mmy_first_function_v0\u001b[0;34m(name)\u001b[0m\n\u001b[1;32m      4\u001b[0m     \"\"\"This is my first program!\n\u001b[1;32m      5\u001b[0m     It takes as input a string name and returns a greeting string.\"\"\" # Doc string is used to provide clarityy\n\u001b[0;32m----> 6\u001b[0;31m     \u001b[0;32mreturn\u001b[0m \u001b[0;34m\"Hello, \"\u001b[0m \u001b[0;34m+\u001b[0m \u001b[0mname\u001b[0m \u001b[0;34m+\u001b[0m \u001b[0;34m\"!\"\u001b[0m\u001b[0;34m\u001b[0m\u001b[0m\n\u001b[0m\u001b[1;32m      7\u001b[0m \u001b[0;34m\u001b[0m\u001b[0m\n\u001b[1;32m      8\u001b[0m \u001b[0mgreet_world\u001b[0m \u001b[0;34m=\u001b[0m \u001b[0mmy_first_function_v0\u001b[0m\u001b[0;34m(\u001b[0m\u001b[0;34m\"world\"\u001b[0m\u001b[0;34m)\u001b[0m\u001b[0;34m\u001b[0m\u001b[0m\n",
      "\u001b[0;31mTypeError\u001b[0m: must be str, not int"
     ]
    }
   ],
   "source": [
    "# Be careful! Python makes it easy to pass in whatever type of parameter you want!\n",
    "# How could we break the above program? Well, here is an example!\n",
    "my_first_function_v0(2)  # This is the same problem we had last time!"
   ]
  },
  {
   "cell_type": "markdown",
   "metadata": {
    "slideshow": {
     "slide_type": "slide"
    }
   },
   "source": [
    "# Conditionals \n",
    "- Lets try and use the logic operators to fix our first function!\n",
    "- We can test if certain logical conditions are met using Conditional expressions\n",
    "- IE if, elif, else. \n",
    "- if: If (this statement is true) --> do this\n",
    "- else: Used after an if statement.\n",
    "- elif: Used in between an if and an else\n",
    "- A note on syntax: You need to add a tab to tell python that everything indented 1 tab more than the if statement should be executed if the condition for the if statement holds"
   ]
  },
  {
   "cell_type": "code",
   "execution_count": 33,
   "metadata": {
    "slideshow": {
     "slide_type": "slide"
    }
   },
   "outputs": [
    {
     "name": "stdout",
     "output_type": "stream",
     "text": [
      "Input name must be a string!\n",
      "This broke our last program! -1\n",
      " Hello, 2!\n"
     ]
    }
   ],
   "source": [
    "def second_program(name):\n",
    "    \"\"\"This is a better version of my first program!\n",
    "    It only works for strings!\"\"\"\n",
    "    if type(name) is not str:\n",
    "        # Notice the Tab!\n",
    "        print(\"Input name must be a string!\")\n",
    "        return -1 # usually used to indicate the existence of an error\n",
    "    # you could also just return nothing \n",
    "    else:\n",
    "        return \"Hello, \" + name + \"!\"\n",
    "a = second_program(2)\n",
    "b = second_program(str(2))\n",
    "print(\"This broke our last program!\", a)\n",
    "print(\"\", b)\n"
   ]
  },
  {
   "cell_type": "code",
   "execution_count": 34,
   "metadata": {
    "slideshow": {
     "slide_type": "slide"
    }
   },
   "outputs": [
    {
     "name": "stdout",
     "output_type": "stream",
     "text": [
      "Hello, Jimbo! Hello, Cartman!\n"
     ]
    },
    {
     "ename": "AssertionError",
     "evalue": "",
     "output_type": "error",
     "traceback": [
      "\u001b[0;31m---------------------------------------------------------------------------\u001b[0m",
      "\u001b[0;31mAssertionError\u001b[0m                            Traceback (most recent call last)",
      "\u001b[0;32m<ipython-input-34-e399cc5d1eb5>\u001b[0m in \u001b[0;36m<module>\u001b[0;34m()\u001b[0m\n\u001b[1;32m      8\u001b[0m \u001b[0mprint\u001b[0m\u001b[0;34m(\u001b[0m\u001b[0ma\u001b[0m\u001b[0;34m,\u001b[0m\u001b[0mb\u001b[0m\u001b[0;34m)\u001b[0m\u001b[0;34m\u001b[0m\u001b[0m\n\u001b[1;32m      9\u001b[0m \u001b[0;31m# Note that the program will still crash! But maybe we want the program to crash for bad input types\u001b[0m\u001b[0;34m\u001b[0m\u001b[0;34m\u001b[0m\u001b[0m\n\u001b[0;32m---> 10\u001b[0;31m \u001b[0mc\u001b[0m \u001b[0;34m=\u001b[0m \u001b[0mthird_program\u001b[0m\u001b[0;34m(\u001b[0m\u001b[0;36m13\u001b[0m\u001b[0;34m)\u001b[0m\u001b[0;34m\u001b[0m\u001b[0m\n\u001b[0m\u001b[1;32m     11\u001b[0m \u001b[0;31m# In particular, notice the error is \"AssertionError:\"\u001b[0m\u001b[0;34m\u001b[0m\u001b[0;34m\u001b[0m\u001b[0m\n",
      "\u001b[0;32m<ipython-input-34-e399cc5d1eb5>\u001b[0m in \u001b[0;36mthird_program\u001b[0;34m(name)\u001b[0m\n\u001b[1;32m      1\u001b[0m \u001b[0;32mdef\u001b[0m \u001b[0mthird_program\u001b[0m\u001b[0;34m(\u001b[0m\u001b[0mname\u001b[0m\u001b[0;34m)\u001b[0m\u001b[0;34m:\u001b[0m\u001b[0;34m\u001b[0m\u001b[0m\n\u001b[1;32m      2\u001b[0m     \u001b[0;34m\"\"\"Same as the second program but uses assert\"\"\"\u001b[0m\u001b[0;34m\u001b[0m\u001b[0m\n\u001b[0;32m----> 3\u001b[0;31m     \u001b[0;32massert\u001b[0m\u001b[0;34m(\u001b[0m\u001b[0mtype\u001b[0m\u001b[0;34m(\u001b[0m\u001b[0mname\u001b[0m\u001b[0;34m)\u001b[0m\u001b[0;34m==\u001b[0m\u001b[0mstr\u001b[0m\u001b[0;34m)\u001b[0m \u001b[0;31m#Assertions will exit the program if it is broken\u001b[0m\u001b[0;34m\u001b[0m\u001b[0m\n\u001b[0m\u001b[1;32m      4\u001b[0m     \u001b[0;31m#Assertions are especially useful for unit testing\u001b[0m\u001b[0;34m\u001b[0m\u001b[0;34m\u001b[0m\u001b[0m\n\u001b[1;32m      5\u001b[0m     \u001b[0;32mreturn\u001b[0m \u001b[0;34m\"Hello, \"\u001b[0m \u001b[0;34m+\u001b[0m \u001b[0mname\u001b[0m \u001b[0;34m+\u001b[0m \u001b[0;34m\"!\"\u001b[0m\u001b[0;34m\u001b[0m\u001b[0m\n",
      "\u001b[0;31mAssertionError\u001b[0m: "
     ]
    }
   ],
   "source": [
    "def third_program(name):\n",
    "    \"\"\"Same as the second program but uses assert\"\"\"\n",
    "    assert(type(name)==str) # Assertions will exit the program if it is broken\n",
    "    # Assertions are especially useful for unit testing\n",
    "    return \"Hello, \" + name + \"!\"\n",
    "a = third_program(\"Jimbo\")\n",
    "b = third_program(\"Cartman\")\n",
    "print(a,b)\n",
    "# Note that the program will still crash! But maybe we want the program to crash for bad input types\n",
    "c = third_program(13) \n",
    "# In particular, notice the error is \"AssertionError:\""
   ]
  },
  {
   "cell_type": "markdown",
   "metadata": {
    "slideshow": {
     "slide_type": "slide"
    }
   },
   "source": [
    "# Typesetting using $\\LaTeX$\n",
    "- You can change the cell type in Jupyter notebook to execute Latex Commands. \n",
    "- Simply put math equations in between two dollar signs "
   ]
  },
  {
   "cell_type": "markdown",
   "metadata": {
    "slideshow": {
     "slide_type": "slide"
    }
   },
   "source": [
    "# Mathematical Functions \n",
    "- A function is a mathematical relation between a set of inputs and a set of outputs were each input is associated to exactly 1 output\n",
    "- Example: $$f(x)=x^2 +1$$\n",
    "- Non Example:  $$g(x)= \\pm x$$"
   ]
  },
  {
   "cell_type": "code",
   "execution_count": 2,
   "metadata": {
    "slideshow": {
     "slide_type": "slide"
    }
   },
   "outputs": [
    {
     "ename": "AssertionError",
     "evalue": "",
     "output_type": "error",
     "traceback": [
      "\u001b[0;31m---------------------------------------------------------------------------\u001b[0m",
      "\u001b[0;31mAssertionError\u001b[0m                            Traceback (most recent call last)",
      "\u001b[0;32m<ipython-input-2-02f1d6693525>\u001b[0m in \u001b[0;36m<module>\u001b[0;34m()\u001b[0m\n\u001b[1;32m      5\u001b[0m \u001b[0;31m# This is a test\u001b[0m\u001b[0;34m\u001b[0m\u001b[0;34m\u001b[0m\u001b[0m\n\u001b[1;32m      6\u001b[0m \u001b[0msuccsess\u001b[0m\u001b[0;34m=\u001b[0m\u001b[0msum\u001b[0m\u001b[0;34m(\u001b[0m\u001b[0;34m[\u001b[0m\u001b[0mf\u001b[0m\u001b[0;34m(\u001b[0m\u001b[0mi\u001b[0m\u001b[0;34m)\u001b[0m\u001b[0;34m==\u001b[0m\u001b[0mi\u001b[0m\u001b[0;34m**\u001b[0m\u001b[0;36m2\u001b[0m \u001b[0;34m+\u001b[0m\u001b[0;36m1\u001b[0m \u001b[0;32mfor\u001b[0m \u001b[0mi\u001b[0m \u001b[0;32min\u001b[0m \u001b[0mrange\u001b[0m\u001b[0;34m(\u001b[0m\u001b[0;36m0\u001b[0m\u001b[0;34m,\u001b[0m\u001b[0;36m100\u001b[0m\u001b[0;34m)\u001b[0m\u001b[0;34m]\u001b[0m\u001b[0;34m)\u001b[0m\u001b[0;34m\u001b[0m\u001b[0m\n\u001b[0;32m----> 7\u001b[0;31m \u001b[0;32massert\u001b[0m\u001b[0;34m(\u001b[0m\u001b[0msuccsess\u001b[0m \u001b[0;34m==\u001b[0m \u001b[0;36m100\u001b[0m\u001b[0;34m)\u001b[0m\u001b[0;34m\u001b[0m\u001b[0m\n\u001b[0m\u001b[1;32m      8\u001b[0m \u001b[0mprint\u001b[0m\u001b[0;34m(\u001b[0m\u001b[0;34m\"Succsess!\"\u001b[0m\u001b[0;34m)\u001b[0m\u001b[0;34m\u001b[0m\u001b[0m\n",
      "\u001b[0;31mAssertionError\u001b[0m: "
     ]
    }
   ],
   "source": [
    "# Create the above function\n",
    "def f(x):\n",
    "    return 0 # change me!\n",
    "# I have set up a unit test to determine whether or not your function correctly works on inputs in {0,1,2,...,99}\n",
    "# This is a test\n",
    "succsess=sum([f(i)==i**2 +1 for i in range(0,100)])\n",
    "assert(succsess == 100)\n",
    "print(\"Succsess!\")"
   ]
  },
  {
   "cell_type": "markdown",
   "metadata": {
    "slideshow": {
     "slide_type": "slide"
    }
   },
   "source": [
    "# PEMDAS\n",
    "- Python uses mathematical order of operations\n",
    "- Parentheses come before Exponentiation which comes before Multiplication and division which comes before addition and subtraction"
   ]
  },
  {
   "cell_type": "code",
   "execution_count": 19,
   "metadata": {
    "slideshow": {
     "slide_type": "slide"
    }
   },
   "outputs": [
    {
     "name": "stdout",
     "output_type": "stream",
     "text": [
      "What do you think x is equal to? 5\n",
      "Succsess!\n"
     ]
    }
   ],
   "source": [
    "#Example \n",
    "x = 2 + 1 * 3\n",
    "answer = int(input(\"What do you think x is equal to? \")) # input grabs an input from the user/standard input\n",
    "# int(input()) converts the input to an integer \n",
    "assert(answer == x)\n",
    "print(\"Succsess!\")"
   ]
  },
  {
   "cell_type": "markdown",
   "metadata": {
    "slideshow": {
     "slide_type": "slide"
    }
   },
   "source": [
    "# Lists and Arrays \n",
    "- In python, we can also construct datatypes that are lists of other datatypes. In fact, theses lists can mix datatypes"
   ]
  },
  {
   "cell_type": "code",
   "execution_count": 20,
   "metadata": {
    "slideshow": {
     "slide_type": "slide"
    }
   },
   "outputs": [
    {
     "name": "stdout",
     "output_type": "stream",
     "text": [
      "The first element is:  1\n",
      "The last element is:  5\n"
     ]
    }
   ],
   "source": [
    "example_list = [1,2,3,4,5]\n",
    "# In python, we start counting at 0. \n",
    "# To accsess elements in a list, use brackets and the index\n",
    "print(\"The first element is: \", example_list[0])\n",
    "print(\"The last element is: \", example_list[4]) "
   ]
  },
  {
   "cell_type": "code",
   "execution_count": 37,
   "metadata": {
    "slideshow": {
     "slide_type": "slide"
    }
   },
   "outputs": [
    {
     "name": "stdout",
     "output_type": "stream",
     "text": [
      "[1, 2, 3, 4, 5, 6]\n"
     ]
    }
   ],
   "source": [
    "# Opperations on lists are similart to opperations on strings since a string is a list of charecters!\n",
    "# Concatonation:\n",
    "L0 = [1,2,3]\n",
    "L1 = [4,5,6]\n",
    "L2 = L0 + L1\n",
    "print(L2)"
   ]
  },
  {
   "cell_type": "code",
   "execution_count": 38,
   "metadata": {
    "slideshow": {
     "slide_type": "slide"
    }
   },
   "outputs": [
    {
     "name": "stdout",
     "output_type": "stream",
     "text": [
      "[0, 0, 0, 0, 0, 0, 0, 0, 0, 0, 0, 0, 0, 0, 0, 0] 16\n"
     ]
    }
   ],
   "source": [
    "# Multiplication-- repeated concatonation \n",
    "x = [0]\n",
    "y = x * 16\n",
    "print(y, len(y))"
   ]
  },
  {
   "cell_type": "code",
   "execution_count": 39,
   "metadata": {
    "slideshow": {
     "slide_type": "slide"
    }
   },
   "outputs": [
    {
     "name": "stdout",
     "output_type": "stream",
     "text": [
      "[2, 3]\n",
      "Help on class list in module builtins:\n",
      "\n",
      "class list(object)\n",
      " |  list() -> new empty list\n",
      " |  list(iterable) -> new list initialized from iterable's items\n",
      " |  \n",
      " |  Methods defined here:\n",
      " |  \n",
      " |  __add__(self, value, /)\n",
      " |      Return self+value.\n",
      " |  \n",
      " |  __contains__(self, key, /)\n",
      " |      Return key in self.\n",
      " |  \n",
      " |  __delitem__(self, key, /)\n",
      " |      Delete self[key].\n",
      " |  \n",
      " |  __eq__(self, value, /)\n",
      " |      Return self==value.\n",
      " |  \n",
      " |  __ge__(self, value, /)\n",
      " |      Return self>=value.\n",
      " |  \n",
      " |  __getattribute__(self, name, /)\n",
      " |      Return getattr(self, name).\n",
      " |  \n",
      " |  __getitem__(...)\n",
      " |      x.__getitem__(y) <==> x[y]\n",
      " |  \n",
      " |  __gt__(self, value, /)\n",
      " |      Return self>value.\n",
      " |  \n",
      " |  __iadd__(self, value, /)\n",
      " |      Implement self+=value.\n",
      " |  \n",
      " |  __imul__(self, value, /)\n",
      " |      Implement self*=value.\n",
      " |  \n",
      " |  __init__(self, /, *args, **kwargs)\n",
      " |      Initialize self.  See help(type(self)) for accurate signature.\n",
      " |  \n",
      " |  __iter__(self, /)\n",
      " |      Implement iter(self).\n",
      " |  \n",
      " |  __le__(self, value, /)\n",
      " |      Return self<=value.\n",
      " |  \n",
      " |  __len__(self, /)\n",
      " |      Return len(self).\n",
      " |  \n",
      " |  __lt__(self, value, /)\n",
      " |      Return self<value.\n",
      " |  \n",
      " |  __mul__(self, value, /)\n",
      " |      Return self*value.n\n",
      " |  \n",
      " |  __ne__(self, value, /)\n",
      " |      Return self!=value.\n",
      " |  \n",
      " |  __new__(*args, **kwargs) from builtins.type\n",
      " |      Create and return a new object.  See help(type) for accurate signature.\n",
      " |  \n",
      " |  __repr__(self, /)\n",
      " |      Return repr(self).\n",
      " |  \n",
      " |  __reversed__(...)\n",
      " |      L.__reversed__() -- return a reverse iterator over the list\n",
      " |  \n",
      " |  __rmul__(self, value, /)\n",
      " |      Return self*value.\n",
      " |  \n",
      " |  __setitem__(self, key, value, /)\n",
      " |      Set self[key] to value.\n",
      " |  \n",
      " |  __sizeof__(...)\n",
      " |      L.__sizeof__() -- size of L in memory, in bytes\n",
      " |  \n",
      " |  append(...)\n",
      " |      L.append(object) -> None -- append object to end\n",
      " |  \n",
      " |  clear(...)\n",
      " |      L.clear() -> None -- remove all items from L\n",
      " |  \n",
      " |  copy(...)\n",
      " |      L.copy() -> list -- a shallow copy of L\n",
      " |  \n",
      " |  count(...)\n",
      " |      L.count(value) -> integer -- return number of occurrences of value\n",
      " |  \n",
      " |  extend(...)\n",
      " |      L.extend(iterable) -> None -- extend list by appending elements from the iterable\n",
      " |  \n",
      " |  index(...)\n",
      " |      L.index(value, [start, [stop]]) -> integer -- return first index of value.\n",
      " |      Raises ValueError if the value is not present.\n",
      " |  \n",
      " |  insert(...)\n",
      " |      L.insert(index, object) -- insert object before index\n",
      " |  \n",
      " |  pop(...)\n",
      " |      L.pop([index]) -> item -- remove and return item at index (default last).\n",
      " |      Raises IndexError if list is empty or index is out of range.\n",
      " |  \n",
      " |  remove(...)\n",
      " |      L.remove(value) -> None -- remove first occurrence of value.\n",
      " |      Raises ValueError if the value is not present.\n",
      " |  \n",
      " |  reverse(...)\n",
      " |      L.reverse() -- reverse *IN PLACE*\n",
      " |  \n",
      " |  sort(...)\n",
      " |      L.sort(key=None, reverse=False) -> None -- stable sort *IN PLACE*\n",
      " |  \n",
      " |  ----------------------------------------------------------------------\n",
      " |  Data and other attributes defined here:\n",
      " |  \n",
      " |  __hash__ = None\n",
      "\n"
     ]
    }
   ],
   "source": [
    "# We can get slices of lists\n",
    "lst = [1,2,3,4,5]\n",
    "sliced_lst = lst[1:3] #gets the second and 3rd element. Last index is ommited\n",
    "print(sliced_lst)\n",
    "# If you are ever unsure, try using the help function!\n",
    "help(list)"
   ]
  },
  {
   "cell_type": "code",
   "execution_count": 40,
   "metadata": {
    "slideshow": {
     "slide_type": "slide"
    }
   },
   "outputs": [
    {
     "name": "stdout",
     "output_type": "stream",
     "text": [
      "[1, 3, 5]\n"
     ]
    }
   ],
   "source": [
    "# You can also skip elements\n",
    "skip_lst =  lst[0::2] \n",
    "#lst[a:b:c] will start at a, end at index b-1 and grab every cth element.  #all must be integers\n",
    "print(skip_lst)"
   ]
  },
  {
   "cell_type": "code",
   "execution_count": 41,
   "metadata": {
    "slideshow": {
     "slide_type": "slide"
    }
   },
   "outputs": [
    {
     "name": "stdout",
     "output_type": "stream",
     "text": [
      "[5, 4, 3, 2, 1]\n"
     ]
    }
   ],
   "source": [
    "# They can be negative though! \n",
    "# Negative just means  go in the opposite order. IE -1 is first form the right side of a list\n",
    "# Example: reversing a list\n",
    "reverse_lst = lst[::-1]\n",
    "print(reverse_lst)"
   ]
  },
  {
   "cell_type": "code",
   "execution_count": 42,
   "metadata": {
    "slideshow": {
     "slide_type": "slide"
    }
   },
   "outputs": [
    {
     "name": "stdout",
     "output_type": "stream",
     "text": [
      "<class 'list'>\n",
      "<class 'list'>\n"
     ]
    }
   ],
   "source": [
    "#pairs, tuples and lists!\n",
    "int_list=[1,2,3]\n",
    "\n",
    "print(type(int_list))\n",
    "# You can mix types in lists!\n",
    "mixed_list=[1,2,4.5,\"This is not a number\"]\n",
    "print(type(mixed_list))"
   ]
  },
  {
   "cell_type": "code",
   "execution_count": 43,
   "metadata": {
    "slideshow": {
     "slide_type": "slide"
    }
   },
   "outputs": [
    {
     "ename": "AssertionError",
     "evalue": "",
     "output_type": "error",
     "traceback": [
      "\u001b[0;31m---------------------------------------------------------------------------\u001b[0m",
      "\u001b[0;31mAssertionError\u001b[0m                            Traceback (most recent call last)",
      "\u001b[0;32m<ipython-input-43-9fa558ae3b33>\u001b[0m in \u001b[0;36m<module>\u001b[0;34m()\u001b[0m\n\u001b[1;32m     19\u001b[0m \u001b[0mtsud\u001b[0m \u001b[0meht\u001b[0m \u001b[0msetib\u001b[0m \u001b[0meno\u001b[0m \u001b[0mrehtonA\u001b[0m\u001b[0;34m\u001b[0m\u001b[0m\n\u001b[1;32m     20\u001b[0m tsud eht setib eno rehtonA\"\"\"\n\u001b[0;32m---> 21\u001b[0;31m \u001b[0;32massert\u001b[0m\u001b[0;34m(\u001b[0m\u001b[0mrev_string\u001b[0m \u001b[0;34m==\u001b[0m \u001b[0msol_str\u001b[0m \u001b[0;34m)\u001b[0m\u001b[0;34m\u001b[0m\u001b[0m\n\u001b[0m\u001b[1;32m     22\u001b[0m \u001b[0mprint\u001b[0m\u001b[0;34m(\u001b[0m\u001b[0;34m\"Nice job!\"\u001b[0m\u001b[0;34m)\u001b[0m\u001b[0;34m\u001b[0m\u001b[0m\n",
      "\u001b[0;31mAssertionError\u001b[0m: "
     ]
    }
   ],
   "source": [
    "string = \"\"\"Another one bites the dust\n",
    "Another one bites the dust\n",
    "And another one gone, and another one gone\n",
    "Another one bites the dust\n",
    "Hey, I'm gonna get you too\n",
    "Another one bites the dust\"\"\" # Tripple quotes are used for multi line strings\n",
    "\n",
    "# Fill in the blank to reverse the string\n",
    "rev_string = string[::] # Hint recall indexing in strings just like indexing in lists\n",
    "\n",
    "\n",
    "\n",
    "\n",
    "########################################################################################################################################################################################\n",
    "sol_str= \"\"\"tsud eht setib eno rehtonA\n",
    "oot uoy teg annog m'I ,yeH\n",
    "tsud eht setib eno rehtonA\n",
    "enog eno rehtona dna ,enog eno rehtona dnA\n",
    "tsud eht setib eno rehtonA\n",
    "tsud eht setib eno rehtonA\"\"\"\n",
    "assert(rev_string == sol_str )\n",
    "print(\"Nice job!\")"
   ]
  },
  {
   "cell_type": "markdown",
   "metadata": {
    "slideshow": {
     "slide_type": "slide"
    }
   },
   "source": [
    "# Vectors \n",
    "- A vector is a mathematical object that has \n",
    "- 1) a length\n",
    "- 2) a direction. \n",
    "- While there are many different types of vectors, we will focus on vectors that live in $\\mathbb{R}^n$.\n",
    "- IE, a vector of real numbers with $n$ entries.\n",
    "- Easiest example is $\\mathbb{R}^2$ which is the usual Cartesian coordinate plane defined by all pairs of $(x,y)$ with $x,y\\in \\mathbb{R}$. We can also write $\\vec{z}=(x,y)\\in \\mathbb{R}^2$"
   ]
  },
  {
   "cell_type": "markdown",
   "metadata": {
    "slideshow": {
     "slide_type": "slide"
    }
   },
   "source": [
    "# Vectors in $\\mathbb{R}^2$\n",
    "- Length\n",
    "    - For $(a,b)\\in\\mathbb{R}^2$, the length of the vector is $||(a,b)||=\\sqrt{a^2 + b^2}$\n",
    "    - This is called the norm of a vector.\n",
    "- Direction\n",
    "    - The direction in 2 dimensions is determined by the direction of the unit vector associated to the vector. \n",
    "    - A Unit vector is a vector with magnitude =1.\n"
   ]
  },
  {
   "cell_type": "code",
   "execution_count": 44,
   "metadata": {
    "slideshow": {
     "slide_type": "slide"
    }
   },
   "outputs": [
    {
     "data": {
      "text/html": [
       "<img src=\"http://mathinsight.org/media/image/image/vector_parallelogram_law.png\"/>"
      ],
      "text/plain": [
       "<IPython.core.display.Image object>"
      ]
     },
     "execution_count": 44,
     "metadata": {},
     "output_type": "execute_result"
    }
   ],
   "source": [
    "Image(url='http://mathinsight.org/media/image/image/vector_parallelogram_law.png')"
   ]
  },
  {
   "cell_type": "markdown",
   "metadata": {
    "slideshow": {
     "slide_type": "slide"
    }
   },
   "source": [
    "This is a Markdown cell!  With Jupyter notebook, you can use markdown cells to typeset using $$\\LaTeX$$ \n",
    "For example, lets say you wanted to make a vector $\\vec{x}$ that lives in $\\mathbb{R}^7$ which is short hand for the 7th fold cartesian product of the real numbers  (ie,  tuples of 7 real numbers). We can represent this as a column vector $$\\begin{bmatrix} 1\\\\ -3\\\\ 4\\\\2\\\\ -7\\\\ 8\\\\ 9 \\end{bmatrix}$$ or a row vector $$\\begin{bmatrix}1,-3,4,2,-7,8,9 \\end{bmatrix}$$\n",
    "In python, we will first import a useful module that makes vector opperations easy!"
   ]
  },
  {
   "cell_type": "code",
   "execution_count": 45,
   "metadata": {
    "slideshow": {
     "slide_type": "slide"
    }
   },
   "outputs": [
    {
     "name": "stdout",
     "output_type": "stream",
     "text": [
      "Help on ufunc object:\n",
      "\n",
      "add = class ufunc(builtins.object)\n",
      " |  Functions that operate element by element on whole arrays.\n",
      " |  \n",
      " |  To see the documentation for a specific ufunc, use np.info().  For\n",
      " |  example, np.info(np.sin).  Because ufuncs are written in C\n",
      " |  (for speed) and linked into Python with NumPy's ufunc facility,\n",
      " |  Python's help() function finds this page whenever help() is called\n",
      " |  on a ufunc.\n",
      " |  \n",
      " |  A detailed explanation of ufuncs can be found in the \"ufuncs.rst\"\n",
      " |  file in the NumPy reference guide.\n",
      " |  \n",
      " |  Unary ufuncs:\n",
      " |  =============\n",
      " |  \n",
      " |  op(X, out=None)\n",
      " |  Apply op to X elementwise\n",
      " |  \n",
      " |  Parameters\n",
      " |  ----------\n",
      " |  X : array_like\n",
      " |      Input array.\n",
      " |  out : array_like\n",
      " |      An array to store the output. Must be the same shape as `X`.\n",
      " |  \n",
      " |  Returns\n",
      " |  -------\n",
      " |  r : array_like\n",
      " |      `r` will have the same shape as `X`; if out is provided, `r`\n",
      " |      will be equal to out.\n",
      " |  \n",
      " |  Binary ufuncs:\n",
      " |  ==============\n",
      " |  \n",
      " |  op(X, Y, out=None)\n",
      " |  Apply `op` to `X` and `Y` elementwise. May \"broadcast\" to make\n",
      " |  the shapes of `X` and `Y` congruent.\n",
      " |  \n",
      " |  The broadcasting rules are:\n",
      " |  \n",
      " |  * Dimensions of length 1 may be prepended to either array.\n",
      " |  * Arrays may be repeated along dimensions of length 1.\n",
      " |  \n",
      " |  Parameters\n",
      " |  ----------\n",
      " |  X : array_like\n",
      " |      First input array.\n",
      " |  Y : array_like\n",
      " |      Second input array.\n",
      " |  out : array_like\n",
      " |      An array to store the output. Must be the same shape as the\n",
      " |      output would have.\n",
      " |  \n",
      " |  Returns\n",
      " |  -------\n",
      " |  r : array_like\n",
      " |      The return value; if out is provided, `r` will be equal to out.\n",
      " |  \n",
      " |  Methods defined here:\n",
      " |  \n",
      " |  __call__(self, /, *args, **kwargs)\n",
      " |      Call self as a function.\n",
      " |  \n",
      " |  __repr__(self, /)\n",
      " |      Return repr(self).\n",
      " |  \n",
      " |  __str__(self, /)\n",
      " |      Return str(self).\n",
      " |  \n",
      " |  accumulate(...)\n",
      " |      accumulate(array, axis=0, dtype=None, out=None)\n",
      " |      \n",
      " |      Accumulate the result of applying the operator to all elements.\n",
      " |      \n",
      " |      For a one-dimensional array, accumulate produces results equivalent to::\n",
      " |      \n",
      " |        r = np.empty(len(A))\n",
      " |        t = op.identity        # op = the ufunc being applied to A's  elements\n",
      " |        for i in range(len(A)):\n",
      " |            t = op(t, A[i])\n",
      " |            r[i] = t\n",
      " |        return r\n",
      " |      \n",
      " |      For example, add.accumulate() is equivalent to np.cumsum().\n",
      " |      \n",
      " |      For a multi-dimensional array, accumulate is applied along only one\n",
      " |      axis (axis zero by default; see Examples below) so repeated use is\n",
      " |      necessary if one wants to accumulate over multiple axes.\n",
      " |      \n",
      " |      Parameters\n",
      " |      ----------\n",
      " |      array : array_like\n",
      " |          The array to act on.\n",
      " |      axis : int, optional\n",
      " |          The axis along which to apply the accumulation; default is zero.\n",
      " |      dtype : data-type code, optional\n",
      " |          The data-type used to represent the intermediate results. Defaults\n",
      " |          to the data-type of the output array if such is provided, or the\n",
      " |          the data-type of the input array if no output array is provided.\n",
      " |      out : ndarray, optional\n",
      " |          A location into which the result is stored. If not provided a\n",
      " |          freshly-allocated array is returned.\n",
      " |      \n",
      " |      Returns\n",
      " |      -------\n",
      " |      r : ndarray\n",
      " |          The accumulated values. If `out` was supplied, `r` is a reference to\n",
      " |          `out`.\n",
      " |      \n",
      " |      Examples\n",
      " |      --------\n",
      " |      1-D array examples:\n",
      " |      \n",
      " |      >>> np.add.accumulate([2, 3, 5])\n",
      " |      array([ 2,  5, 10])\n",
      " |      >>> np.multiply.accumulate([2, 3, 5])\n",
      " |      array([ 2,  6, 30])\n",
      " |      \n",
      " |      2-D array examples:\n",
      " |      \n",
      " |      >>> I = np.eye(2)\n",
      " |      >>> I\n",
      " |      array([[ 1.,  0.],\n",
      " |             [ 0.,  1.]])\n",
      " |      \n",
      " |      Accumulate along axis 0 (rows), down columns:\n",
      " |      \n",
      " |      >>> np.add.accumulate(I, 0)\n",
      " |      array([[ 1.,  0.],\n",
      " |             [ 1.,  1.]])\n",
      " |      >>> np.add.accumulate(I) # no axis specified = axis zero\n",
      " |      array([[ 1.,  0.],\n",
      " |             [ 1.,  1.]])\n",
      " |      \n",
      " |      Accumulate along axis 1 (columns), through rows:\n",
      " |      \n",
      " |      >>> np.add.accumulate(I, 1)\n",
      " |      array([[ 1.,  1.],\n",
      " |             [ 0.,  1.]])\n",
      " |  \n",
      " |  at(...)\n",
      " |      at(a, indices, b=None)\n",
      " |      \n",
      " |      Performs unbuffered in place operation on operand 'a' for elements\n",
      " |      specified by 'indices'. For addition ufunc, this method is equivalent to\n",
      " |      `a[indices] += b`, except that results are accumulated for elements that\n",
      " |      are indexed more than once. For example, `a[[0,0]] += 1` will only\n",
      " |      increment the first element once because of buffering, whereas\n",
      " |      `add.at(a, [0,0], 1)` will increment the first element twice.\n",
      " |      \n",
      " |      .. versionadded:: 1.8.0\n",
      " |      \n",
      " |      Parameters\n",
      " |      ----------\n",
      " |      a : array_like\n",
      " |          The array to perform in place operation on.\n",
      " |      indices : array_like or tuple\n",
      " |          Array like index object or slice object for indexing into first\n",
      " |          operand. If first operand has multiple dimensions, indices can be a\n",
      " |          tuple of array like index objects or slice objects.\n",
      " |      b : array_like\n",
      " |          Second operand for ufuncs requiring two operands. Operand must be\n",
      " |          broadcastable over first operand after indexing or slicing.\n",
      " |      \n",
      " |      Examples\n",
      " |      --------\n",
      " |      Set items 0 and 1 to their negative values:\n",
      " |      \n",
      " |      >>> a = np.array([1, 2, 3, 4])\n",
      " |      >>> np.negative.at(a, [0, 1])\n",
      " |      >>> print(a)\n",
      " |      array([-1, -2, 3, 4])\n",
      " |      \n",
      " |      ::\n",
      " |      \n",
      " |      Increment items 0 and 1, and increment item 2 twice:\n",
      " |      \n",
      " |      >>> a = np.array([1, 2, 3, 4])\n",
      " |      >>> np.add.at(a, [0, 1, 2, 2], 1)\n",
      " |      >>> print(a)\n",
      " |      array([2, 3, 5, 4])\n",
      " |      \n",
      " |      ::\n",
      " |      \n",
      " |      Add items 0 and 1 in first array to second array,\n",
      " |      and store results in first array:\n",
      " |      \n",
      " |      >>> a = np.array([1, 2, 3, 4])\n",
      " |      >>> b = np.array([1, 2])\n",
      " |      >>> np.add.at(a, [0, 1], b)\n",
      " |      >>> print(a)\n",
      " |      array([2, 4, 3, 4])\n",
      " |  \n",
      " |  outer(...)\n",
      " |      outer(A, B)\n",
      " |      \n",
      " |      Apply the ufunc `op` to all pairs (a, b) with a in `A` and b in `B`.\n",
      " |      \n",
      " |      Let ``M = A.ndim``, ``N = B.ndim``. Then the result, `C`, of\n",
      " |      ``op.outer(A, B)`` is an array of dimension M + N such that:\n",
      " |      \n",
      " |      .. math:: C[i_0, ..., i_{M-1}, j_0, ..., j_{N-1}] =\n",
      " |         op(A[i_0, ..., i_{M-1}], B[j_0, ..., j_{N-1}])\n",
      " |      \n",
      " |      For `A` and `B` one-dimensional, this is equivalent to::\n",
      " |      \n",
      " |        r = empty(len(A),len(B))\n",
      " |        for i in range(len(A)):\n",
      " |            for j in range(len(B)):\n",
      " |                r[i,j] = op(A[i], B[j]) # op = ufunc in question\n",
      " |      \n",
      " |      Parameters\n",
      " |      ----------\n",
      " |      A : array_like\n",
      " |          First array\n",
      " |      B : array_like\n",
      " |          Second array\n",
      " |      \n",
      " |      Returns\n",
      " |      -------\n",
      " |      r : ndarray\n",
      " |          Output array\n",
      " |      \n",
      " |      See Also\n",
      " |      --------\n",
      " |      numpy.outer\n",
      " |      \n",
      " |      Examples\n",
      " |      --------\n",
      " |      >>> np.multiply.outer([1, 2, 3], [4, 5, 6])\n",
      " |      array([[ 4,  5,  6],\n",
      " |             [ 8, 10, 12],\n",
      " |             [12, 15, 18]])\n",
      " |      \n",
      " |      A multi-dimensional example:\n",
      " |      \n",
      " |      >>> A = np.array([[1, 2, 3], [4, 5, 6]])\n",
      " |      >>> A.shape\n",
      " |      (2, 3)\n",
      " |      >>> B = np.array([[1, 2, 3, 4]])\n",
      " |      >>> B.shape\n",
      " |      (1, 4)\n",
      " |      >>> C = np.multiply.outer(A, B)\n",
      " |      >>> C.shape; C\n",
      " |      (2, 3, 1, 4)\n",
      " |      array([[[[ 1,  2,  3,  4]],\n",
      " |              [[ 2,  4,  6,  8]],\n",
      " |              [[ 3,  6,  9, 12]]],\n",
      " |             [[[ 4,  8, 12, 16]],\n",
      " |              [[ 5, 10, 15, 20]],\n",
      " |              [[ 6, 12, 18, 24]]]])\n",
      " |  \n",
      " |  reduce(...)\n",
      " |      reduce(a, axis=0, dtype=None, out=None, keepdims=False)\n",
      " |      \n",
      " |      Reduces `a`'s dimension by one, by applying ufunc along one axis.\n",
      " |      \n",
      " |      Let :math:`a.shape = (N_0, ..., N_i, ..., N_{M-1})`.  Then\n",
      " |      :math:`ufunc.reduce(a, axis=i)[k_0, ..,k_{i-1}, k_{i+1}, .., k_{M-1}]` =\n",
      " |      the result of iterating `j` over :math:`range(N_i)`, cumulatively applying\n",
      " |      ufunc to each :math:`a[k_0, ..,k_{i-1}, j, k_{i+1}, .., k_{M-1}]`.\n",
      " |      For a one-dimensional array, reduce produces results equivalent to:\n",
      " |      ::\n",
      " |      \n",
      " |       r = op.identity # op = ufunc\n",
      " |       for i in range(len(A)):\n",
      " |         r = op(r, A[i])\n",
      " |       return r\n",
      " |      \n",
      " |      For example, add.reduce() is equivalent to sum().\n",
      " |      \n",
      " |      Parameters\n",
      " |      ----------\n",
      " |      a : array_like\n",
      " |          The array to act on.\n",
      " |      axis : None or int or tuple of ints, optional\n",
      " |          Axis or axes along which a reduction is performed.\n",
      " |          The default (`axis` = 0) is perform a reduction over the first\n",
      " |          dimension of the input array. `axis` may be negative, in\n",
      " |          which case it counts from the last to the first axis.\n",
      " |      \n",
      " |          .. versionadded:: 1.7.0\n",
      " |      \n",
      " |          If this is `None`, a reduction is performed over all the axes.\n",
      " |          If this is a tuple of ints, a reduction is performed on multiple\n",
      " |          axes, instead of a single axis or all the axes as before.\n",
      " |      \n",
      " |          For operations which are either not commutative or not associative,\n",
      " |          doing a reduction over multiple axes is not well-defined. The\n",
      " |          ufuncs do not currently raise an exception in this case, but will\n",
      " |          likely do so in the future.\n",
      " |      dtype : data-type code, optional\n",
      " |          The type used to represent the intermediate results. Defaults\n",
      " |          to the data-type of the output array if this is provided, or\n",
      " |          the data-type of the input array if no output array is provided.\n",
      " |      out : ndarray, optional\n",
      " |          A location into which the result is stored. If not provided, a\n",
      " |          freshly-allocated array is returned.\n",
      " |      keepdims : bool, optional\n",
      " |          If this is set to True, the axes which are reduced are left\n",
      " |          in the result as dimensions with size one. With this option,\n",
      " |          the result will broadcast correctly against the original `arr`.\n",
      " |      \n",
      " |          .. versionadded:: 1.7.0\n",
      " |      \n",
      " |      Returns\n",
      " |      -------\n",
      " |      r : ndarray\n",
      " |          The reduced array. If `out` was supplied, `r` is a reference to it.\n",
      " |      \n",
      " |      Examples\n",
      " |      --------\n",
      " |      >>> np.multiply.reduce([2,3,5])\n",
      " |      30\n",
      " |      \n",
      " |      A multi-dimensional array example:\n",
      " |      \n",
      " |      >>> X = np.arange(8).reshape((2,2,2))\n",
      " |      >>> X\n",
      " |      array([[[0, 1],\n",
      " |              [2, 3]],\n",
      " |             [[4, 5],\n",
      " |              [6, 7]]])\n",
      " |      >>> np.add.reduce(X, 0)\n",
      " |      array([[ 4,  6],\n",
      " |             [ 8, 10]])\n",
      " |      >>> np.add.reduce(X) # confirm: default axis value is 0\n",
      " |      array([[ 4,  6],\n",
      " |             [ 8, 10]])\n",
      " |      >>> np.add.reduce(X, 1)\n",
      " |      array([[ 2,  4],\n",
      " |             [10, 12]])\n",
      " |      >>> np.add.reduce(X, 2)\n",
      " |      array([[ 1,  5],\n",
      " |             [ 9, 13]])\n",
      " |  \n",
      " |  reduceat(...)\n",
      " |      reduceat(a, indices, axis=0, dtype=None, out=None)\n",
      " |      \n",
      " |      Performs a (local) reduce with specified slices over a single axis.\n",
      " |      \n",
      " |      For i in ``range(len(indices))``, `reduceat` computes\n",
      " |      ``ufunc.reduce(a[indices[i]:indices[i+1]])``, which becomes the i-th\n",
      " |      generalized \"row\" parallel to `axis` in the final result (i.e., in a\n",
      " |      2-D array, for example, if `axis = 0`, it becomes the i-th row, but if\n",
      " |      `axis = 1`, it becomes the i-th column).  There are three exceptions to this:\n",
      " |      \n",
      " |      * when ``i = len(indices) - 1`` (so for the last index),\n",
      " |        ``indices[i+1] = a.shape[axis]``.\n",
      " |      * if ``indices[i] >= indices[i + 1]``, the i-th generalized \"row\" is\n",
      " |        simply ``a[indices[i]]``.\n",
      " |      * if ``indices[i] >= len(a)`` or ``indices[i] < 0``, an error is raised.\n",
      " |      \n",
      " |      The shape of the output depends on the size of `indices`, and may be\n",
      " |      larger than `a` (this happens if ``len(indices) > a.shape[axis]``).\n",
      " |      \n",
      " |      Parameters\n",
      " |      ----------\n",
      " |      a : array_like\n",
      " |          The array to act on.\n",
      " |      indices : array_like\n",
      " |          Paired indices, comma separated (not colon), specifying slices to\n",
      " |          reduce.\n",
      " |      axis : int, optional\n",
      " |          The axis along which to apply the reduceat.\n",
      " |      dtype : data-type code, optional\n",
      " |          The type used to represent the intermediate results. Defaults\n",
      " |          to the data type of the output array if this is provided, or\n",
      " |          the data type of the input array if no output array is provided.\n",
      " |      out : ndarray, optional\n",
      " |          A location into which the result is stored. If not provided a\n",
      " |          freshly-allocated array is returned.\n",
      " |      \n",
      " |      Returns\n",
      " |      -------\n",
      " |      r : ndarray\n",
      " |          The reduced values. If `out` was supplied, `r` is a reference to\n",
      " |          `out`.\n",
      " |      \n",
      " |      Notes\n",
      " |      -----\n",
      " |      A descriptive example:\n",
      " |      \n",
      " |      If `a` is 1-D, the function `ufunc.accumulate(a)` is the same as\n",
      " |      ``ufunc.reduceat(a, indices)[::2]`` where `indices` is\n",
      " |      ``range(len(array) - 1)`` with a zero placed\n",
      " |      in every other element:\n",
      " |      ``indices = zeros(2 * len(a) - 1)``, ``indices[1::2] = range(1, len(a))``.\n",
      " |      \n",
      " |      Don't be fooled by this attribute's name: `reduceat(a)` is not\n",
      " |      necessarily smaller than `a`.\n",
      " |      \n",
      " |      Examples\n",
      " |      --------\n",
      " |      To take the running sum of four successive values:\n",
      " |      \n",
      " |      >>> np.add.reduceat(np.arange(8),[0,4, 1,5, 2,6, 3,7])[::2]\n",
      " |      array([ 6, 10, 14, 18])\n",
      " |      \n",
      " |      A 2-D example:\n",
      " |      \n",
      " |      >>> x = np.linspace(0, 15, 16).reshape(4,4)\n",
      " |      >>> x\n",
      " |      array([[  0.,   1.,   2.,   3.],\n",
      " |             [  4.,   5.,   6.,   7.],\n",
      " |             [  8.,   9.,  10.,  11.],\n",
      " |             [ 12.,  13.,  14.,  15.]])\n",
      " |      \n",
      " |      ::\n",
      " |      \n",
      " |       # reduce such that the result has the following five rows:\n",
      " |       # [row1 + row2 + row3]\n",
      " |       # [row4]\n",
      " |       # [row2]\n",
      " |       # [row3]\n",
      " |       # [row1 + row2 + row3 + row4]\n",
      " |      \n",
      " |      >>> np.add.reduceat(x, [0, 3, 1, 2, 0])\n",
      " |      array([[ 12.,  15.,  18.,  21.],\n",
      " |             [ 12.,  13.,  14.,  15.],\n",
      " |             [  4.,   5.,   6.,   7.],\n",
      " |             [  8.,   9.,  10.,  11.],\n",
      " |             [ 24.,  28.,  32.,  36.]])\n",
      " |      \n",
      " |      ::\n",
      " |      \n",
      " |       # reduce such that result has the following two columns:\n",
      " |       # [col1 * col2 * col3, col4]\n",
      " |      \n",
      " |      >>> np.multiply.reduceat(x, [0, 3], 1)\n",
      " |      array([[    0.,     3.],\n",
      " |             [  120.,     7.],\n",
      " |             [  720.,    11.],\n",
      " |             [ 2184.,    15.]])\n",
      " |  \n",
      " |  ----------------------------------------------------------------------\n",
      " |  Data descriptors defined here:\n",
      " |  \n",
      " |  identity\n",
      " |      The identity value.\n",
      " |      \n",
      " |      Data attribute containing the identity element for the ufunc, if it has one.\n",
      " |      If it does not, the attribute value is None.\n",
      " |      \n",
      " |      Examples\n",
      " |      --------\n",
      " |      >>> np.add.identity\n",
      " |      0\n",
      " |      >>> np.multiply.identity\n",
      " |      1\n",
      " |      >>> np.power.identity\n",
      " |      1\n",
      " |      >>> print(np.exp.identity)\n",
      " |      None\n",
      " |  \n",
      " |  nargs\n",
      " |      The number of arguments.\n",
      " |      \n",
      " |      Data attribute containing the number of arguments the ufunc takes, including\n",
      " |      optional ones.\n",
      " |      \n",
      " |      Notes\n",
      " |      -----\n",
      " |      Typically this value will be one more than what you might expect because all\n",
      " |      ufuncs take  the optional \"out\" argument.\n",
      " |      \n",
      " |      Examples\n",
      " |      --------\n",
      " |      >>> np.add.nargs\n",
      " |      3\n",
      " |      >>> np.multiply.nargs\n",
      " |      3\n",
      " |      >>> np.power.nargs\n",
      " |      3\n",
      " |      >>> np.exp.nargs\n",
      " |      2\n",
      " |  \n",
      " |  nin\n",
      " |      The number of inputs.\n",
      " |      \n",
      " |      Data attribute containing the number of arguments the ufunc treats as input.\n",
      " |      \n",
      " |      Examples\n",
      " |      --------\n",
      " |      >>> np.add.nin\n",
      " |      2\n",
      " |      >>> np.multiply.nin\n",
      " |      2\n",
      " |      >>> np.power.nin\n",
      " |      2\n",
      " |      >>> np.exp.nin\n",
      " |      1\n",
      " |  \n",
      " |  nout\n",
      " |      The number of outputs.\n",
      " |      \n",
      " |      Data attribute containing the number of arguments the ufunc treats as output.\n",
      " |      \n",
      " |      Notes\n",
      " |      -----\n",
      " |      Since all ufuncs can take output arguments, this will always be (at least) 1.\n",
      " |      \n",
      " |      Examples\n",
      " |      --------\n",
      " |      >>> np.add.nout\n",
      " |      1\n",
      " |      >>> np.multiply.nout\n",
      " |      1\n",
      " |      >>> np.power.nout\n",
      " |      1\n",
      " |      >>> np.exp.nout\n",
      " |      1\n",
      " |  \n",
      " |  ntypes\n",
      " |      The number of types.\n",
      " |      \n",
      " |      The number of numerical NumPy types - of which there are 18 total - on which\n",
      " |      the ufunc can operate.\n",
      " |      \n",
      " |      See Also\n",
      " |      --------\n",
      " |      numpy.ufunc.types\n",
      " |      \n",
      " |      Examples\n",
      " |      --------\n",
      " |      >>> np.add.ntypes\n",
      " |      18\n",
      " |      >>> np.multiply.ntypes\n",
      " |      18\n",
      " |      >>> np.power.ntypes\n",
      " |      17\n",
      " |      >>> np.exp.ntypes\n",
      " |      7\n",
      " |      >>> np.remainder.ntypes\n",
      " |      14\n",
      " |  \n",
      " |  signature\n",
      " |  \n",
      " |  types\n",
      " |      Returns a list with types grouped input->output.\n",
      " |      \n",
      " |      Data attribute listing the data-type \"Domain-Range\" groupings the ufunc can\n",
      " |      deliver. The data-types are given using the character codes.\n",
      " |      \n",
      " |      See Also\n",
      " |      --------\n",
      " |      numpy.ufunc.ntypes\n",
      " |      \n",
      " |      Examples\n",
      " |      --------\n",
      " |      >>> np.add.types\n",
      " |      ['??->?', 'bb->b', 'BB->B', 'hh->h', 'HH->H', 'ii->i', 'II->I', 'll->l',\n",
      " |      'LL->L', 'qq->q', 'QQ->Q', 'ff->f', 'dd->d', 'gg->g', 'FF->F', 'DD->D',\n",
      " |      'GG->G', 'OO->O']\n",
      " |      \n",
      " |      >>> np.multiply.types\n",
      " |      ['??->?', 'bb->b', 'BB->B', 'hh->h', 'HH->H', 'ii->i', 'II->I', 'll->l',\n",
      " |      'LL->L', 'qq->q', 'QQ->Q', 'ff->f', 'dd->d', 'gg->g', 'FF->F', 'DD->D',\n",
      " |      'GG->G', 'OO->O']\n",
      " |      \n",
      " |      >>> np.power.types\n",
      " |      ['bb->b', 'BB->B', 'hh->h', 'HH->H', 'ii->i', 'II->I', 'll->l', 'LL->L',\n",
      " |      'qq->q', 'QQ->Q', 'ff->f', 'dd->d', 'gg->g', 'FF->F', 'DD->D', 'GG->G',\n",
      " |      'OO->O']\n",
      " |      \n",
      " |      >>> np.exp.types\n",
      " |      ['f->f', 'd->d', 'g->g', 'F->F', 'D->D', 'G->G', 'O->O']\n",
      " |      \n",
      " |      >>> np.remainder.types\n",
      " |      ['bb->b', 'BB->B', 'hh->h', 'HH->H', 'ii->i', 'II->I', 'll->l', 'LL->L',\n",
      " |      'qq->q', 'QQ->Q', 'ff->f', 'dd->d', 'gg->g', 'OO->O']\n",
      "\n"
     ]
    }
   ],
   "source": [
    "import numpy as np\n",
    "# import numpy as np means we will reference numpy by typing np.\n",
    "# If you are very confused about using a module in python, either google it, or try using the help function\n",
    "\n",
    "# help(np) #This will pull all of the documention! Numpy is huge so it is probably better to call help\n",
    "# on one of numpy's modules \n",
    "# Uncomment by deleting the first hashtag and see what happens!\n",
    "help(np.add)\n",
    "\n"
   ]
  },
  {
   "cell_type": "markdown",
   "metadata": {
    "slideshow": {
     "slide_type": "slide"
    }
   },
   "source": [
    "The following code initializes a vector and stores it in a variable $x$"
   ]
  },
  {
   "cell_type": "code",
   "execution_count": 46,
   "metadata": {
    "slideshow": {
     "slide_type": "slide"
    }
   },
   "outputs": [
    {
     "name": "stdout",
     "output_type": "stream",
     "text": [
      "[ 1 -3  4  2 -7  8  9]\n",
      "[ True  True  True  True  True  True  True]\n",
      "False\n"
     ]
    }
   ],
   "source": [
    "x = np.array([1,-3,4,2,-7,8,9])\n",
    "print(x) \n",
    "# Note that this is NOT the same as [1,-3,4,2,-7,8,9]\n",
    "# But if you use ==, python evalautes it termwise\n",
    "print(x == [1,-3,4,2,-7,8,9])\n",
    "# But\n",
    "print(type(x) == type([1,-3,4,2,-7,8,9]))"
   ]
  },
  {
   "cell_type": "code",
   "execution_count": 47,
   "metadata": {
    "slideshow": {
     "slide_type": "slide"
    }
   },
   "outputs": [
    {
     "name": "stdout",
     "output_type": "stream",
     "text": [
      "[ True  True  True  True  True  True  True]\n",
      "False\n",
      "<class 'list'> <class 'numpy.ndarray'>\n"
     ]
    }
   ],
   "source": [
    "y = [1,-3,4,2,-7,8,9]\n",
    "print(x == y) #compares each of the elements!\n",
    "print(type(x) == type(y))\n",
    "print(type(y), type(x))\n",
    "#while they contain the same numbers, the underlying opperations that can be performed are very differnt! \n",
    "#We will see examples of this below "
   ]
  },
  {
   "cell_type": "markdown",
   "metadata": {
    "slideshow": {
     "slide_type": "slide"
    }
   },
   "source": [
    "# Adding Vectors in Python\n",
    "- Try performing basic operations with your newly created vector!"
   ]
  },
  {
   "cell_type": "code",
   "execution_count": 48,
   "metadata": {
    "slideshow": {
     "slide_type": "slide"
    }
   },
   "outputs": [
    {
     "name": "stdout",
     "output_type": "stream",
     "text": [
      "[  2  -6   8   4 -14  16  18]\n",
      "[ 2 -2  5  3 -6  9 10]\n",
      "Error! You cannot add integers to a list!\n"
     ]
    }
   ],
   "source": [
    "print(x + x )\n",
    "\n",
    "# When you add a real number to an array type in python, it interprets the integer as a vector\n",
    "# In particular, the vector will be the same dimension as the other vector you add it too. \n",
    "# Every entry will be that scalaer.\n",
    "print(x + 1) \n",
    "\n",
    "try:\n",
    "    y + 1\n",
    "except:\n",
    "    print(\"Error! You cannot add integers to a list!\")"
   ]
  },
  {
   "cell_type": "code",
   "execution_count": 49,
   "metadata": {
    "slideshow": {
     "slide_type": "slide"
    }
   },
   "outputs": [
    {
     "name": "stdout",
     "output_type": "stream",
     "text": [
      "[ 10 -30  40  20 -70  80  90]\n",
      "\n",
      "[1, -3, 4, 2, -7, 8, 9, 1, -3, 4, 2, -7, 8, 9, 1, -3, 4, 2, -7, 8, 9, 1, -3, 4, 2, -7, 8, 9, 1, -3, 4, 2, -7, 8, 9, 1, -3, 4, 2, -7, 8, 9, 1, -3, 4, 2, -7, 8, 9, 1, -3, 4, 2, -7, 8, 9, 1, -3, 4, 2, -7, 8, 9, 1, -3, 4, 2, -7, 8, 9]\n"
     ]
    }
   ],
   "source": [
    "# Multiplication scales each entry by that real number\n",
    "print(x * 10)\n",
    "print()\n",
    "print(y * 10)"
   ]
  },
  {
   "cell_type": "code",
   "execution_count": 50,
   "metadata": {
    "slideshow": {
     "slide_type": "slide"
    }
   },
   "outputs": [
    {
     "name": "stdout",
     "output_type": "stream",
     "text": [
      "[ 0.2 -0.6  0.8  0.4 -1.4  1.6  1.8]\n",
      "Error! Dividing arbitrary lists doesn't make sense!\n"
     ]
    }
   ],
   "source": [
    "print(x / 5)\n",
    "try:\n",
    "    print(y/5) \n",
    "except: \n",
    "    print(\"Error! Dividing arbitrary lists doesn't make sense!\")"
   ]
  },
  {
   "cell_type": "code",
   "execution_count": 51,
   "metadata": {
    "slideshow": {
     "slide_type": "slide"
    }
   },
   "outputs": [
    {
     "name": "stdout",
     "output_type": "stream",
     "text": [
      "[  2  -6   8   4 -14  16  18]\n",
      "[1, -3, 4, 2, -7, 8, 9, 1, -3, 4, 2, -7, 8, 9]\n"
     ]
    }
   ],
   "source": [
    "print(x + x)\n",
    "print(y + y)"
   ]
  },
  {
   "cell_type": "code",
   "execution_count": 52,
   "metadata": {
    "slideshow": {
     "slide_type": "slide"
    }
   },
   "outputs": [
    {
     "name": "stdout",
     "output_type": "stream",
     "text": [
      "[ 1  9 16  4 49 64 81]\n",
      "Error! Exponentiation of lists does not make sense!\n"
     ]
    }
   ],
   "source": [
    "print(x ** 2)\n",
    "try:\n",
    "    print(y ** 2)\n",
    "except:\n",
    "    print(\"Error! Exponentiation of lists does not make sense!\")"
   ]
  },
  {
   "cell_type": "markdown",
   "metadata": {
    "slideshow": {
     "slide_type": "slide"
    }
   },
   "source": [
    "Notice that if we don't store the opperation in a variable, x remains unchanged. "
   ]
  },
  {
   "cell_type": "code",
   "execution_count": 53,
   "metadata": {
    "slideshow": {
     "slide_type": "slide"
    }
   },
   "outputs": [
    {
     "data": {
      "text/plain": [
       "array([ 1, -3,  4,  2, -7,  8,  9])"
      ]
     },
     "execution_count": 53,
     "metadata": {},
     "output_type": "execute_result"
    }
   ],
   "source": [
    "x"
   ]
  },
  {
   "cell_type": "markdown",
   "metadata": {
    "slideshow": {
     "slide_type": "slide"
    }
   },
   "source": [
    "# Making Vectors in python\n",
    "- If your data has some structure, you can use python functions to generate vectors for you!"
   ]
  },
  {
   "cell_type": "code",
   "execution_count": 54,
   "metadata": {
    "slideshow": {
     "slide_type": "slide"
    }
   },
   "outputs": [
    {
     "data": {
      "text/plain": [
       "array([0, 1, 2, 3, 4, 5, 6, 7, 8, 9])"
      ]
     },
     "execution_count": 54,
     "metadata": {},
     "output_type": "execute_result"
    }
   ],
   "source": [
    "y=np.array(range(10))\n",
    "y"
   ]
  },
  {
   "cell_type": "markdown",
   "metadata": {
    "slideshow": {
     "slide_type": "slide"
    }
   },
   "source": [
    "# The first number is 0\n",
    "- Notice that Python starts counting at zero! IE, the FIRST index in the vector is index 0. \n",
    "- The last index of the vector is the length of the vector minus 1."
   ]
  },
  {
   "cell_type": "markdown",
   "metadata": {
    "slideshow": {
     "slide_type": "slide"
    }
   },
   "source": [
    "# You can still slice vectors"
   ]
  },
  {
   "cell_type": "code",
   "execution_count": 55,
   "metadata": {
    "slideshow": {
     "slide_type": "slide"
    }
   },
   "outputs": [
    {
     "data": {
      "text/plain": [
       "array([1, 2, 3, 4, 5, 6, 7, 8, 9])"
      ]
     },
     "execution_count": 55,
     "metadata": {},
     "output_type": "execute_result"
    }
   ],
   "source": [
    "y[1::]"
   ]
  },
  {
   "cell_type": "code",
   "execution_count": 56,
   "metadata": {
    "slideshow": {
     "slide_type": "slide"
    }
   },
   "outputs": [
    {
     "data": {
      "text/plain": [
       "array([9, 8, 7, 6, 5, 4, 3, 2, 1, 0])"
      ]
     },
     "execution_count": 56,
     "metadata": {},
     "output_type": "execute_result"
    }
   ],
   "source": [
    "y[::-1]"
   ]
  },
  {
   "cell_type": "code",
   "execution_count": 57,
   "metadata": {
    "slideshow": {
     "slide_type": "slide"
    }
   },
   "outputs": [
    {
     "data": {
      "text/plain": [
       "array([1, 2, 3, 4, 5, 6, 7, 8, 9])"
      ]
     },
     "execution_count": 57,
     "metadata": {},
     "output_type": "execute_result"
    }
   ],
   "source": [
    "y[1:10] #notice the last value is NOT included"
   ]
  },
  {
   "cell_type": "code",
   "execution_count": 58,
   "metadata": {
    "slideshow": {
     "slide_type": "slide"
    }
   },
   "outputs": [
    {
     "data": {
      "text/plain": [
       "array([ 2,  4,  6,  8, 10, 12, 14, 16, 18, 20])"
      ]
     },
     "execution_count": 58,
     "metadata": {},
     "output_type": "execute_result"
    }
   ],
   "source": [
    "z = np.array(range(2,21,2)) # build a vector of even values form 2 to 20 inclusive \n",
    "z"
   ]
  },
  {
   "cell_type": "markdown",
   "metadata": {
    "slideshow": {
     "slide_type": "slide"
    }
   },
   "source": [
    "This also works for decimal values!"
   ]
  },
  {
   "cell_type": "code",
   "execution_count": 59,
   "metadata": {
    "slideshow": {
     "slide_type": "slide"
    }
   },
   "outputs": [
    {
     "data": {
      "text/plain": [
       "array([  1. ,   1.5,   2. ,   2.5,   3. ,   3.5,   4. ,   4.5,   5. ,\n",
       "         5.5,   6. ,   6.5,   7. ,   7.5,   8. ,   8.5,   9. ,   9.5,\n",
       "        10. ,  10.5,  11. ,  11.5,  12. ,  12.5,  13. ,  13.5,  14. ,\n",
       "        14.5,  15. ,  15.5,  16. ,  16.5,  17. ,  17.5,  18. ,  18.5,\n",
       "        19. ,  19.5,  20. ])"
      ]
     },
     "execution_count": 59,
     "metadata": {},
     "output_type": "execute_result"
    }
   ],
   "source": [
    "z_decimal = np.arange(1,20.5,.5) # Note we use arange isntead of range for decimal values\n",
    "z_decimal # note that it stops at the LAST integer not included.  "
   ]
  },
  {
   "cell_type": "markdown",
   "metadata": {
    "slideshow": {
     "slide_type": "slide"
    }
   },
   "source": [
    "# Plotting in Python\n",
    "- We will be using Matplotlib for plotting and graphing. \n"
   ]
  },
  {
   "cell_type": "code",
   "execution_count": 4,
   "metadata": {
    "collapsed": true,
    "slideshow": {
     "slide_type": "slide"
    }
   },
   "outputs": [],
   "source": [
    "import matplotlib.pyplot as plt # plt is how we refer to plotting\n",
    "import matplotlib as mpl \n",
    "import seaborn as sns  # Fancy plotting \n",
    "#from datetime import datetime \n",
    "%matplotlib inline\n",
    "# Plotting imports"
   ]
  },
  {
   "cell_type": "markdown",
   "metadata": {
    "collapsed": true,
    "slideshow": {
     "slide_type": "slide"
    }
   },
   "source": [
    "# In this class, we will use Matplotlib to construct plots. \n",
    "- Examples below"
   ]
  },
  {
   "cell_type": "code",
   "execution_count": 61,
   "metadata": {
    "slideshow": {
     "slide_type": "slide"
    }
   },
   "outputs": [
    {
     "name": "stdout",
     "output_type": "stream",
     "text": [
      "Help on function scatter in module matplotlib.pyplot:\n",
      "\n",
      "scatter(x, y, s=None, c=None, marker=None, cmap=None, norm=None, vmin=None, vmax=None, alpha=None, linewidths=None, verts=None, edgecolors=None, hold=None, data=None, **kwargs)\n",
      "    Make a scatter plot of `x` vs `y`\n",
      "    \n",
      "    Marker size is scaled by `s` and marker color is mapped to `c`\n",
      "    \n",
      "    Parameters\n",
      "    ----------\n",
      "    x, y : array_like, shape (n, )\n",
      "        Input data\n",
      "    \n",
      "    s : scalar or array_like, shape (n, ), optional\n",
      "        size in points^2.  Default is `rcParams['lines.markersize'] ** 2`.\n",
      "    \n",
      "    c : color, sequence, or sequence of color, optional, default: 'b'\n",
      "        `c` can be a single color format string, or a sequence of color\n",
      "        specifications of length `N`, or a sequence of `N` numbers to be\n",
      "        mapped to colors using the `cmap` and `norm` specified via kwargs\n",
      "        (see below). Note that `c` should not be a single numeric RGB or\n",
      "        RGBA sequence because that is indistinguishable from an array of\n",
      "        values to be colormapped.  `c` can be a 2-D array in which the\n",
      "        rows are RGB or RGBA, however, including the case of a single\n",
      "        row to specify the same color for all points.\n",
      "    \n",
      "    marker : `~matplotlib.markers.MarkerStyle`, optional, default: 'o'\n",
      "        See `~matplotlib.markers` for more information on the different\n",
      "        styles of markers scatter supports. `marker` can be either\n",
      "        an instance of the class or the text shorthand for a particular\n",
      "        marker.\n",
      "    \n",
      "    cmap : `~matplotlib.colors.Colormap`, optional, default: None\n",
      "        A `~matplotlib.colors.Colormap` instance or registered name.\n",
      "        `cmap` is only used if `c` is an array of floats. If None,\n",
      "        defaults to rc `image.cmap`.\n",
      "    \n",
      "    norm : `~matplotlib.colors.Normalize`, optional, default: None\n",
      "        A `~matplotlib.colors.Normalize` instance is used to scale\n",
      "        luminance data to 0, 1. `norm` is only used if `c` is an array of\n",
      "        floats. If `None`, use the default :func:`normalize`.\n",
      "    \n",
      "    vmin, vmax : scalar, optional, default: None\n",
      "        `vmin` and `vmax` are used in conjunction with `norm` to normalize\n",
      "        luminance data.  If either are `None`, the min and max of the\n",
      "        color array is used.  Note if you pass a `norm` instance, your\n",
      "        settings for `vmin` and `vmax` will be ignored.\n",
      "    \n",
      "    alpha : scalar, optional, default: None\n",
      "        The alpha blending value, between 0 (transparent) and 1 (opaque)\n",
      "    \n",
      "    linewidths : scalar or array_like, optional, default: None\n",
      "        If None, defaults to (lines.linewidth,).\n",
      "    \n",
      "    verts : sequence of (x, y), optional\n",
      "        If `marker` is None, these vertices will be used to\n",
      "        construct the marker.  The center of the marker is located\n",
      "        at (0,0) in normalized units.  The overall marker is rescaled\n",
      "        by ``s``.\n",
      "    \n",
      "    edgecolors : color or sequence of color, optional, default: None\n",
      "        If None, defaults to 'face'\n",
      "    \n",
      "        If 'face', the edge color will always be the same as\n",
      "        the face color.\n",
      "    \n",
      "        If it is 'none', the patch boundary will not\n",
      "        be drawn.\n",
      "    \n",
      "        For non-filled markers, the `edgecolors` kwarg\n",
      "        is ignored and forced to 'face' internally.\n",
      "    \n",
      "    Returns\n",
      "    -------\n",
      "    paths : `~matplotlib.collections.PathCollection`\n",
      "    \n",
      "    Other parameters\n",
      "    ----------------\n",
      "    kwargs : `~matplotlib.collections.Collection` properties\n",
      "    \n",
      "    See Also\n",
      "    --------\n",
      "    plot : to plot scatter plots when markers are identical in size and\n",
      "        color\n",
      "    \n",
      "    Notes\n",
      "    -----\n",
      "    \n",
      "    * The `plot` function will be faster for scatterplots where markers\n",
      "      don't vary in size or color.\n",
      "    \n",
      "    * Any or all of `x`, `y`, `s`, and `c` may be masked arrays, in which\n",
      "      case all masks will be combined and only unmasked points will be\n",
      "      plotted.\n",
      "    \n",
      "      Fundamentally, scatter works with 1-D arrays; `x`, `y`, `s`, and `c`\n",
      "      may be input as 2-D arrays, but within scatter they will be\n",
      "      flattened. The exception is `c`, which will be flattened only if its\n",
      "      size matches the size of `x` and `y`.\n",
      "    \n",
      "    Examples\n",
      "    --------\n",
      "    .. plot:: mpl_examples/shapes_and_collections/scatter_demo.py\n",
      "    \n",
      "    .. note::\n",
      "        In addition to the above described arguments, this function can take a\n",
      "        **data** keyword argument. If such a **data** argument is given, the\n",
      "        following arguments are replaced by **data[<arg>]**:\n",
      "    \n",
      "        * All arguments with the following names: 'c', 'color', 'edgecolors', 'facecolor', 'facecolors', 'linewidths', 's', 'x', 'y'.\n",
      "\n"
     ]
    }
   ],
   "source": [
    "help(plt.scatter)"
   ]
  },
  {
   "cell_type": "code",
   "execution_count": 62,
   "metadata": {
    "slideshow": {
     "slide_type": "slide"
    }
   },
   "outputs": [
    {
     "data": {
      "image/png": "[encoded data removed]",
      "text/plain": [
       "<matplotlib.figure.Figure at 0x11864b198>"
      ]
     },
     "metadata": {},
     "output_type": "display_data"
    }
   ],
   "source": [
    "# Scatter plit take\n",
    "\n",
    "plt.scatter([1,2,3,4], [2,3,6,8])\n",
    "plt.ylabel('some numbers')\n",
    "plt.show()"
   ]
  },
  {
   "cell_type": "code",
   "execution_count": 63,
   "metadata": {
    "slideshow": {
     "slide_type": "slide"
    }
   },
   "outputs": [
    {
     "name": "stdout",
     "output_type": "stream",
     "text": [
      "Help on function plot in module matplotlib.pyplot:\n",
      "\n",
      "plot(*args, **kwargs)\n",
      "    Plot lines and/or markers to the\n",
      "    :class:`~matplotlib.axes.Axes`.  *args* is a variable length\n",
      "    argument, allowing for multiple *x*, *y* pairs with an\n",
      "    optional format string.  For example, each of the following is\n",
      "    legal::\n",
      "    \n",
      "        plot(x, y)        # plot x and y using default line style and color\n",
      "        plot(x, y, 'bo')  # plot x and y using blue circle markers\n",
      "        plot(y)           # plot y using x as index array 0..N-1\n",
      "        plot(y, 'r+')     # ditto, but with red plusses\n",
      "    \n",
      "    If *x* and/or *y* is 2-dimensional, then the corresponding columns\n",
      "    will be plotted.\n",
      "    \n",
      "    If used with labeled data, make sure that the color spec is not\n",
      "    included as an element in data, as otherwise the last case\n",
      "    ``plot(\"v\",\"r\", data={\"v\":..., \"r\":...)``\n",
      "    can be interpreted as the first case which would do ``plot(v, r)``\n",
      "    using the default line style and color.\n",
      "    \n",
      "    If not used with labeled data (i.e., without a data argument),\n",
      "    an arbitrary number of *x*, *y*, *fmt* groups can be specified, as in::\n",
      "    \n",
      "        a.plot(x1, y1, 'g^', x2, y2, 'g-')\n",
      "    \n",
      "    Return value is a list of lines that were added.\n",
      "    \n",
      "    By default, each line is assigned a different style specified by a\n",
      "    'style cycle'.  To change this behavior, you can edit the\n",
      "    axes.prop_cycle rcParam.\n",
      "    \n",
      "    The following format string characters are accepted to control\n",
      "    the line style or marker:\n",
      "    \n",
      "    ================    ===============================\n",
      "    character           description\n",
      "    ================    ===============================\n",
      "    ``'-'``             solid line style\n",
      "    ``'--'``            dashed line style\n",
      "    ``'-.'``            dash-dot line style\n",
      "    ``':'``             dotted line style\n",
      "    ``'.'``             point marker\n",
      "    ``','``             pixel marker\n",
      "    ``'o'``             circle marker\n",
      "    ``'v'``             triangle_down marker\n",
      "    ``'^'``             triangle_up marker\n",
      "    ``'<'``             triangle_left marker\n",
      "    ``'>'``             triangle_right marker\n",
      "    ``'1'``             tri_down marker\n",
      "    ``'2'``             tri_up marker\n",
      "    ``'3'``             tri_left marker\n",
      "    ``'4'``             tri_right marker\n",
      "    ``'s'``             square marker\n",
      "    ``'p'``             pentagon marker\n",
      "    ``'*'``             star marker\n",
      "    ``'h'``             hexagon1 marker\n",
      "    ``'H'``             hexagon2 marker\n",
      "    ``'+'``             plus marker\n",
      "    ``'x'``             x marker\n",
      "    ``'D'``             diamond marker\n",
      "    ``'d'``             thin_diamond marker\n",
      "    ``'|'``             vline marker\n",
      "    ``'_'``             hline marker\n",
      "    ================    ===============================\n",
      "    \n",
      "    \n",
      "    The following color abbreviations are supported:\n",
      "    \n",
      "    ==========  ========\n",
      "    character   color\n",
      "    ==========  ========\n",
      "    'b'         blue\n",
      "    'g'         green\n",
      "    'r'         red\n",
      "    'c'         cyan\n",
      "    'm'         magenta\n",
      "    'y'         yellow\n",
      "    'k'         black\n",
      "    'w'         white\n",
      "    ==========  ========\n",
      "    \n",
      "    In addition, you can specify colors in many weird and\n",
      "    wonderful ways, including full names (``'green'``), hex\n",
      "    strings (``'#008000'``), RGB or RGBA tuples (``(0,1,0,1)``) or\n",
      "    grayscale intensities as a string (``'0.8'``).  Of these, the\n",
      "    string specifications can be used in place of a ``fmt`` group,\n",
      "    but the tuple forms can be used only as ``kwargs``.\n",
      "    \n",
      "    Line styles and colors are combined in a single format string, as in\n",
      "    ``'bo'`` for blue circles.\n",
      "    \n",
      "    The *kwargs* can be used to set line properties (any property that has\n",
      "    a ``set_*`` method).  You can use this to set a line label (for auto\n",
      "    legends), linewidth, anitialising, marker face color, etc.  Here is an\n",
      "    example::\n",
      "    \n",
      "        plot([1,2,3], [1,2,3], 'go-', label='line 1', linewidth=2)\n",
      "        plot([1,2,3], [1,4,9], 'rs',  label='line 2')\n",
      "        axis([0, 4, 0, 10])\n",
      "        legend()\n",
      "    \n",
      "    If you make multiple lines with one plot command, the kwargs\n",
      "    apply to all those lines, e.g.::\n",
      "    \n",
      "        plot(x1, y1, x2, y2, antialiased=False)\n",
      "    \n",
      "    Neither line will be antialiased.\n",
      "    \n",
      "    You do not need to use format strings, which are just\n",
      "    abbreviations.  All of the line properties can be controlled\n",
      "    by keyword arguments.  For example, you can set the color,\n",
      "    marker, linestyle, and markercolor with::\n",
      "    \n",
      "        plot(x, y, color='green', linestyle='dashed', marker='o',\n",
      "             markerfacecolor='blue', markersize=12).\n",
      "    \n",
      "    See :class:`~matplotlib.lines.Line2D` for details.\n",
      "    \n",
      "    The kwargs are :class:`~matplotlib.lines.Line2D` properties:\n",
      "    \n",
      "      agg_filter: unknown\n",
      "      alpha: float (0.0 transparent through 1.0 opaque) \n",
      "      animated: [True | False] \n",
      "      antialiased or aa: [True | False] \n",
      "      axes: an :class:`~matplotlib.axes.Axes` instance \n",
      "      clip_box: a :class:`matplotlib.transforms.Bbox` instance \n",
      "      clip_on: [True | False] \n",
      "      clip_path: [ (:class:`~matplotlib.path.Path`, :class:`~matplotlib.transforms.Transform`) | :class:`~matplotlib.patches.Patch` | None ] \n",
      "      color or c: any matplotlib color \n",
      "      contains: a callable function \n",
      "      dash_capstyle: ['butt' | 'round' | 'projecting'] \n",
      "      dash_joinstyle: ['miter' | 'round' | 'bevel'] \n",
      "      dashes: sequence of on/off ink in points \n",
      "      drawstyle: ['default' | 'steps' | 'steps-pre' | 'steps-mid' | 'steps-post'] \n",
      "      figure: a :class:`matplotlib.figure.Figure` instance \n",
      "      fillstyle: ['full' | 'left' | 'right' | 'bottom' | 'top' | 'none'] \n",
      "      gid: an id string \n",
      "      label: string or anything printable with '%s' conversion. \n",
      "      linestyle or ls: ['solid' | 'dashed', 'dashdot', 'dotted' | (offset, on-off-dash-seq) | ``'-'`` | ``'--'`` | ``'-.'`` | ``':'`` | ``'None'`` | ``' '`` | ``''``]\n",
      "      linewidth or lw: float value in points \n",
      "      marker: :mod:`A valid marker style <matplotlib.markers>`\n",
      "      markeredgecolor or mec: any matplotlib color \n",
      "      markeredgewidth or mew: float value in points \n",
      "      markerfacecolor or mfc: any matplotlib color \n",
      "      markerfacecoloralt or mfcalt: any matplotlib color \n",
      "      markersize or ms: float \n",
      "      markevery: [None | int | length-2 tuple of int | slice | list/array of int | float | length-2 tuple of float]\n",
      "      path_effects: unknown\n",
      "      picker: float distance in points or callable pick function ``fn(artist, event)`` \n",
      "      pickradius: float distance in points \n",
      "      rasterized: [True | False | None] \n",
      "      sketch_params: unknown\n",
      "      snap: unknown\n",
      "      solid_capstyle: ['butt' | 'round' |  'projecting'] \n",
      "      solid_joinstyle: ['miter' | 'round' | 'bevel'] \n",
      "      transform: a :class:`matplotlib.transforms.Transform` instance \n",
      "      url: a url string \n",
      "      visible: [True | False] \n",
      "      xdata: 1D array \n",
      "      ydata: 1D array \n",
      "      zorder: any number \n",
      "    \n",
      "    kwargs *scalex* and *scaley*, if defined, are passed on to\n",
      "    :meth:`~matplotlib.axes.Axes.autoscale_view` to determine\n",
      "    whether the *x* and *y* axes are autoscaled; the default is\n",
      "    *True*.\n",
      "    \n",
      "    .. note::\n",
      "        In addition to the above described arguments, this function can take a\n",
      "        **data** keyword argument. If such a **data** argument is given, the\n",
      "        following arguments are replaced by **data[<arg>]**:\n",
      "    \n",
      "        * All arguments with the following names: 'x', 'y'.\n",
      "\n"
     ]
    }
   ],
   "source": [
    "help(plt.plot)"
   ]
  },
  {
   "cell_type": "code",
   "execution_count": 64,
   "metadata": {
    "slideshow": {
     "slide_type": "slide"
    }
   },
   "outputs": [
    {
     "data": {
      "text/plain": [
       "[<matplotlib.lines.Line2D at 0x11ba97438>]"
      ]
     },
     "execution_count": 64,
     "metadata": {},
     "output_type": "execute_result"
    },
    {
     "data": {
      "image/png": "[encoded data removed]",
      "text/plain": [
       "<matplotlib.figure.Figure at 0x11b9eca58>"
      ]
     },
     "metadata": {},
     "output_type": "display_data"
    }
   ],
   "source": [
    "# Plotting a square.\n",
    "plt.figure(num=None, figsize=(8, 8), dpi=89, facecolor='w', edgecolor='k')\n",
    "plt.plot([0,1],[0,0]) # Line connecting (0,0) to (1,0)\n",
    "plt.plot([0,0],[0,1]) # Line connecting (0,0) to (0,1)\n",
    "plt.plot([0,1],[1,1]) # Line connecting (0,1) to (1,1)\n",
    "plt.plot([1,1],[0,1]) # Line connecting (1,0) to (1,1)"
   ]
  },
  {
   "cell_type": "code",
   "execution_count": 65,
   "metadata": {
    "collapsed": true,
    "slideshow": {
     "slide_type": "slide"
    }
   },
   "outputs": [],
   "source": [
    "# Challenge problem Complete the following function\n",
    "def plot_parallelogram(c0,c1,c2,c3):\n",
    "    \"\"\"Plots a square with corners defined by all pairs of c0,c1,c2,c3\n",
    "    You may assume that the corners do indeed define a parallelogram\"\"\"\n",
    "    plt.figure(num=None, figsize=(8, 8), dpi=89, facecolor='w', edgecolor='k')\n",
    "    plt.show()\n",
    "    return"
   ]
  },
  {
   "cell_type": "code",
   "execution_count": 6,
   "metadata": {
    "slideshow": {
     "slide_type": "slide"
    }
   },
   "outputs": [
    {
     "data": {
      "image/png": "[encoded data removed]",
      "text/plain": [
       "<matplotlib.figure.Figure at 0x116d979b0>"
      ]
     },
     "metadata": {},
     "output_type": "display_data"
    }
   ],
   "source": [
    "import numpy as np\n",
    "# Super challenge problem: Write python code to plot a regular polygon centered at zero with n sides\n",
    "def plot_n_polygon(r,N, rot):\n",
    "    if rot==0:\n",
    "        return\n",
    "    x = np.zeros(N)\n",
    "    y = np.zeros(N)\n",
    "    plt.xlim(-1*(r+.5),r+.5)\n",
    "    plt.ylim(-1*(r+.5),r+.5)\n",
    "    plt.gca().set_aspect('equal', adjustable='box')\n",
    "    for n in range(1,N+1):\n",
    "        x[n-1] = r * np.cos((2*np.pi*n/N) + np.pi/rot) #IE Nth roots of unity -\n",
    "        y[n-1] = r * np.sin((2*np.pi*n/N) + np.pi/rot)\n",
    "    for i in range(N):\n",
    "        #plt.scatter(x[i], y[i])\n",
    "        j = (i +1) % N\n",
    "        #print(j,N)\n",
    "        plt.plot([x[i],x[j]], [y[i], y[j]])\n",
    "    #plt.show()\n",
    "    #print(x,y)\n",
    "\n",
    "#plot_n_polygon(1,8,1)\n",
    "#[plot_n_polygon(1,i) for i in range(1,20)]\n",
    "[plot_n_polygon(1,100,i) for i in range(-100,100)] #Notice that as N gets large,it gets closer to being a circle\n",
    "#plot_n_polygon(1,500,1)\n",
    "plt.show()"
   ]
  },
  {
   "cell_type": "code",
   "execution_count": 67,
   "metadata": {
    "slideshow": {
     "slide_type": "slide"
    }
   },
   "outputs": [
    {
     "data": {
      "text/plain": [
       "[<matplotlib.lines.Line2D at 0x11d19ae48>]"
      ]
     },
     "execution_count": 67,
     "metadata": {},
     "output_type": "execute_result"
    },
    {
     "data": {
      "image/png": "[encoded data removed]",
      "text/plain": [
       "<matplotlib.figure.Figure at 0x11baeeb38>"
      ]
     },
     "metadata": {},
     "output_type": "display_data"
    }
   ],
   "source": [
    "x=np.arange(0,2*np.pi,.25)\n",
    "y=np.sin(x)\n",
    "plt.plot(x,y)"
   ]
  },
  {
   "cell_type": "code",
   "execution_count": 68,
   "metadata": {
    "slideshow": {
     "slide_type": "slide"
    }
   },
   "outputs": [
    {
     "data": {
      "image/png": "[encoded data removed]",
      "text/plain": [
       "<matplotlib.figure.Figure at 0x11d1dec50>"
      ]
     },
     "metadata": {},
     "output_type": "display_data"
    }
   ],
   "source": [
    "t = np.arange(0, 5, 0.2)\n",
    "\n",
    "# red dashes, blue squares and green triangles\n",
    "plt.plot(t, t, 'r--', t, t**2, 'bs', t, t**3, 'g^')\n",
    "plt.show()\n"
   ]
  },
  {
   "cell_type": "code",
   "execution_count": 69,
   "metadata": {
    "slideshow": {
     "slide_type": "slide"
    }
   },
   "outputs": [
    {
     "data": {
      "image/png": "[encoded data removed]",
      "text/plain": [
       "<matplotlib.figure.Figure at 0x11ce5ae10>"
      ]
     },
     "metadata": {},
     "output_type": "display_data"
    }
   ],
   "source": [
    "def f(t):\n",
    "    return np.exp(-t) * np.cos(2*np.pi*t)\n",
    "\n",
    "t1 = np.arange(0.0, 5.0, 0.1)\n",
    "t2 = np.arange(0.0, 5.0, 0.02)\n",
    "\n",
    "plt.figure(1)\n",
    "plt.subplot(211)\n",
    "plt.plot(t1, f(t1), 'bo', t2, f(t2), 'k')\n",
    "\n",
    "plt.subplot(212)\n",
    "plt.plot(t2, np.cos(2*np.pi*t2), 'r--')\n",
    "plt.show()"
   ]
  },
  {
   "cell_type": "code",
   "execution_count": 70,
   "metadata": {
    "slideshow": {
     "slide_type": "slide"
    }
   },
   "outputs": [
    {
     "data": {
      "image/png": "[encoded data removed]",
      "text/plain": [
       "<matplotlib.figure.Figure at 0x11bb46198>"
      ]
     },
     "metadata": {},
     "output_type": "display_data"
    }
   ],
   "source": [
    "import numpy as np\n",
    "import matplotlib.pyplot as plt\n",
    "\n",
    "ax = plt.subplot(111)\n",
    "\n",
    "t = np.arange(0.0, 5.0, 0.01)\n",
    "s = np.cos(2*np.pi*t)\n",
    "line, = plt.plot(t, s, lw=2)\n",
    "\n",
    "plt.annotate('local max', xy=(2, 1), xytext=(3, 1.5),\n",
    "            arrowprops=dict(facecolor='black', shrink=0.05),\n",
    "            )\n",
    "\n",
    "plt.ylim(-2,2)\n",
    "plt.show()"
   ]
  },
  {
   "cell_type": "code",
   "execution_count": 71,
   "metadata": {
    "slideshow": {
     "slide_type": "slide"
    }
   },
   "outputs": [
    {
     "data": {
      "text/plain": [
       "<matplotlib.lines.Line2D at 0x11c897ef0>"
      ]
     },
     "execution_count": 71,
     "metadata": {},
     "output_type": "execute_result"
    },
    {
     "data": {
      "image/png": "[encoded data removed]",
      "text/plain": [
       "<matplotlib.figure.Figure at 0x11d22e1d0>"
      ]
     },
     "metadata": {},
     "output_type": "display_data"
    }
   ],
   "source": [
    "np.random.seed(0)\n",
    "\n",
    "x, y = np.random.randn(2, 100)\n",
    "fig = plt.figure()\n",
    "ax1 = fig.add_subplot(211)\n",
    "ax1.xcorr(x, y, usevlines=True, maxlags=50, normed=True, lw=2)\n",
    "ax1.grid(True)\n",
    "ax1.axhline(0, color='black', lw=2)\n",
    "\n",
    "ax2 = fig.add_subplot(212, sharex=ax1)\n",
    "ax2.acorr(x, usevlines=True, normed=True, maxlags=50, lw=2)\n",
    "ax2.grid(True)\n",
    "ax2.axhline(0, color='black', lw=2)\n"
   ]
  },
  {
   "cell_type": "markdown",
   "metadata": {
    "slideshow": {
     "slide_type": "slide"
    }
   },
   "source": [
    "$f(x)=3x^2+2$"
   ]
  },
  {
   "cell_type": "code",
   "execution_count": 72,
   "metadata": {
    "slideshow": {
     "slide_type": "slide"
    }
   },
   "outputs": [
    {
     "name": "stdout",
     "output_type": "stream",
     "text": [
      "zero = 0\n"
     ]
    }
   ],
   "source": [
    "# Practice problems\n",
    "# Computes the integers 0 through 4 using exactly 4 fours.\n",
    "#\n",
    "\n",
    "zero = 4 + 4 - 4 - 4\n",
    "print('zero =', zero)\n",
    "\n",
    "# Complete the rest of the program below.\n",
    "# There are multiple paths to a solution!\n",
    "# For example...\n",
    "zero_alternate = 4//4 - 4//4\n",
    "\n",
    "# Complete me\n",
    "one = 0\n",
    "two = 0\n",
    "three = 0 \n",
    "four = 0"
   ]
  },
  {
   "cell_type": "markdown",
   "metadata": {
    "slideshow": {
     "slide_type": "slide"
    }
   },
   "source": [
    "Use pi and/or e to create the list [2, 7] and assign it to the variable answer1. Your answer should follow the format that we’ve given you for problem 0. In other words, it should look like this:\n",
    "\n",
    "# Puzzles:\n",
    "- Creating the list [2, 7] from pi and e where you put the appropriate expression to the right of the assignment operator (=). Please leave a blank line between puzzles to make things more readable.\n",
    "\n",
    "- Use pi and/or e to create the list [5, 4, 3], and assign it to the variable answer2. Here again, make sure to follow the correct format, and to leave a blank line between puzzles.\n",
    "\n",
    "- Use pi and/or e to create the list [3, 5, 7], and assign it to the variable answer3. (Optional challenge: See if you can do this with just three list operations!)\n",
    "\n",
    "- Use pi and/or e to create the list [1, 2, 3, 4, 5], and assign it to the variable answer4. (Optional challenge: See if you can do this with just three list operations!)"
   ]
  },
  {
   "cell_type": "code",
   "execution_count": 73,
   "metadata": {
    "slideshow": {
     "slide_type": "slide"
    }
   },
   "outputs": [
    {
     "name": "stdout",
     "output_type": "stream",
     "text": [
      "[2, 5, 9]\n"
     ]
    }
   ],
   "source": [
    "# List puzzles\n",
    "# You may use the following:\n",
    "# list indexing (e.g., pi[0])\n",
    "# list slicing (e.g., e[1:] or pi[2:4])\n",
    "# skip-slicing (e.g., pi[6:4:-1])\n",
    "# list concatenation (e.g., pi[:1] + e[1:]. Note that you may not use + to add values numerically.)\n",
    "# list construction (e.g., [e[2]] or [e[2], e[0]])\n",
    "\n",
    "pi = [3, 1, 4, 1, 5, 9]\n",
    "e = [2, 7, 1]\n",
    "\n",
    "# Example puzzle (puzzle 0):\n",
    "# Creating the list [2, 5, 9] from pi and e\n",
    "answer0 = [e[0]] + pi[-2:]     \n",
    "print(answer0)\n"
   ]
  },
  {
   "cell_type": "markdown",
   "metadata": {
    "slideshow": {
     "slide_type": "slide"
    }
   },
   "source": [
    "# Puzzles\n",
    "- Use b, u, and/or t to create the string 'bossy', and assign it to the variable answer5. We’ve given you the following code for this puzzle:\n",
    "- $\\texttt{answer5 = b[:3] + t[-1] + u[-1]}$\n",
    "-Note that our answer involves 5 operations: 2 uses of indexing, 1 slice, and 2 concatenations with +. (It’s actually possible to solve this puzzle using only 3 operations. Give it a try if you have time!)\n",
    "\n",
    "- Use b, u, and/or t to create the string 'universe', and assign it to the variable answer6. (Our best answer uses 3 ops.) Here again, make sure to follow the correct format, and to leave a blank line between puzzles.\n",
    "\n",
    "- Use b, u, and/or t to create the string 'roster', and assign it to the variable answer7. (Our best: 5 ops.)\n",
    "\n",
    "- Use b, u, and/or t to create the string 'boisterous', and assign it to the variable answer8. (Our best: 8 ops.)\n",
    "\n",
    "- Use b, u, and/or t to create the string 'yesyesyes', and assign it to the variable answer9. (Our best: 4 ops.)\n",
    "\n",
    "- Use b, u, and/or t to create the string 'trist', and assign it to the variable answer10. (Our best: 4 ops.)"
   ]
  },
  {
   "cell_type": "code",
   "execution_count": 74,
   "metadata": {
    "slideshow": {
     "slide_type": "slide"
    }
   },
   "outputs": [
    {
     "name": "stdout",
     "output_type": "stream",
     "text": [
      "bossy\n"
     ]
    }
   ],
   "source": [
    "# String puzzles\n",
    "# You may use the following opperations\n",
    "# string indexing (e.g., b[0])\n",
    "# string slicing (e.g., u[1:] or t[2:4])\n",
    "# skip-slicing (e.g., u[6:4:-1])\n",
    "# string concatenation (e.g., b + u)\n",
    "# string repetition (e.g., 5*b or 3*u[-1])\n",
    "# Shameless Plug...\n",
    "b = 'boston'\n",
    "u = 'university'\n",
    "t = 'terriers' # Best mascot ever :-)\n",
    "\n",
    "# Example puzzle (puzzle 5)\n",
    "# Creating the string 'bossy'\n",
    "answer5 = b[:3] + t[-1] + u[-1]\n",
    "print(answer5)"
   ]
  },
  {
   "cell_type": "markdown",
   "metadata": {
    "slideshow": {
     "slide_type": "slide"
    }
   },
   "source": [
    "# Mathematical Functions\n",
    "- Implement the following functions\n",
    "- $\\texttt{cube(x)}$ which takes an integer or a float x and returns $x^3$\n",
    "- $\\texttt{slope(x1,y1,x2,x2)}$ returns the slope of the line going through $(x_1,y_1)$ and $(x_2,y_2)$\n",
    "- $\\texttt{polynomial(x)}$ computes $x^3 + 2x -1$\n",
    "- $\\texttt{quadratic\\_formula(a,b,c)}$ takes as inputs $a,b,c$ which are coeficients to the polynomial $f(x)=ax^2+bx+c$ and returns all $x$ such that $f(x)=0$.\n",
    "- Hint: Recall the quadratic formula is $$\\frac{-b \\pm \\sqrt{b^2 -4ac}}{2a}$$\n",
    "- Math Excersise: Starting with $f(x)=ax^2 + bx +c$, complete the square to find when $f(x)=0$"
   ]
  },
  {
   "cell_type": "code",
   "execution_count": 75,
   "metadata": {
    "slideshow": {
     "slide_type": "slide"
    }
   },
   "outputs": [
    {
     "data": {
      "text/html": [
       "<img src=\"https://scontent.fbed1-1.fna.fbcdn.net/v/t1.0-9/18194981_1861919007353406_5981749541764789202_n.jpg?oh=26ff6de70160ec98460539b59f763a8f&oe=59B51246\"/>"
      ],
      "text/plain": [
       "<IPython.core.display.Image object>"
      ]
     },
     "execution_count": 75,
     "metadata": {},
     "output_type": "execute_result"
    }
   ],
   "source": [
    "Image(url = \"https://scontent.fbed1-1.fna.fbcdn.net/v/t1.0-9/18194981_1861919007353406_5981749541764789202_n.jpg?oh=26ff6de70160ec98460539b59f763a8f&oe=59B51246\")"
   ]
  },
  {
   "cell_type": "markdown",
   "metadata": {
    "slideshow": {
     "slide_type": "slide"
    }
   },
   "source": [
    "# Proof of Quadratic Formula\n",
    "- Claim: For $f(x)=ax^2+bx+c$ with $a,b,c\\in \\mathbb{R}$ and $a\\neq 0$, $$x=\\frac{-b \\pm \\sqrt{b^2 -4ac}}{2a}$$ are the solutions for $f(x)=0$\n",
    "- Proof: ..."
   ]
  },
  {
   "cell_type": "code",
   "execution_count": 76,
   "metadata": {
    "slideshow": {
     "slide_type": "slide"
    }
   },
   "outputs": [
    {
     "data": {
      "text/html": [
       "<img src=\"https://scontent.fbed1-1.fna.fbcdn.net/v/t1.0-9/18268428_458326581176011_1346394953335820520_n.jpg?oh=1741367e08f6c0a042320f3ba1b71323&oe=59AA8DB2\"/>"
      ],
      "text/plain": [
       "<IPython.core.display.Image object>"
      ]
     },
     "execution_count": 76,
     "metadata": {},
     "output_type": "execute_result"
    }
   ],
   "source": [
    "# Remember: Just because a proof arrives at the right answer, doesn't mean it is a proof. \n",
    "# Example A:\n",
    "Image(url = 'https://scontent.fbed1-1.fna.fbcdn.net/v/t1.0-9/18268428_458326581176011_1346394953335820520_n.jpg?oh=1741367e08f6c0a042320f3ba1b71323&oe=59AA8DB2')"
   ]
  },
  {
   "cell_type": "markdown",
   "metadata": {
    "slideshow": {
     "slide_type": "slide"
    }
   },
   "source": [
    "# Using Latex\n",
    "- Edit this cell (by doubleclicking the next cell) to try and typeset your proof of the quadratic formula!\n"
   ]
  },
  {
   "cell_type": "markdown",
   "metadata": {
    "slideshow": {
     "slide_type": "slide"
    }
   },
   "source": [
    "Claim: For $$f(x)=ax^2 + bx+c$$ with $a,b,c\\in \\mathbb{R}$ and $a\\neq 0$, then $f(x)=0$ for $$x=\\frac{-b \\pm \\sqrt{b^2 -4ac}}{2a}$$\n",
    "\n",
    "Proof: $ax^2+bx+c=0$. [Your proof goes here!]"
   ]
  },
  {
   "cell_type": "code",
   "execution_count": 77,
   "metadata": {
    "collapsed": true,
    "slideshow": {
     "slide_type": "slide"
    }
   },
   "outputs": [],
   "source": [
    "# Think about ways that this function might crash and protect against it!\n",
    "\n",
    "# Example: what if I passin a list to cube?\n",
    "def cube(x):\n",
    "    \"\"\"Returns the cube of an input x\"\"\"\n",
    "    return 0\n",
    "\n",
    "# Example: What if x1-x2=0?\n",
    "def slope(x1,y1,x2,y2):\n",
    "    \"\"\"Calculates the slope of the line through (x1,y1) and (x2,y2)\"\"\"\n",
    "    return 0\n",
    "# Example: What if I pass in a string?\n",
    "def polynomial(x):\n",
    "    \"\"\"Fill me in!\"\"\"\n",
    "    return 0\n",
    "\n",
    "def quadratic_formula(a,b,c):\n",
    "    \"\"\"Retruns a list of all values of x for which f(x)=ax**2+bx+c =0 \"\"\"\n",
    "    return []"
   ]
  },
  {
   "cell_type": "markdown",
   "metadata": {
    "slideshow": {
     "slide_type": "slide"
    }
   },
   "source": [
    "# Challenge Problem\n",
    "- Write a function $\\texttt{make_change(cents)}$  that takes as input a positive integer $\\texttt{cents}$ that represents a certian amount of money in cents. The function should return a list of four integers denoting number of quaters used, dimes used, nickels, and finally pennies. Note that the number of coins should be $\\textbf{minimal}$\n",
    "- For example: $\\texttt{make_change(346)}$ could be represented as [0,0,0,346] but it is not minimal!\n",
    "- It should be $\\texttt{[13, 2, 0, 1]}$ which is 13 quaters, 2 dimes 0 nickels and 1 penny. This is minimal!\n"
   ]
  },
  {
   "cell_type": "code",
   "execution_count": 80,
   "metadata": {
    "collapsed": true,
    "slideshow": {
     "slide_type": "slide"
    }
   },
   "outputs": [],
   "source": [
    "def make_change(cents):\n",
    "    q = 0 # Number of quaters\n",
    "    d = 0 # Number of dimes\n",
    "    n = 0 # Number of nickels\n",
    "    p = 0 # number of pennies\n",
    "    \n",
    "    # Your code goes here\n",
    "    return [q,d,n,p]"
   ]
  },
  {
   "cell_type": "code",
   "execution_count": 81,
   "metadata": {
    "collapsed": true,
    "slideshow": {
     "slide_type": "slide"
    }
   },
   "outputs": [],
   "source": [
    "# More coding questions \n",
    "url_0 = \"http://codingbat.com/python\"\n",
    "url_1 = \"https://www.hackerrank.com/\""
   ]
  },
  {
   "cell_type": "code",
   "execution_count": 82,
   "metadata": {
    "slideshow": {
     "slide_type": "slide"
    }
   },
   "outputs": [
    {
     "name": "stdout",
     "output_type": "stream",
     "text": [
      "Congrats and making through the first lecture!\n"
     ]
    },
    {
     "data": {
      "text/html": [
       "<img src=\"http://i.imgur.com/NRVOtRI.jpg\"/>"
      ],
      "text/plain": [
       "<IPython.core.display.Image object>"
      ]
     },
     "execution_count": 82,
     "metadata": {},
     "output_type": "execute_result"
    }
   ],
   "source": [
    "print(\"Congrats and making through the first lecture!\")\n",
    "Image(url = \"http://i.imgur.com/NRVOtRI.jpg\")"
   ]
  },
  {
   "cell_type": "code",
   "execution_count": null,
   "metadata": {
    "collapsed": true
   },
   "outputs": [],
   "source": []
  }
 ],
 "metadata": {
  "celltoolbar": "Slideshow",
  "kernelspec": {
   "display_name": "Python 3",
   "language": "python",
   "name": "python3"
  },
  "language_info": {
   "codemirror_mode": {
    "name": "ipython",
    "version": 3
   },
   "file_extension": ".py",
   "mimetype": "text/x-python",
   "name": "python",
   "nbconvert_exporter": "python",
   "pygments_lexer": "ipython3",
   "version": "3.6.0"
  }
 },
 "nbformat": 4,
 "nbformat_minor": 2
}
